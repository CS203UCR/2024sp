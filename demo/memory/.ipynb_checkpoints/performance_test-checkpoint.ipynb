{
 "cells": [
  {
   "cell_type": "code",
   "execution_count": 1,
   "id": "bca60bff-c30e-47b2-b56e-480d813a0834",
   "metadata": {},
   "outputs": [
    {
     "data": {
      "text/html": [
       "<style>h1 {font-size: 2vw;} h2 {font-size: 1.5vw;} p {font-size: 1.4vw;} div.prompt, code, output, prompt, kbd, pre, samp {font-family: 'SF Mono', 'Courier New', Courier, monospace, sans-serif !important;font-size: 1.4vw !important;}</style>"
      ],
      "text/plain": [
       "<IPython.core.display.HTML object>"
      ]
     },
     "metadata": {},
     "output_type": "display_data"
    }
   ],
   "source": [
    "# Please execute/shift-return this cell everytime you run the notebook.  Don't edit it. \n",
    "%load_ext autoreload\n",
    "%autoreload 2\n",
    "from notebook import * "
   ]
  },
  {
   "cell_type": "code",
   "execution_count": 2,
   "id": "b13efacb-3901-4371-b292-29508e40ce78",
   "metadata": {},
   "outputs": [],
   "source": [
    "! cd matrix_mul; echo \"machine,IC,Cycles,CPI,CT_ns,ET_s,DL1_miss_rate,DL1_misses,DL1_accesses\" > blockmm.csv\n",
    "! echo -n \"ivysaur_core_i7_12700,\" >>  ./matrix_mul/blockmm.csv\n",
    "! ./matrix_mul/blockmm 4096 512 >> ./matrix_mul/blockmm.csv"
   ]
  },
  {
   "cell_type": "code",
   "execution_count": 4,
   "id": "c98c6798-c984-4bac-8cc0-b312bb024b58",
   "metadata": {},
   "outputs": [],
   "source": [
    "! echo -n \"pikachu_RyZen_5700G,\" >>  /nfshome/htseng/courses/CS203/demo/memory/matrix_mul/blockmm.csv\n",
    "! echo \"yes\"| ssh htseng@escal -p 425 \"/nfshome/htseng/courses/CS203/demo/memory/matrix_mul/blockmm 4096 512 >> /nfshome/htseng/courses/CS203/demo/memory/matrix_mul/blockmm.csv\""
   ]
  },
  {
   "cell_type": "code",
   "execution_count": 5,
   "id": "63d4eb28-abcf-4350-80df-08c0a087421c",
   "metadata": {},
   "outputs": [],
   "source": [
    "! echo -n \"horsea_core_i5_9600k,\" >>  /nfshome/htseng/courses/CS203/demo/memory/matrix_mul/blockmm.csv\n",
    "! echo \"yes\"| ssh htseng@horsea \"/nfshome/htseng/courses/CS203/demo/memory/matrix_mul/blockmm 4096 512 >> /nfshome/htseng/courses/CS203/demo/memory/matrix_mul/blockmm.csv\""
   ]
  },
  {
   "cell_type": "code",
   "execution_count": 7,
   "id": "4e072b64-e1d9-4528-8000-3d659fe07ad0",
   "metadata": {},
   "outputs": [],
   "source": [
    "! echo -n \"togepi_RyZen_5700X,\" >>  /nfshome/htseng/courses/CS203/demo/memory/matrix_mul/blockmm.csv\n",
    "! echo \"yes\"| ssh htseng@togepi \"/nfshome/htseng/courses/CS203/demo/memory/matrix_mul/blockmm 4096 512 >> /nfshome/htseng/courses/CS203/demo/memory/matrix_mul/blockmm.csv\""
   ]
  },
  {
   "cell_type": "code",
   "execution_count": 9,
   "id": "7c262e9f-3b04-45ef-9672-f43690c3e2ba",
   "metadata": {},
   "outputs": [],
   "source": [
    "! echo -n \"quilava_RyZen_5500,\" >>  /nfshome/htseng/courses/CS203/demo/memory/matrix_mul/blockmm.csv\n",
    "! echo \"yes\"| ssh htseng@quilava \"/nfshome/htseng/courses/CS203/demo/memory/matrix_mul/blockmm 4096 512 >> /nfshome/htseng/courses/CS203/demo/memory/matrix_mul/blockmm.csv\""
   ]
  },
  {
   "cell_type": "code",
   "execution_count": 11,
   "id": "a3c56929-5e71-4340-95dc-aaa91666e669",
   "metadata": {},
   "outputs": [],
   "source": [
    "! echo -n \"myu_Core_i5_12500,\" >>  /nfshome/htseng/courses/CS203/demo/memory/matrix_mul/blockmm.csv\n",
    "! echo \"yes\"| ssh htseng@myu \"/nfshome/htseng/courses/CS203/demo/memory/matrix_mul/blockmm 4096 512 >> /nfshome/htseng/courses/CS203/demo/memory/matrix_mul/blockmm.csv\""
   ]
  },
  {
   "cell_type": "code",
   "execution_count": 12,
   "id": "705d36f7-0943-4af2-b934-86317af7ddc5",
   "metadata": {},
   "outputs": [
    {
     "data": {
      "text/html": [
       "<style type=\"text/css\">\n",
       "#T_1f6c2_row0_col0, #T_1f6c2_row0_col1, #T_1f6c2_row0_col2, #T_1f6c2_row0_col3, #T_1f6c2_row0_col4, #T_1f6c2_row0_col5, #T_1f6c2_row0_col6, #T_1f6c2_row0_col7, #T_1f6c2_row0_col8, #T_1f6c2_row1_col0, #T_1f6c2_row1_col1, #T_1f6c2_row1_col2, #T_1f6c2_row1_col3, #T_1f6c2_row1_col4, #T_1f6c2_row1_col5, #T_1f6c2_row1_col6, #T_1f6c2_row1_col7, #T_1f6c2_row1_col8, #T_1f6c2_row2_col0, #T_1f6c2_row2_col1, #T_1f6c2_row2_col2, #T_1f6c2_row2_col3, #T_1f6c2_row2_col4, #T_1f6c2_row2_col5, #T_1f6c2_row2_col6, #T_1f6c2_row2_col7, #T_1f6c2_row2_col8, #T_1f6c2_row3_col0, #T_1f6c2_row3_col1, #T_1f6c2_row3_col2, #T_1f6c2_row3_col3, #T_1f6c2_row3_col4, #T_1f6c2_row3_col5, #T_1f6c2_row3_col6, #T_1f6c2_row3_col7, #T_1f6c2_row3_col8, #T_1f6c2_row4_col0, #T_1f6c2_row4_col1, #T_1f6c2_row4_col2, #T_1f6c2_row4_col3, #T_1f6c2_row4_col4, #T_1f6c2_row4_col5, #T_1f6c2_row4_col6, #T_1f6c2_row4_col7, #T_1f6c2_row4_col8, #T_1f6c2_row5_col0, #T_1f6c2_row5_col1, #T_1f6c2_row5_col2, #T_1f6c2_row5_col3, #T_1f6c2_row5_col4, #T_1f6c2_row5_col5, #T_1f6c2_row5_col6, #T_1f6c2_row5_col7, #T_1f6c2_row5_col8 {\n",
       "  background-color: grey;\n",
       "  font-family: SF Mono;\n",
       "  font-size: 1.4vw;\n",
       "}\n",
       "</style>\n",
       "<table id=\"T_1f6c2\">\n",
       "  <thead>\n",
       "    <tr>\n",
       "      <th class=\"blank level0\" >&nbsp;</th>\n",
       "      <th id=\"T_1f6c2_level0_col0\" class=\"col_heading level0 col0\" >machine</th>\n",
       "      <th id=\"T_1f6c2_level0_col1\" class=\"col_heading level0 col1\" >IC</th>\n",
       "      <th id=\"T_1f6c2_level0_col2\" class=\"col_heading level0 col2\" >Cycles</th>\n",
       "      <th id=\"T_1f6c2_level0_col3\" class=\"col_heading level0 col3\" >CPI</th>\n",
       "      <th id=\"T_1f6c2_level0_col4\" class=\"col_heading level0 col4\" >CT_ns</th>\n",
       "      <th id=\"T_1f6c2_level0_col5\" class=\"col_heading level0 col5\" >ET_s</th>\n",
       "      <th id=\"T_1f6c2_level0_col6\" class=\"col_heading level0 col6\" >DL1_miss_rate</th>\n",
       "      <th id=\"T_1f6c2_level0_col7\" class=\"col_heading level0 col7\" >DL1_misses</th>\n",
       "      <th id=\"T_1f6c2_level0_col8\" class=\"col_heading level0 col8\" >DL1_accesses</th>\n",
       "    </tr>\n",
       "  </thead>\n",
       "  <tbody>\n",
       "    <tr>\n",
       "      <th id=\"T_1f6c2_level0_row0\" class=\"row_heading level0 row0\" >0</th>\n",
       "      <td id=\"T_1f6c2_row0_col0\" class=\"data row0 col0\" >ivysaur_core_i7_12700</td>\n",
       "      <td id=\"T_1f6c2_row0_col1\" class=\"data row0 col1\" >639241657173</td>\n",
       "      <td id=\"T_1f6c2_row0_col2\" class=\"data row0 col2\" >238003611836</td>\n",
       "      <td id=\"T_1f6c2_row0_col3\" class=\"data row0 col3\" >0.372322</td>\n",
       "      <td id=\"T_1f6c2_row0_col4\" class=\"data row0 col4\" >0.202564</td>\n",
       "      <td id=\"T_1f6c2_row0_col5\" class=\"data row0 col5\" >48.210930</td>\n",
       "      <td id=\"T_1f6c2_row0_col6\" class=\"data row0 col6\" >0.011619</td>\n",
       "      <td id=\"T_1f6c2_row0_col7\" class=\"data row0 col7\" >3524964271</td>\n",
       "      <td id=\"T_1f6c2_row0_col8\" class=\"data row0 col8\" >303374793593</td>\n",
       "    </tr>\n",
       "    <tr>\n",
       "      <th id=\"T_1f6c2_level0_row1\" class=\"row_heading level0 row1\" >1</th>\n",
       "      <td id=\"T_1f6c2_row1_col0\" class=\"data row1 col0\" >pikachu_RyZen_5700G</td>\n",
       "      <td id=\"T_1f6c2_row1_col1\" class=\"data row1 col1\" >639266645878</td>\n",
       "      <td id=\"T_1f6c2_row1_col2\" class=\"data row1 col2\" >307970179101</td>\n",
       "      <td id=\"T_1f6c2_row1_col3\" class=\"data row1 col3\" >0.481755</td>\n",
       "      <td id=\"T_1f6c2_row1_col4\" class=\"data row1 col4\" >0.214667</td>\n",
       "      <td id=\"T_1f6c2_row1_col5\" class=\"data row1 col5\" >66.111109</td>\n",
       "      <td id=\"T_1f6c2_row1_col6\" class=\"data row1 col6\" >0.066195</td>\n",
       "      <td id=\"T_1f6c2_row1_col7\" class=\"data row1 col7\" >19925774926</td>\n",
       "      <td id=\"T_1f6c2_row1_col8\" class=\"data row1 col8\" >301018195387</td>\n",
       "    </tr>\n",
       "    <tr>\n",
       "      <th id=\"T_1f6c2_level0_row2\" class=\"row_heading level0 row2\" >2</th>\n",
       "      <td id=\"T_1f6c2_row2_col0\" class=\"data row2 col0\" >horsea_core_i5_9600k</td>\n",
       "      <td id=\"T_1f6c2_row2_col1\" class=\"data row2 col1\" >639252864075</td>\n",
       "      <td id=\"T_1f6c2_row2_col2\" class=\"data row2 col2\" >382850253589</td>\n",
       "      <td id=\"T_1f6c2_row2_col3\" class=\"data row2 col3\" >0.598903</td>\n",
       "      <td id=\"T_1f6c2_row2_col4\" class=\"data row2 col4\" >0.222182</td>\n",
       "      <td id=\"T_1f6c2_row2_col5\" class=\"data row2 col5\" >85.062442</td>\n",
       "      <td id=\"T_1f6c2_row2_col6\" class=\"data row2 col6\" >0.068410</td>\n",
       "      <td id=\"T_1f6c2_row2_col7\" class=\"data row2 col7\" >20754456683</td>\n",
       "      <td id=\"T_1f6c2_row2_col8\" class=\"data row2 col8\" >303382871976</td>\n",
       "    </tr>\n",
       "    <tr>\n",
       "      <th id=\"T_1f6c2_level0_row3\" class=\"row_heading level0 row3\" >3</th>\n",
       "      <td id=\"T_1f6c2_row3_col0\" class=\"data row3 col0\" >togepi_RyZen_5700X</td>\n",
       "      <td id=\"T_1f6c2_row3_col1\" class=\"data row3 col1\" >639297606411</td>\n",
       "      <td id=\"T_1f6c2_row3_col2\" class=\"data row3 col2\" >359581791517</td>\n",
       "      <td id=\"T_1f6c2_row3_col3\" class=\"data row3 col3\" >0.562464</td>\n",
       "      <td id=\"T_1f6c2_row3_col4\" class=\"data row3 col4\" >0.215593</td>\n",
       "      <td id=\"T_1f6c2_row3_col5\" class=\"data row3 col5\" >77.523259</td>\n",
       "      <td id=\"T_1f6c2_row3_col6\" class=\"data row3 col6\" >0.065403</td>\n",
       "      <td id=\"T_1f6c2_row3_col7\" class=\"data row3 col7\" >21275437931</td>\n",
       "      <td id=\"T_1f6c2_row3_col8\" class=\"data row3 col8\" >325296208027</td>\n",
       "    </tr>\n",
       "    <tr>\n",
       "      <th id=\"T_1f6c2_level0_row4\" class=\"row_heading level0 row4\" >4</th>\n",
       "      <td id=\"T_1f6c2_row4_col0\" class=\"data row4 col0\" >quilava_RyZen_5500</td>\n",
       "      <td id=\"T_1f6c2_row4_col1\" class=\"data row4 col1\" >639266082658</td>\n",
       "      <td id=\"T_1f6c2_row4_col2\" class=\"data row4 col2\" >418810355986</td>\n",
       "      <td id=\"T_1f6c2_row4_col3\" class=\"data row4 col3\" >0.655142</td>\n",
       "      <td id=\"T_1f6c2_row4_col4\" class=\"data row4 col4\" >0.235756</td>\n",
       "      <td id=\"T_1f6c2_row4_col5\" class=\"data row4 col5\" >98.736971</td>\n",
       "      <td id=\"T_1f6c2_row4_col6\" class=\"data row4 col6\" >0.072077</td>\n",
       "      <td id=\"T_1f6c2_row4_col7\" class=\"data row4 col7\" >23363928591</td>\n",
       "      <td id=\"T_1f6c2_row4_col8\" class=\"data row4 col8\" >324151993085</td>\n",
       "    </tr>\n",
       "    <tr>\n",
       "      <th id=\"T_1f6c2_level0_row5\" class=\"row_heading level0 row5\" >5</th>\n",
       "      <td id=\"T_1f6c2_row5_col0\" class=\"data row5 col0\" >myu_Core_i5_12500</td>\n",
       "      <td id=\"T_1f6c2_row5_col1\" class=\"data row5 col1\" >639216468249</td>\n",
       "      <td id=\"T_1f6c2_row5_col2\" class=\"data row5 col2\" >223638223623</td>\n",
       "      <td id=\"T_1f6c2_row5_col3\" class=\"data row5 col3\" >0.349863</td>\n",
       "      <td id=\"T_1f6c2_row5_col4\" class=\"data row5 col4\" >0.218546</td>\n",
       "      <td id=\"T_1f6c2_row5_col5\" class=\"data row5 col5\" >48.875247</td>\n",
       "      <td id=\"T_1f6c2_row5_col6\" class=\"data row5 col6\" >0.011551</td>\n",
       "      <td id=\"T_1f6c2_row5_col7\" class=\"data row5 col7\" >3504052845</td>\n",
       "      <td id=\"T_1f6c2_row5_col8\" class=\"data row5 col8\" >303365489257</td>\n",
       "    </tr>\n",
       "  </tbody>\n",
       "</table>\n"
      ],
      "text/plain": [
       "<pandas.io.formats.style.Styler at 0x7ffa503d70d0>"
      ]
     },
     "metadata": {},
     "output_type": "display_data"
    }
   ],
   "source": [
    "display_df_mono(render_csv(\"matrix_mul/blockmm.csv\"))"
   ]
  },
  {
   "cell_type": "code",
   "execution_count": null,
   "id": "9f9012c6-5947-438e-9bf9-60efe97e9f04",
   "metadata": {},
   "outputs": [],
   "source": []
  },
  {
   "cell_type": "code",
   "execution_count": 13,
   "id": "d14325a4-b37f-469d-be92-06311ec2eb73",
   "metadata": {},
   "outputs": [],
   "source": [
    "! echo -n \"azelf_Core_i7_13700,\" >>  /nfshome/htseng/courses/CS203/demo/memory/matrix_mul/blockmm.csv\n",
    "! echo \"yes\"| ssh htseng@azelf \"/nfshome/htseng/courses/CS203/demo/memory/matrix_mul/blockmm 4096 512 >> /nfshome/htseng/courses/CS203/demo/memory/matrix_mul/blockmm.csv\""
   ]
  },
  {
   "cell_type": "code",
   "execution_count": 14,
   "id": "499040ae-75e7-4f3e-8b36-6b1bc1be4012",
   "metadata": {},
   "outputs": [],
   "source": [
    "! echo -n \"ninetales_RyZen_5800X3D,\" >>  /nfshome/htseng/courses/CS203/demo/memory/matrix_mul/blockmm.csv\n",
    "! echo \"yes\"| ssh htseng@ninetales \"/nfshome/htseng/courses/CS203/demo/memory/matrix_mul/blockmm 4096 512 >> /nfshome/htseng/courses/CS203/demo/memory/matrix_mul/blockmm.csv\""
   ]
  },
  {
   "cell_type": "code",
   "execution_count": 16,
   "id": "ca52bd61-f5ce-4cf5-b829-f1b8c75638bb",
   "metadata": {
    "tags": []
   },
   "outputs": [],
   "source": [
    "! echo -n \"snorlax_Core_i3_13100,\" >>  /nfshome/htseng/courses/CS203/demo/memory/matrix_mul/blockmm.csv\n",
    "! echo \"yes\"| ssh htseng@snorlax \"/nfshome/htseng/courses/CS203/demo/memory/matrix_mul/blockmm 4096 512 >> /nfshome/htseng/courses/CS203/demo/memory/matrix_mul/blockmm.csv\""
   ]
  },
  {
   "cell_type": "code",
   "execution_count": 17,
   "id": "1ece4cb2-a033-4d43-b273-c666676b9f4c",
   "metadata": {},
   "outputs": [
    {
     "data": {
      "text/html": [
       "<style type=\"text/css\">\n",
       "#T_19c77_row0_col0, #T_19c77_row0_col1, #T_19c77_row0_col2, #T_19c77_row0_col3, #T_19c77_row0_col4, #T_19c77_row0_col5, #T_19c77_row0_col6, #T_19c77_row0_col7, #T_19c77_row0_col8, #T_19c77_row1_col0, #T_19c77_row1_col1, #T_19c77_row1_col2, #T_19c77_row1_col3, #T_19c77_row1_col4, #T_19c77_row1_col5, #T_19c77_row1_col6, #T_19c77_row1_col7, #T_19c77_row1_col8, #T_19c77_row2_col0, #T_19c77_row2_col1, #T_19c77_row2_col2, #T_19c77_row2_col3, #T_19c77_row2_col4, #T_19c77_row2_col5, #T_19c77_row2_col6, #T_19c77_row2_col7, #T_19c77_row2_col8, #T_19c77_row3_col0, #T_19c77_row3_col1, #T_19c77_row3_col2, #T_19c77_row3_col3, #T_19c77_row3_col4, #T_19c77_row3_col5, #T_19c77_row3_col6, #T_19c77_row3_col7, #T_19c77_row3_col8, #T_19c77_row4_col0, #T_19c77_row4_col1, #T_19c77_row4_col2, #T_19c77_row4_col3, #T_19c77_row4_col4, #T_19c77_row4_col5, #T_19c77_row4_col6, #T_19c77_row4_col7, #T_19c77_row4_col8, #T_19c77_row5_col0, #T_19c77_row5_col1, #T_19c77_row5_col2, #T_19c77_row5_col3, #T_19c77_row5_col4, #T_19c77_row5_col5, #T_19c77_row5_col6, #T_19c77_row5_col7, #T_19c77_row5_col8, #T_19c77_row6_col0, #T_19c77_row6_col1, #T_19c77_row6_col2, #T_19c77_row6_col3, #T_19c77_row6_col4, #T_19c77_row6_col5, #T_19c77_row6_col6, #T_19c77_row6_col7, #T_19c77_row6_col8, #T_19c77_row7_col0, #T_19c77_row7_col1, #T_19c77_row7_col2, #T_19c77_row7_col3, #T_19c77_row7_col4, #T_19c77_row7_col5, #T_19c77_row7_col6, #T_19c77_row7_col7, #T_19c77_row7_col8, #T_19c77_row8_col0, #T_19c77_row8_col1, #T_19c77_row8_col2, #T_19c77_row8_col3, #T_19c77_row8_col4, #T_19c77_row8_col5, #T_19c77_row8_col6, #T_19c77_row8_col7, #T_19c77_row8_col8 {\n",
       "  background-color: grey;\n",
       "  font-family: SF Mono;\n",
       "  font-size: 1.4vw;\n",
       "}\n",
       "</style>\n",
       "<table id=\"T_19c77\">\n",
       "  <thead>\n",
       "    <tr>\n",
       "      <th class=\"blank level0\" >&nbsp;</th>\n",
       "      <th id=\"T_19c77_level0_col0\" class=\"col_heading level0 col0\" >machine</th>\n",
       "      <th id=\"T_19c77_level0_col1\" class=\"col_heading level0 col1\" >IC</th>\n",
       "      <th id=\"T_19c77_level0_col2\" class=\"col_heading level0 col2\" >Cycles</th>\n",
       "      <th id=\"T_19c77_level0_col3\" class=\"col_heading level0 col3\" >CPI</th>\n",
       "      <th id=\"T_19c77_level0_col4\" class=\"col_heading level0 col4\" >CT_ns</th>\n",
       "      <th id=\"T_19c77_level0_col5\" class=\"col_heading level0 col5\" >ET_s</th>\n",
       "      <th id=\"T_19c77_level0_col6\" class=\"col_heading level0 col6\" >DL1_miss_rate</th>\n",
       "      <th id=\"T_19c77_level0_col7\" class=\"col_heading level0 col7\" >DL1_misses</th>\n",
       "      <th id=\"T_19c77_level0_col8\" class=\"col_heading level0 col8\" >DL1_accesses</th>\n",
       "    </tr>\n",
       "  </thead>\n",
       "  <tbody>\n",
       "    <tr>\n",
       "      <th id=\"T_19c77_level0_row0\" class=\"row_heading level0 row0\" >0</th>\n",
       "      <td id=\"T_19c77_row0_col0\" class=\"data row0 col0\" >ivysaur_core_i7_12700</td>\n",
       "      <td id=\"T_19c77_row0_col1\" class=\"data row0 col1\" >639241657173</td>\n",
       "      <td id=\"T_19c77_row0_col2\" class=\"data row0 col2\" >238003611836</td>\n",
       "      <td id=\"T_19c77_row0_col3\" class=\"data row0 col3\" >0.372322</td>\n",
       "      <td id=\"T_19c77_row0_col4\" class=\"data row0 col4\" >0.202564</td>\n",
       "      <td id=\"T_19c77_row0_col5\" class=\"data row0 col5\" >48.210930</td>\n",
       "      <td id=\"T_19c77_row0_col6\" class=\"data row0 col6\" >0.011619</td>\n",
       "      <td id=\"T_19c77_row0_col7\" class=\"data row0 col7\" >3524964271</td>\n",
       "      <td id=\"T_19c77_row0_col8\" class=\"data row0 col8\" >303374793593</td>\n",
       "    </tr>\n",
       "    <tr>\n",
       "      <th id=\"T_19c77_level0_row1\" class=\"row_heading level0 row1\" >1</th>\n",
       "      <td id=\"T_19c77_row1_col0\" class=\"data row1 col0\" >pikachu_RyZen_5700G</td>\n",
       "      <td id=\"T_19c77_row1_col1\" class=\"data row1 col1\" >639266645878</td>\n",
       "      <td id=\"T_19c77_row1_col2\" class=\"data row1 col2\" >307970179101</td>\n",
       "      <td id=\"T_19c77_row1_col3\" class=\"data row1 col3\" >0.481755</td>\n",
       "      <td id=\"T_19c77_row1_col4\" class=\"data row1 col4\" >0.214667</td>\n",
       "      <td id=\"T_19c77_row1_col5\" class=\"data row1 col5\" >66.111109</td>\n",
       "      <td id=\"T_19c77_row1_col6\" class=\"data row1 col6\" >0.066195</td>\n",
       "      <td id=\"T_19c77_row1_col7\" class=\"data row1 col7\" >19925774926</td>\n",
       "      <td id=\"T_19c77_row1_col8\" class=\"data row1 col8\" >301018195387</td>\n",
       "    </tr>\n",
       "    <tr>\n",
       "      <th id=\"T_19c77_level0_row2\" class=\"row_heading level0 row2\" >2</th>\n",
       "      <td id=\"T_19c77_row2_col0\" class=\"data row2 col0\" >horsea_core_i5_9600k</td>\n",
       "      <td id=\"T_19c77_row2_col1\" class=\"data row2 col1\" >639252864075</td>\n",
       "      <td id=\"T_19c77_row2_col2\" class=\"data row2 col2\" >382850253589</td>\n",
       "      <td id=\"T_19c77_row2_col3\" class=\"data row2 col3\" >0.598903</td>\n",
       "      <td id=\"T_19c77_row2_col4\" class=\"data row2 col4\" >0.222182</td>\n",
       "      <td id=\"T_19c77_row2_col5\" class=\"data row2 col5\" >85.062442</td>\n",
       "      <td id=\"T_19c77_row2_col6\" class=\"data row2 col6\" >0.068410</td>\n",
       "      <td id=\"T_19c77_row2_col7\" class=\"data row2 col7\" >20754456683</td>\n",
       "      <td id=\"T_19c77_row2_col8\" class=\"data row2 col8\" >303382871976</td>\n",
       "    </tr>\n",
       "    <tr>\n",
       "      <th id=\"T_19c77_level0_row3\" class=\"row_heading level0 row3\" >3</th>\n",
       "      <td id=\"T_19c77_row3_col0\" class=\"data row3 col0\" >togepi_RyZen_5700X</td>\n",
       "      <td id=\"T_19c77_row3_col1\" class=\"data row3 col1\" >639297606411</td>\n",
       "      <td id=\"T_19c77_row3_col2\" class=\"data row3 col2\" >359581791517</td>\n",
       "      <td id=\"T_19c77_row3_col3\" class=\"data row3 col3\" >0.562464</td>\n",
       "      <td id=\"T_19c77_row3_col4\" class=\"data row3 col4\" >0.215593</td>\n",
       "      <td id=\"T_19c77_row3_col5\" class=\"data row3 col5\" >77.523259</td>\n",
       "      <td id=\"T_19c77_row3_col6\" class=\"data row3 col6\" >0.065403</td>\n",
       "      <td id=\"T_19c77_row3_col7\" class=\"data row3 col7\" >21275437931</td>\n",
       "      <td id=\"T_19c77_row3_col8\" class=\"data row3 col8\" >325296208027</td>\n",
       "    </tr>\n",
       "    <tr>\n",
       "      <th id=\"T_19c77_level0_row4\" class=\"row_heading level0 row4\" >4</th>\n",
       "      <td id=\"T_19c77_row4_col0\" class=\"data row4 col0\" >quilava_RyZen_5500</td>\n",
       "      <td id=\"T_19c77_row4_col1\" class=\"data row4 col1\" >639266082658</td>\n",
       "      <td id=\"T_19c77_row4_col2\" class=\"data row4 col2\" >418810355986</td>\n",
       "      <td id=\"T_19c77_row4_col3\" class=\"data row4 col3\" >0.655142</td>\n",
       "      <td id=\"T_19c77_row4_col4\" class=\"data row4 col4\" >0.235756</td>\n",
       "      <td id=\"T_19c77_row4_col5\" class=\"data row4 col5\" >98.736971</td>\n",
       "      <td id=\"T_19c77_row4_col6\" class=\"data row4 col6\" >0.072077</td>\n",
       "      <td id=\"T_19c77_row4_col7\" class=\"data row4 col7\" >23363928591</td>\n",
       "      <td id=\"T_19c77_row4_col8\" class=\"data row4 col8\" >324151993085</td>\n",
       "    </tr>\n",
       "    <tr>\n",
       "      <th id=\"T_19c77_level0_row5\" class=\"row_heading level0 row5\" >5</th>\n",
       "      <td id=\"T_19c77_row5_col0\" class=\"data row5 col0\" >myu_Core_i5_12500</td>\n",
       "      <td id=\"T_19c77_row5_col1\" class=\"data row5 col1\" >639216468249</td>\n",
       "      <td id=\"T_19c77_row5_col2\" class=\"data row5 col2\" >223638223623</td>\n",
       "      <td id=\"T_19c77_row5_col3\" class=\"data row5 col3\" >0.349863</td>\n",
       "      <td id=\"T_19c77_row5_col4\" class=\"data row5 col4\" >0.218546</td>\n",
       "      <td id=\"T_19c77_row5_col5\" class=\"data row5 col5\" >48.875247</td>\n",
       "      <td id=\"T_19c77_row5_col6\" class=\"data row5 col6\" >0.011551</td>\n",
       "      <td id=\"T_19c77_row5_col7\" class=\"data row5 col7\" >3504052845</td>\n",
       "      <td id=\"T_19c77_row5_col8\" class=\"data row5 col8\" >303365489257</td>\n",
       "    </tr>\n",
       "    <tr>\n",
       "      <th id=\"T_19c77_level0_row6\" class=\"row_heading level0 row6\" >6</th>\n",
       "      <td id=\"T_19c77_row6_col0\" class=\"data row6 col0\" >azelf_Core_i7_13700</td>\n",
       "      <td id=\"T_19c77_row6_col1\" class=\"data row6 col1\" >639229154718</td>\n",
       "      <td id=\"T_19c77_row6_col2\" class=\"data row6 col2\" >230759737760</td>\n",
       "      <td id=\"T_19c77_row6_col3\" class=\"data row6 col3\" >0.360997</td>\n",
       "      <td id=\"T_19c77_row6_col4\" class=\"data row6 col4\" >0.193560</td>\n",
       "      <td id=\"T_19c77_row6_col5\" class=\"data row6 col5\" >44.665792</td>\n",
       "      <td id=\"T_19c77_row6_col6\" class=\"data row6 col6\" >nan</td>\n",
       "      <td id=\"T_19c77_row6_col7\" class=\"data row6 col7\" >0</td>\n",
       "      <td id=\"T_19c77_row6_col8\" class=\"data row6 col8\" >0</td>\n",
       "    </tr>\n",
       "    <tr>\n",
       "      <th id=\"T_19c77_level0_row7\" class=\"row_heading level0 row7\" >7</th>\n",
       "      <td id=\"T_19c77_row7_col0\" class=\"data row7 col0\" >ninetales_RyZen_5800X3D</td>\n",
       "      <td id=\"T_19c77_row7_col1\" class=\"data row7 col1\" >639295187890</td>\n",
       "      <td id=\"T_19c77_row7_col2\" class=\"data row7 col2\" >349131671712</td>\n",
       "      <td id=\"T_19c77_row7_col3\" class=\"data row7 col3\" >0.546120</td>\n",
       "      <td id=\"T_19c77_row7_col4\" class=\"data row7 col4\" >0.220795</td>\n",
       "      <td id=\"T_19c77_row7_col5\" class=\"data row7 col5\" >77.086641</td>\n",
       "      <td id=\"T_19c77_row7_col6\" class=\"data row7 col6\" >0.068809</td>\n",
       "      <td id=\"T_19c77_row7_col7\" class=\"data row7 col7\" >21301315885</td>\n",
       "      <td id=\"T_19c77_row7_col8\" class=\"data row7 col8\" >309573580083</td>\n",
       "    </tr>\n",
       "    <tr>\n",
       "      <th id=\"T_19c77_level0_row8\" class=\"row_heading level0 row8\" >8</th>\n",
       "      <td id=\"T_19c77_row8_col0\" class=\"data row8 col0\" >snorlax_Core_i3_13100</td>\n",
       "      <td id=\"T_19c77_row8_col1\" class=\"data row8 col1\" >639392983340</td>\n",
       "      <td id=\"T_19c77_row8_col2\" class=\"data row8 col2\" >178518071472</td>\n",
       "      <td id=\"T_19c77_row8_col3\" class=\"data row8 col3\" >0.279199</td>\n",
       "      <td id=\"T_19c77_row8_col4\" class=\"data row8 col4\" >1.252907</td>\n",
       "      <td id=\"T_19c77_row8_col5\" class=\"data row8 col5\" >223.666566</td>\n",
       "      <td id=\"T_19c77_row8_col6\" class=\"data row8 col6\" >nan</td>\n",
       "      <td id=\"T_19c77_row8_col7\" class=\"data row8 col7\" >0</td>\n",
       "      <td id=\"T_19c77_row8_col8\" class=\"data row8 col8\" >0</td>\n",
       "    </tr>\n",
       "  </tbody>\n",
       "</table>\n"
      ],
      "text/plain": [
       "<pandas.io.formats.style.Styler at 0x7ffa3096df70>"
      ]
     },
     "metadata": {},
     "output_type": "display_data"
    }
   ],
   "source": [
    "display_df_mono(render_csv(\"matrix_mul/blockmm.csv\"))"
   ]
  },
  {
   "cell_type": "code",
   "execution_count": null,
   "id": "2192f65e-f581-43be-8917-f674e12260a8",
   "metadata": {},
   "outputs": [],
   "source": []
  }
 ],
 "metadata": {
  "kernelspec": {
   "display_name": "Python 3 (ipykernel)",
   "language": "python",
   "name": "python3"
  },
  "language_info": {
   "codemirror_mode": {
    "name": "ipython",
    "version": 3
   },
   "file_extension": ".py",
   "mimetype": "text/x-python",
   "name": "python",
   "nbconvert_exporter": "python",
   "pygments_lexer": "ipython3",
   "version": "3.8.10"
  },
  "widgets": {
   "application/vnd.jupyter.widget-state+json": {
    "state": {},
    "version_major": 2,
    "version_minor": 0
   }
  }
 },
 "nbformat": 4,
 "nbformat_minor": 5
}
