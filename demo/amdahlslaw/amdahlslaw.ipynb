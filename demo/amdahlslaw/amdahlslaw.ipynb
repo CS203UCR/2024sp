{
 "cells": [
  {
   "cell_type": "code",
   "execution_count": 47,
   "id": "39bd05fd-cae3-4bed-9b16-0114306cfc72",
   "metadata": {},
   "outputs": [
    {
     "name": "stdout",
     "output_type": "stream",
     "text": [
      "The autoreload extension is already loaded. To reload it, use:\n",
      "  %reload_ext autoreload\n"
     ]
    }
   ],
   "source": [
    "# Please execute/shift-return this cell everytime you run the notebook.  Don't edit it. \n",
    "%load_ext autoreload\n",
    "%autoreload 2\n",
    "from notebook import * "
   ]
  },
  {
   "cell_type": "markdown",
   "id": "cc91b7b4-d577-4799-90e0-8caf96cf580c",
   "metadata": {},
   "source": [
    "# Amdahl's Law\n",
    "\n",
    "## The starting example -- sorting"
   ]
  },
  {
   "cell_type": "code",
   "execution_count": null,
   "id": "b3530190-c853-4c69-85de-07e8880ca00a",
   "metadata": {},
   "outputs": [],
   "source": [
    "render_code(\"./gpusort/main.cu\", show=\"main\")"
   ]
  },
  {
   "cell_type": "markdown",
   "id": "a5018288-6079-4125-98a1-4f9a2b0b3805",
   "metadata": {},
   "source": [
    "## Where is the most time critical part of my program?"
   ]
  },
  {
   "cell_type": "code",
   "execution_count": 48,
   "id": "5e664bcf-222e-4e65-a6ad-1fbf514aba84",
   "metadata": {},
   "outputs": [
    {
     "name": "stdout",
     "output_type": "stream",
     "text": [
      "rm -f\t*.o hybridsort hybridsort_cpu\n",
      "/usr/local/cuda/bin/nvcc -DTIMER -O3 -w   -DCPU -DHAVE_LINUX_PERF_EVENT_H -DREADING_FROM_BINARY         main.cu -o hybridsort_cpu\n",
      "/usr/local/cuda/bin/nvcc -DTIMER -O3 -w   -DHAVE_LINUX_PERF_EVENT_H -DREADING_FROM_BINARY         main.cu -o hybridsort\n",
      "File on H.D.D.; Sorting on CPU\n",
      "Sorting list of 134217728 floats\n",
      "FileInput 1.973035 seconds\n",
      "Sorting on CPU...done.\n",
      "Total CPU execution time: 14.929325 seconds\n"
     ]
    }
   ],
   "source": [
    "! cd gpusort; make clean; make\n",
    "! echo \"File on H.D.D.; Sorting on CPU\"\n",
    "! cd ./gpusort; echo \"ET,FileInput,CPU_Kernel,GPU_Kernel,Host2GPU,GPU2Host\" > sort.csv; source ./run_CPU 2>> sort.csv"
   ]
  },
  {
   "cell_type": "code",
   "execution_count": null,
   "id": "c35f2dd3-6527-45f5-8532-7f2559fe53cf",
   "metadata": {},
   "outputs": [],
   "source": [
    "display_df_mono(render_csv(\"./gpusort/sort.csv\", columns=[\"ET\",\"FileInput\",\"CPU_Kernel\"]))"
   ]
  },
  {
   "cell_type": "code",
   "execution_count": null,
   "id": "843a92c4-efc7-40a6-ac57-dfd337b89ce8",
   "metadata": {},
   "outputs": [],
   "source": [
    "! lscpu"
   ]
  },
  {
   "cell_type": "markdown",
   "id": "af94141c-0b93-4def-8062-41cc7bcea741",
   "metadata": {},
   "source": [
    "### Use gprof to figure out the timing breakdown"
   ]
  },
  {
   "cell_type": "code",
   "execution_count": null,
   "id": "0dc40f30-34f4-4797-a259-7d2e18dfb931",
   "metadata": {},
   "outputs": [],
   "source": [
    "! cd gpusort; make clean; make EXTRA_FLAGS=-pg \n",
    "! cd ./gpusort; source ./run_CPU"
   ]
  },
  {
   "cell_type": "code",
   "execution_count": null,
   "id": "0668b2dc-5a3c-4a30-9421-72e6636eb594",
   "metadata": {},
   "outputs": [],
   "source": [
    "! cd gpusort; gprof ./hybridsort_cpu ./gmon.out"
   ]
  },
  {
   "cell_type": "markdown",
   "id": "822722b6-0472-4380-ab50-5692be8a2d07",
   "metadata": {},
   "source": [
    "## Amdahl's Law -- optimizating is a moving target"
   ]
  },
  {
   "cell_type": "code",
   "execution_count": 49,
   "id": "635fdd0f-c640-4018-bac9-332b36078458",
   "metadata": {},
   "outputs": [
    {
     "data": {
      "text/html": [
       "<style>pre { line-height: 125%; }\n",
       "td.linenos .normal { color: inherit; background-color: transparent; padding-left: 5px; padding-right: 5px; }\n",
       "span.linenos { color: inherit; background-color: transparent; padding-left: 5px; padding-right: 5px; }\n",
       "td.linenos .special { color: #000000; background-color: #ffffc0; padding-left: 5px; padding-right: 5px; }\n",
       "span.linenos.special { color: #000000; background-color: #ffffc0; padding-left: 5px; padding-right: 5px; }\n",
       ".output_html .hll { background-color: #ffffcc }\n",
       ".output_html { background: #f8f8f8; }\n",
       ".output_html .c { color: #3D7B7B; font-style: italic } /* Comment */\n",
       ".output_html .err { border: 1px solid #FF0000 } /* Error */\n",
       ".output_html .k { color: #008000; font-weight: bold } /* Keyword */\n",
       ".output_html .o { color: #666666 } /* Operator */\n",
       ".output_html .ch { color: #3D7B7B; font-style: italic } /* Comment.Hashbang */\n",
       ".output_html .cm { color: #3D7B7B; font-style: italic } /* Comment.Multiline */\n",
       ".output_html .cp { color: #9C6500 } /* Comment.Preproc */\n",
       ".output_html .cpf { color: #3D7B7B; font-style: italic } /* Comment.PreprocFile */\n",
       ".output_html .c1 { color: #3D7B7B; font-style: italic } /* Comment.Single */\n",
       ".output_html .cs { color: #3D7B7B; font-style: italic } /* Comment.Special */\n",
       ".output_html .gd { color: #A00000 } /* Generic.Deleted */\n",
       ".output_html .ge { font-style: italic } /* Generic.Emph */\n",
       ".output_html .gr { color: #E40000 } /* Generic.Error */\n",
       ".output_html .gh { color: #000080; font-weight: bold } /* Generic.Heading */\n",
       ".output_html .gi { color: #008400 } /* Generic.Inserted */\n",
       ".output_html .go { color: #717171 } /* Generic.Output */\n",
       ".output_html .gp { color: #000080; font-weight: bold } /* Generic.Prompt */\n",
       ".output_html .gs { font-weight: bold } /* Generic.Strong */\n",
       ".output_html .gu { color: #800080; font-weight: bold } /* Generic.Subheading */\n",
       ".output_html .gt { color: #0044DD } /* Generic.Traceback */\n",
       ".output_html .kc { color: #008000; font-weight: bold } /* Keyword.Constant */\n",
       ".output_html .kd { color: #008000; font-weight: bold } /* Keyword.Declaration */\n",
       ".output_html .kn { color: #008000; font-weight: bold } /* Keyword.Namespace */\n",
       ".output_html .kp { color: #008000 } /* Keyword.Pseudo */\n",
       ".output_html .kr { color: #008000; font-weight: bold } /* Keyword.Reserved */\n",
       ".output_html .kt { color: #B00040 } /* Keyword.Type */\n",
       ".output_html .m { color: #666666 } /* Literal.Number */\n",
       ".output_html .s { color: #BA2121 } /* Literal.String */\n",
       ".output_html .na { color: #687822 } /* Name.Attribute */\n",
       ".output_html .nb { color: #008000 } /* Name.Builtin */\n",
       ".output_html .nc { color: #0000FF; font-weight: bold } /* Name.Class */\n",
       ".output_html .no { color: #880000 } /* Name.Constant */\n",
       ".output_html .nd { color: #AA22FF } /* Name.Decorator */\n",
       ".output_html .ni { color: #717171; font-weight: bold } /* Name.Entity */\n",
       ".output_html .ne { color: #CB3F38; font-weight: bold } /* Name.Exception */\n",
       ".output_html .nf { color: #0000FF } /* Name.Function */\n",
       ".output_html .nl { color: #767600 } /* Name.Label */\n",
       ".output_html .nn { color: #0000FF; font-weight: bold } /* Name.Namespace */\n",
       ".output_html .nt { color: #008000; font-weight: bold } /* Name.Tag */\n",
       ".output_html .nv { color: #19177C } /* Name.Variable */\n",
       ".output_html .ow { color: #AA22FF; font-weight: bold } /* Operator.Word */\n",
       ".output_html .w { color: #bbbbbb } /* Text.Whitespace */\n",
       ".output_html .mb { color: #666666 } /* Literal.Number.Bin */\n",
       ".output_html .mf { color: #666666 } /* Literal.Number.Float */\n",
       ".output_html .mh { color: #666666 } /* Literal.Number.Hex */\n",
       ".output_html .mi { color: #666666 } /* Literal.Number.Integer */\n",
       ".output_html .mo { color: #666666 } /* Literal.Number.Oct */\n",
       ".output_html .sa { color: #BA2121 } /* Literal.String.Affix */\n",
       ".output_html .sb { color: #BA2121 } /* Literal.String.Backtick */\n",
       ".output_html .sc { color: #BA2121 } /* Literal.String.Char */\n",
       ".output_html .dl { color: #BA2121 } /* Literal.String.Delimiter */\n",
       ".output_html .sd { color: #BA2121; font-style: italic } /* Literal.String.Doc */\n",
       ".output_html .s2 { color: #BA2121 } /* Literal.String.Double */\n",
       ".output_html .se { color: #AA5D1F; font-weight: bold } /* Literal.String.Escape */\n",
       ".output_html .sh { color: #BA2121 } /* Literal.String.Heredoc */\n",
       ".output_html .si { color: #A45A77; font-weight: bold } /* Literal.String.Interpol */\n",
       ".output_html .sx { color: #008000 } /* Literal.String.Other */\n",
       ".output_html .sr { color: #A45A77 } /* Literal.String.Regex */\n",
       ".output_html .s1 { color: #BA2121 } /* Literal.String.Single */\n",
       ".output_html .ss { color: #19177C } /* Literal.String.Symbol */\n",
       ".output_html .bp { color: #008000 } /* Name.Builtin.Pseudo */\n",
       ".output_html .fm { color: #0000FF } /* Name.Function.Magic */\n",
       ".output_html .vc { color: #19177C } /* Name.Variable.Class */\n",
       ".output_html .vg { color: #19177C } /* Name.Variable.Global */\n",
       ".output_html .vi { color: #19177C } /* Name.Variable.Instance */\n",
       ".output_html .vm { color: #19177C } /* Name.Variable.Magic */\n",
       ".output_html .il { color: #666666 } /* Literal.Number.Integer.Long */</style><div class=\"highlight\"><pre><span></span><span class=\"c1\">// ./gpusort/main.cu:63-92 (30 lines)</span>\n",
       "<span class=\"kt\">void</span><span class=\"w\"> </span><span class=\"nf\">bitonic_sort</span><span class=\"p\">(</span><span class=\"kt\">float</span><span class=\"w\"> </span><span class=\"o\">*</span><span class=\"n\">values</span><span class=\"p\">,</span><span class=\"w\"> </span><span class=\"kt\">float</span><span class=\"w\"> </span><span class=\"o\">*</span><span class=\"n\">out_values</span><span class=\"p\">,</span><span class=\"w\"> </span><span class=\"kt\">int</span><span class=\"w\"> </span><span class=\"n\">num_of_elements</span><span class=\"p\">)</span><span class=\"w\"></span>\n",
       "<span class=\"p\">{</span><span class=\"w\"></span>\n",
       "<span class=\"w\">  </span><span class=\"kt\">float</span><span class=\"w\"> </span><span class=\"o\">*</span><span class=\"n\">dev_values</span><span class=\"p\">;</span><span class=\"w\"></span>\n",
       "<span class=\"w\">  </span><span class=\"kt\">size_t</span><span class=\"w\"> </span><span class=\"n\">size</span><span class=\"w\"> </span><span class=\"o\">=</span><span class=\"w\"> </span><span class=\"n\">num_of_elements</span><span class=\"w\"> </span><span class=\"o\">*</span><span class=\"w\"> </span><span class=\"k\">sizeof</span><span class=\"p\">(</span><span class=\"kt\">float</span><span class=\"p\">);</span><span class=\"w\"></span>\n",
       "<span class=\"w\">  </span><span class=\"kt\">int</span><span class=\"w\"> </span><span class=\"n\">BLOCKS</span><span class=\"w\"> </span><span class=\"o\">=</span><span class=\"w\"> </span><span class=\"n\">num_of_elements</span><span class=\"o\">/</span><span class=\"n\">THREADS_PER_BLOCK</span><span class=\"p\">;</span><span class=\"w\"> </span>\n",
       "\n",
       "<span class=\"w\">  </span><span class=\"n\">cudaMalloc</span><span class=\"p\">((</span><span class=\"kt\">void</span><span class=\"o\">**</span><span class=\"p\">)</span><span class=\"w\"> </span><span class=\"o\">&amp;</span><span class=\"n\">dev_values</span><span class=\"p\">,</span><span class=\"w\"> </span><span class=\"n\">size</span><span class=\"p\">);</span><span class=\"w\"></span>\n",
       "<span class=\"w\">  </span><span class=\"n\">sdkStartTimer</span><span class=\"p\">(</span><span class=\"o\">&amp;</span><span class=\"n\">uploadTimer</span><span class=\"p\">);</span><span class=\"w\"></span>\n",
       "<span class=\"w\">  </span><span class=\"n\">cudaMemcpy</span><span class=\"p\">(</span><span class=\"n\">dev_values</span><span class=\"p\">,</span><span class=\"w\"> </span><span class=\"n\">values</span><span class=\"p\">,</span><span class=\"w\"> </span><span class=\"n\">size</span><span class=\"p\">,</span><span class=\"w\"> </span><span class=\"n\">cudaMemcpyHostToDevice</span><span class=\"p\">);</span><span class=\"w\"></span>\n",
       "<span class=\"w\">  </span><span class=\"n\">sdkStopTimer</span><span class=\"p\">(</span><span class=\"o\">&amp;</span><span class=\"n\">uploadTimer</span><span class=\"p\">);</span><span class=\"w\"> </span>\n",
       "<span class=\"w\">  </span><span class=\"n\">dim3</span><span class=\"w\"> </span><span class=\"n\">blocks</span><span class=\"p\">(</span><span class=\"n\">BLOCKS</span><span class=\"p\">,</span><span class=\"mi\">1</span><span class=\"p\">);</span><span class=\"w\">    </span><span class=\"cm\">/* Number of blocks   */</span><span class=\"w\"></span>\n",
       "<span class=\"w\">  </span><span class=\"n\">dim3</span><span class=\"w\"> </span><span class=\"n\">threads</span><span class=\"p\">(</span><span class=\"n\">THREADS_PER_BLOCK</span><span class=\"p\">,</span><span class=\"mi\">1</span><span class=\"p\">);</span><span class=\"w\">  </span><span class=\"cm\">/* Number of threads  */</span><span class=\"w\"></span>\n",
       "\n",
       "<span class=\"w\">  </span><span class=\"n\">sdkStartTimer</span><span class=\"p\">(</span><span class=\"o\">&amp;</span><span class=\"n\">totalTimer</span><span class=\"p\">);</span><span class=\"w\"> </span>\n",
       "<span class=\"w\">  </span><span class=\"kt\">int</span><span class=\"w\"> </span><span class=\"n\">j</span><span class=\"p\">,</span><span class=\"w\"> </span><span class=\"n\">k</span><span class=\"p\">;</span><span class=\"w\"></span>\n",
       "<span class=\"w\">  </span><span class=\"cm\">/* Major step */</span><span class=\"w\"></span>\n",
       "<span class=\"w\">  </span><span class=\"k\">for</span><span class=\"w\"> </span><span class=\"p\">(</span><span class=\"n\">k</span><span class=\"w\"> </span><span class=\"o\">=</span><span class=\"w\"> </span><span class=\"mi\">2</span><span class=\"p\">;</span><span class=\"w\"> </span><span class=\"n\">k</span><span class=\"w\"> </span><span class=\"o\">&lt;=</span><span class=\"w\"> </span><span class=\"n\">num_of_elements</span><span class=\"p\">;</span><span class=\"w\"> </span><span class=\"n\">k</span><span class=\"w\"> </span><span class=\"o\">&lt;&lt;=</span><span class=\"w\"> </span><span class=\"mi\">1</span><span class=\"p\">)</span><span class=\"w\"> </span><span class=\"p\">{</span><span class=\"w\"></span>\n",
       "<span class=\"w\">    </span><span class=\"cm\">/* Minor step */</span><span class=\"w\"></span>\n",
       "<span class=\"w\">    </span><span class=\"k\">for</span><span class=\"w\"> </span><span class=\"p\">(</span><span class=\"n\">j</span><span class=\"o\">=</span><span class=\"n\">k</span><span class=\"o\">&gt;&gt;</span><span class=\"mi\">1</span><span class=\"p\">;</span><span class=\"w\"> </span><span class=\"n\">j</span><span class=\"o\">&gt;</span><span class=\"mi\">0</span><span class=\"p\">;</span><span class=\"w\"> </span><span class=\"n\">j</span><span class=\"o\">=</span><span class=\"n\">j</span><span class=\"o\">&gt;&gt;</span><span class=\"mi\">1</span><span class=\"p\">)</span><span class=\"w\"> </span><span class=\"p\">{</span><span class=\"w\"></span>\n",
       "<span class=\"w\">      </span><span class=\"n\">bitonic_sort_step</span><span class=\"o\">&lt;&lt;&lt;</span><span class=\"n\">blocks</span><span class=\"p\">,</span><span class=\"w\"> </span><span class=\"n\">threads</span><span class=\"o\">&gt;&gt;&gt;</span><span class=\"p\">(</span><span class=\"n\">dev_values</span><span class=\"p\">,</span><span class=\"w\"> </span><span class=\"n\">j</span><span class=\"p\">,</span><span class=\"w\"> </span><span class=\"n\">k</span><span class=\"p\">);</span><span class=\"w\"></span>\n",
       "<span class=\"w\">    </span><span class=\"p\">}</span><span class=\"w\"></span>\n",
       "<span class=\"w\">  </span><span class=\"p\">}</span><span class=\"w\"></span>\n",
       "<span class=\"w\">\t\t</span><span class=\"n\">cudaThreadSynchronize</span><span class=\"p\">();</span><span class=\"w\"> </span>\n",
       "<span class=\"w\">  </span><span class=\"n\">sdkStopTimer</span><span class=\"p\">(</span><span class=\"o\">&amp;</span><span class=\"n\">totalTimer</span><span class=\"p\">);</span><span class=\"w\"> </span>\n",
       "<span class=\"w\">  </span><span class=\"n\">sdkStartTimer</span><span class=\"p\">(</span><span class=\"o\">&amp;</span><span class=\"n\">downloadTimer</span><span class=\"p\">);</span><span class=\"w\"></span>\n",
       "<span class=\"w\">  </span><span class=\"n\">cudaMemcpy</span><span class=\"p\">((</span><span class=\"kt\">void</span><span class=\"w\"> </span><span class=\"o\">*</span><span class=\"p\">)</span><span class=\"n\">out_values</span><span class=\"p\">,</span><span class=\"w\"> </span><span class=\"p\">(</span><span class=\"kt\">void</span><span class=\"w\"> </span><span class=\"o\">*</span><span class=\"p\">)</span><span class=\"n\">dev_values</span><span class=\"p\">,</span><span class=\"w\">  </span><span class=\"n\">num_of_elements</span><span class=\"o\">*</span><span class=\"k\">sizeof</span><span class=\"p\">(</span><span class=\"kt\">float</span><span class=\"p\">),</span><span class=\"w\"> </span><span class=\"n\">cudaMemcpyDeviceToHost</span><span class=\"p\">);</span><span class=\"w\"></span>\n",
       "<span class=\"c1\">//\t\tcheckCudaErrors(cudaMemcpy((void *)out_values, (void *)dev_values, num_of_elements*sizeof(float), cudaMemcpyDeviceToHost));</span>\n",
       "<span class=\"w\">  </span><span class=\"n\">sdkStopTimer</span><span class=\"p\">(</span><span class=\"o\">&amp;</span><span class=\"n\">downloadTimer</span><span class=\"p\">);</span><span class=\"w\"> </span>\n",
       "<span class=\"w\">  </span><span class=\"n\">cudaFree</span><span class=\"p\">(</span><span class=\"n\">dev_values</span><span class=\"p\">);</span><span class=\"w\"></span>\n",
       "<span class=\"p\">}</span><span class=\"w\"></span>\n",
       "</pre></div>\n"
      ],
      "text/latex": [
       "\\begin{Verbatim}[commandchars=\\\\\\{\\}]\n",
       "\\PY{c+c1}{// ./gpusort/main.cu:63\\PYZhy{}92 (30 lines)}\n",
       "\\PY{k+kt}{void}\\PY{+w}{ }\\PY{n+nf}{bitonic\\PYZus{}sort}\\PY{p}{(}\\PY{k+kt}{float}\\PY{+w}{ }\\PY{o}{*}\\PY{n}{values}\\PY{p}{,}\\PY{+w}{ }\\PY{k+kt}{float}\\PY{+w}{ }\\PY{o}{*}\\PY{n}{out\\PYZus{}values}\\PY{p}{,}\\PY{+w}{ }\\PY{k+kt}{int}\\PY{+w}{ }\\PY{n}{num\\PYZus{}of\\PYZus{}elements}\\PY{p}{)}\n",
       "\\PY{p}{\\PYZob{}}\n",
       "\\PY{+w}{  }\\PY{k+kt}{float}\\PY{+w}{ }\\PY{o}{*}\\PY{n}{dev\\PYZus{}values}\\PY{p}{;}\n",
       "\\PY{+w}{  }\\PY{k+kt}{size\\PYZus{}t}\\PY{+w}{ }\\PY{n}{size}\\PY{+w}{ }\\PY{o}{=}\\PY{+w}{ }\\PY{n}{num\\PYZus{}of\\PYZus{}elements}\\PY{+w}{ }\\PY{o}{*}\\PY{+w}{ }\\PY{k}{sizeof}\\PY{p}{(}\\PY{k+kt}{float}\\PY{p}{)}\\PY{p}{;}\n",
       "\\PY{+w}{  }\\PY{k+kt}{int}\\PY{+w}{ }\\PY{n}{BLOCKS}\\PY{+w}{ }\\PY{o}{=}\\PY{+w}{ }\\PY{n}{num\\PYZus{}of\\PYZus{}elements}\\PY{o}{/}\\PY{n}{THREADS\\PYZus{}PER\\PYZus{}BLOCK}\\PY{p}{;}\\PY{+w}{ }\n",
       "\n",
       "\\PY{+w}{  }\\PY{n}{cudaMalloc}\\PY{p}{(}\\PY{p}{(}\\PY{k+kt}{void}\\PY{o}{*}\\PY{o}{*}\\PY{p}{)}\\PY{+w}{ }\\PY{o}{\\PYZam{}}\\PY{n}{dev\\PYZus{}values}\\PY{p}{,}\\PY{+w}{ }\\PY{n}{size}\\PY{p}{)}\\PY{p}{;}\n",
       "\\PY{+w}{  }\\PY{n}{sdkStartTimer}\\PY{p}{(}\\PY{o}{\\PYZam{}}\\PY{n}{uploadTimer}\\PY{p}{)}\\PY{p}{;}\n",
       "\\PY{+w}{  }\\PY{n}{cudaMemcpy}\\PY{p}{(}\\PY{n}{dev\\PYZus{}values}\\PY{p}{,}\\PY{+w}{ }\\PY{n}{values}\\PY{p}{,}\\PY{+w}{ }\\PY{n}{size}\\PY{p}{,}\\PY{+w}{ }\\PY{n}{cudaMemcpyHostToDevice}\\PY{p}{)}\\PY{p}{;}\n",
       "\\PY{+w}{  }\\PY{n}{sdkStopTimer}\\PY{p}{(}\\PY{o}{\\PYZam{}}\\PY{n}{uploadTimer}\\PY{p}{)}\\PY{p}{;}\\PY{+w}{ }\n",
       "\\PY{+w}{  }\\PY{n}{dim3}\\PY{+w}{ }\\PY{n}{blocks}\\PY{p}{(}\\PY{n}{BLOCKS}\\PY{p}{,}\\PY{l+m+mi}{1}\\PY{p}{)}\\PY{p}{;}\\PY{+w}{    }\\PY{c+cm}{/* Number of blocks   */}\n",
       "\\PY{+w}{  }\\PY{n}{dim3}\\PY{+w}{ }\\PY{n}{threads}\\PY{p}{(}\\PY{n}{THREADS\\PYZus{}PER\\PYZus{}BLOCK}\\PY{p}{,}\\PY{l+m+mi}{1}\\PY{p}{)}\\PY{p}{;}\\PY{+w}{  }\\PY{c+cm}{/* Number of threads  */}\n",
       "\n",
       "\\PY{+w}{  }\\PY{n}{sdkStartTimer}\\PY{p}{(}\\PY{o}{\\PYZam{}}\\PY{n}{totalTimer}\\PY{p}{)}\\PY{p}{;}\\PY{+w}{ }\n",
       "\\PY{+w}{  }\\PY{k+kt}{int}\\PY{+w}{ }\\PY{n}{j}\\PY{p}{,}\\PY{+w}{ }\\PY{n}{k}\\PY{p}{;}\n",
       "\\PY{+w}{  }\\PY{c+cm}{/* Major step */}\n",
       "\\PY{+w}{  }\\PY{k}{for}\\PY{+w}{ }\\PY{p}{(}\\PY{n}{k}\\PY{+w}{ }\\PY{o}{=}\\PY{+w}{ }\\PY{l+m+mi}{2}\\PY{p}{;}\\PY{+w}{ }\\PY{n}{k}\\PY{+w}{ }\\PY{o}{\\PYZlt{}}\\PY{o}{=}\\PY{+w}{ }\\PY{n}{num\\PYZus{}of\\PYZus{}elements}\\PY{p}{;}\\PY{+w}{ }\\PY{n}{k}\\PY{+w}{ }\\PY{o}{\\PYZlt{}}\\PY{o}{\\PYZlt{}}\\PY{o}{=}\\PY{+w}{ }\\PY{l+m+mi}{1}\\PY{p}{)}\\PY{+w}{ }\\PY{p}{\\PYZob{}}\n",
       "\\PY{+w}{    }\\PY{c+cm}{/* Minor step */}\n",
       "\\PY{+w}{    }\\PY{k}{for}\\PY{+w}{ }\\PY{p}{(}\\PY{n}{j}\\PY{o}{=}\\PY{n}{k}\\PY{o}{\\PYZgt{}}\\PY{o}{\\PYZgt{}}\\PY{l+m+mi}{1}\\PY{p}{;}\\PY{+w}{ }\\PY{n}{j}\\PY{o}{\\PYZgt{}}\\PY{l+m+mi}{0}\\PY{p}{;}\\PY{+w}{ }\\PY{n}{j}\\PY{o}{=}\\PY{n}{j}\\PY{o}{\\PYZgt{}}\\PY{o}{\\PYZgt{}}\\PY{l+m+mi}{1}\\PY{p}{)}\\PY{+w}{ }\\PY{p}{\\PYZob{}}\n",
       "\\PY{+w}{      }\\PY{n}{bitonic\\PYZus{}sort\\PYZus{}step}\\PY{o}{\\PYZlt{}}\\PY{o}{\\PYZlt{}}\\PY{o}{\\PYZlt{}}\\PY{n}{blocks}\\PY{p}{,}\\PY{+w}{ }\\PY{n}{threads}\\PY{o}{\\PYZgt{}}\\PY{o}{\\PYZgt{}}\\PY{o}{\\PYZgt{}}\\PY{p}{(}\\PY{n}{dev\\PYZus{}values}\\PY{p}{,}\\PY{+w}{ }\\PY{n}{j}\\PY{p}{,}\\PY{+w}{ }\\PY{n}{k}\\PY{p}{)}\\PY{p}{;}\n",
       "\\PY{+w}{    }\\PY{p}{\\PYZcb{}}\n",
       "\\PY{+w}{  }\\PY{p}{\\PYZcb{}}\n",
       "\\PY{+w}{\t\t}\\PY{n}{cudaThreadSynchronize}\\PY{p}{(}\\PY{p}{)}\\PY{p}{;}\\PY{+w}{ }\n",
       "\\PY{+w}{  }\\PY{n}{sdkStopTimer}\\PY{p}{(}\\PY{o}{\\PYZam{}}\\PY{n}{totalTimer}\\PY{p}{)}\\PY{p}{;}\\PY{+w}{ }\n",
       "\\PY{+w}{  }\\PY{n}{sdkStartTimer}\\PY{p}{(}\\PY{o}{\\PYZam{}}\\PY{n}{downloadTimer}\\PY{p}{)}\\PY{p}{;}\n",
       "\\PY{+w}{  }\\PY{n}{cudaMemcpy}\\PY{p}{(}\\PY{p}{(}\\PY{k+kt}{void}\\PY{+w}{ }\\PY{o}{*}\\PY{p}{)}\\PY{n}{out\\PYZus{}values}\\PY{p}{,}\\PY{+w}{ }\\PY{p}{(}\\PY{k+kt}{void}\\PY{+w}{ }\\PY{o}{*}\\PY{p}{)}\\PY{n}{dev\\PYZus{}values}\\PY{p}{,}\\PY{+w}{  }\\PY{n}{num\\PYZus{}of\\PYZus{}elements}\\PY{o}{*}\\PY{k}{sizeof}\\PY{p}{(}\\PY{k+kt}{float}\\PY{p}{)}\\PY{p}{,}\\PY{+w}{ }\\PY{n}{cudaMemcpyDeviceToHost}\\PY{p}{)}\\PY{p}{;}\n",
       "\\PY{c+c1}{//\t\tcheckCudaErrors(cudaMemcpy((void *)out\\PYZus{}values, (void *)dev\\PYZus{}values, num\\PYZus{}of\\PYZus{}elements*sizeof(float), cudaMemcpyDeviceToHost));}\n",
       "\\PY{+w}{  }\\PY{n}{sdkStopTimer}\\PY{p}{(}\\PY{o}{\\PYZam{}}\\PY{n}{downloadTimer}\\PY{p}{)}\\PY{p}{;}\\PY{+w}{ }\n",
       "\\PY{+w}{  }\\PY{n}{cudaFree}\\PY{p}{(}\\PY{n}{dev\\PYZus{}values}\\PY{p}{)}\\PY{p}{;}\n",
       "\\PY{p}{\\PYZcb{}}\n",
       "\\end{Verbatim}\n"
      ],
      "text/plain": [
       "// ./gpusort/main.cu:63-92 (30 lines)\n",
       "void bitonic_sort(float *values, float *out_values, int num_of_elements)\n",
       "{\n",
       "  float *dev_values;\n",
       "  size_t size = num_of_elements * sizeof(float);\n",
       "  int BLOCKS = num_of_elements/THREADS_PER_BLOCK; \n",
       "\n",
       "  cudaMalloc((void**) &dev_values, size);\n",
       "  sdkStartTimer(&uploadTimer);\n",
       "  cudaMemcpy(dev_values, values, size, cudaMemcpyHostToDevice);\n",
       "  sdkStopTimer(&uploadTimer); \n",
       "  dim3 blocks(BLOCKS,1);    /* Number of blocks   */\n",
       "  dim3 threads(THREADS_PER_BLOCK,1);  /* Number of threads  */\n",
       "\n",
       "  sdkStartTimer(&totalTimer); \n",
       "  int j, k;\n",
       "  /* Major step */\n",
       "  for (k = 2; k <= num_of_elements; k <<= 1) {\n",
       "    /* Minor step */\n",
       "    for (j=k>>1; j>0; j=j>>1) {\n",
       "      bitonic_sort_step<<<blocks, threads>>>(dev_values, j, k);\n",
       "    }\n",
       "  }\n",
       "\t\tcudaThreadSynchronize(); \n",
       "  sdkStopTimer(&totalTimer); \n",
       "  sdkStartTimer(&downloadTimer);\n",
       "  cudaMemcpy((void *)out_values, (void *)dev_values,  num_of_elements*sizeof(float), cudaMemcpyDeviceToHost);\n",
       "//\t\tcheckCudaErrors(cudaMemcpy((void *)out_values, (void *)dev_values, num_of_elements*sizeof(float), cudaMemcpyDeviceToHost));\n",
       "  sdkStopTimer(&downloadTimer); \n",
       "  cudaFree(dev_values);\n",
       "}"
      ]
     },
     "metadata": {},
     "output_type": "display_data"
    }
   ],
   "source": [
    "render_code(\"./gpusort/main.cu\", lang=\"c++\", show=\"bitonic_sort\")"
   ]
  },
  {
   "cell_type": "code",
   "execution_count": 50,
   "id": "c73d3821-69cd-4eea-a462-1e37d06b918c",
   "metadata": {},
   "outputs": [
    {
     "name": "stdout",
     "output_type": "stream",
     "text": [
      "\n",
      "==============NVSMI LOG==============\n",
      "\n",
      "Timestamp                                 : Tue Oct 10 15:45:23 2023\n",
      "Driver Version                            : 535.54.03\n",
      "CUDA Version                              : 12.2\n",
      "\n",
      "Attached GPUs                             : 1\n",
      "GPU 00000000:01:00.0\n",
      "    Product Name                          : NVIDIA GeForce RTX 4070\n",
      "    Product Brand                         : GeForce\n",
      "    Product Architecture                  : Ada Lovelace\n",
      "    Display Mode                          : Disabled\n",
      "    Display Active                        : Disabled\n",
      "    Persistence Mode                      : Disabled\n",
      "    Addressing Mode                       : None\n",
      "    MIG Mode\n",
      "        Current                           : N/A\n",
      "        Pending                           : N/A\n",
      "    Accounting Mode                       : Disabled\n",
      "    Accounting Mode Buffer Size           : 4000\n",
      "    Driver Model\n",
      "        Current                           : N/A\n",
      "        Pending                           : N/A\n",
      "    Serial Number                         : N/A\n",
      "    GPU UUID                              : GPU-09776118-e2d2-cf90-87ec-bf930317b518\n",
      "    Minor Number                          : 0\n",
      "    VBIOS Version                         : 95.04.3E.C0.5C\n",
      "    MultiGPU Board                        : No\n",
      "    Board ID                              : 0x100\n",
      "    Board Part Number                     : N/A\n",
      "    GPU Part Number                       : 2786-251-A1\n",
      "    FRU Part Number                       : N/A\n",
      "    Module ID                             : 1\n",
      "    Inforom Version\n",
      "        Image Version                     : G002.0000.00.03\n",
      "        OEM Object                        : 2.0\n",
      "        ECC Object                        : N/A\n",
      "        Power Management Object           : N/A\n",
      "    GPU Operation Mode\n",
      "        Current                           : N/A\n",
      "        Pending                           : N/A\n",
      "    GSP Firmware Version                  : N/A\n",
      "    GPU Virtualization Mode\n",
      "        Virtualization Mode               : None\n",
      "        Host VGPU Mode                    : N/A\n",
      "    GPU Reset Status\n",
      "        Reset Required                    : No\n",
      "        Drain and Reset Recommended       : N/A\n",
      "    IBMNPU\n",
      "        Relaxed Ordering Mode             : N/A\n",
      "    PCI\n",
      "        Bus                               : 0x01\n",
      "        Device                            : 0x00\n",
      "        Domain                            : 0x0000\n",
      "        Device Id                         : 0x278610DE\n",
      "        Bus Id                            : 00000000:01:00.0\n",
      "        Sub System Id                     : 0x13CF196E\n",
      "        GPU Link Info\n",
      "            PCIe Generation\n",
      "                Max                       : 4\n",
      "                Current                   : 1\n",
      "                Device Current            : 1\n",
      "                Device Max                : 4\n",
      "                Host Max                  : 5\n",
      "            Link Width\n",
      "                Max                       : 16x\n",
      "                Current                   : 16x\n",
      "        Bridge Chip\n",
      "            Type                          : N/A\n",
      "            Firmware                      : N/A\n",
      "        Replays Since Reset               : 0\n",
      "        Replay Number Rollovers           : 0\n",
      "        Tx Throughput                     : 0 KB/s\n",
      "        Rx Throughput                     : 0 KB/s\n",
      "        Atomic Caps Inbound               : N/A\n",
      "        Atomic Caps Outbound              : N/A\n",
      "    Fan Speed                             : 0 %\n",
      "    Performance State                     : P8\n",
      "    Clocks Event Reasons\n",
      "        Idle                              : Active\n",
      "        Applications Clocks Setting       : Not Active\n",
      "        SW Power Cap                      : Not Active\n",
      "        HW Slowdown                       : Not Active\n",
      "            HW Thermal Slowdown           : Not Active\n",
      "            HW Power Brake Slowdown       : Not Active\n",
      "        Sync Boost                        : Not Active\n",
      "        SW Thermal Slowdown               : Not Active\n",
      "        Display Clock Setting             : Not Active\n",
      "    FB Memory Usage\n",
      "        Total                             : 12282 MiB\n",
      "        Reserved                          : 275 MiB\n",
      "        Used                              : 73 MiB\n",
      "        Free                              : 11932 MiB\n",
      "    BAR1 Memory Usage\n",
      "        Total                             : 16384 MiB\n",
      "        Used                              : 6 MiB\n",
      "        Free                              : 16378 MiB\n",
      "    Conf Compute Protected Memory Usage\n",
      "        Total                             : 0 MiB\n",
      "        Used                              : 0 MiB\n",
      "        Free                              : 0 MiB\n",
      "    Compute Mode                          : Default\n",
      "    Utilization\n",
      "        Gpu                               : 0 %\n",
      "        Memory                            : 0 %\n",
      "        Encoder                           : 0 %\n",
      "        Decoder                           : 0 %\n",
      "        JPEG                              : 0 %\n",
      "        OFA                               : 0 %\n",
      "    Encoder Stats\n",
      "        Active Sessions                   : 0\n",
      "        Average FPS                       : 0\n",
      "        Average Latency                   : 0\n",
      "    FBC Stats\n",
      "        Active Sessions                   : 0\n",
      "        Average FPS                       : 0\n",
      "        Average Latency                   : 0\n",
      "    ECC Mode\n",
      "        Current                           : N/A\n",
      "        Pending                           : N/A\n",
      "    ECC Errors\n",
      "        Volatile\n",
      "            SRAM Correctable              : N/A\n",
      "            SRAM Uncorrectable            : N/A\n",
      "            DRAM Correctable              : N/A\n",
      "            DRAM Uncorrectable            : N/A\n",
      "        Aggregate\n",
      "            SRAM Correctable              : N/A\n",
      "            SRAM Uncorrectable            : N/A\n",
      "            DRAM Correctable              : N/A\n",
      "            DRAM Uncorrectable            : N/A\n",
      "    Retired Pages\n",
      "        Single Bit ECC                    : N/A\n",
      "        Double Bit ECC                    : N/A\n",
      "        Pending Page Blacklist            : N/A\n",
      "    Remapped Rows\n",
      "        Correctable Error                 : 0\n",
      "        Uncorrectable Error               : 0\n",
      "        Pending                           : No\n",
      "        Remapping Failure Occurred        : No\n",
      "        Bank Remap Availability Histogram\n",
      "            Max                           : 96 bank(s)\n",
      "            High                          : 0 bank(s)\n",
      "            Partial                       : 0 bank(s)\n",
      "            Low                           : 0 bank(s)\n",
      "            None                          : 0 bank(s)\n",
      "    Temperature\n",
      "        GPU Current Temp                  : 48 C\n",
      "        GPU T.Limit Temp                  : 36 C\n",
      "        GPU Shutdown T.Limit Temp         : -7 C\n",
      "        GPU Slowdown T.Limit Temp         : -2 C\n",
      "        GPU Max Operating T.Limit Temp    : 0 C\n",
      "        GPU Target Temperature            : 84 C\n",
      "        Memory Current Temp               : N/A\n",
      "        Memory Max Operating T.Limit Temp : N/A\n",
      "    GPU Power Readings\n",
      "        Power Draw                        : 6.15 W\n",
      "        Current Power Limit               : 200.00 W\n",
      "        Requested Power Limit             : 200.00 W\n",
      "        Default Power Limit               : 200.00 W\n",
      "        Min Power Limit                   : 100.00 W\n",
      "        Max Power Limit                   : 200.00 W\n",
      "    Module Power Readings\n",
      "        Power Draw                        : N/A\n",
      "        Current Power Limit               : N/A\n",
      "        Requested Power Limit             : N/A\n",
      "        Default Power Limit               : N/A\n",
      "        Min Power Limit                   : N/A\n",
      "        Max Power Limit                   : N/A\n",
      "    Clocks\n",
      "        Graphics                          : 210 MHz\n",
      "        SM                                : 210 MHz\n",
      "        Memory                            : 405 MHz\n",
      "        Video                             : 1185 MHz\n",
      "    Applications Clocks\n",
      "        Graphics                          : N/A\n",
      "        Memory                            : N/A\n",
      "    Default Applications Clocks\n",
      "        Graphics                          : N/A\n",
      "        Memory                            : N/A\n",
      "    Deferred Clocks\n",
      "        Memory                            : N/A\n",
      "    Max Clocks\n",
      "        Graphics                          : 3105 MHz\n",
      "        SM                                : 3105 MHz\n",
      "        Memory                            : 10501 MHz\n",
      "        Video                             : 2415 MHz\n",
      "    Max Customer Boost Clocks\n",
      "        Graphics                          : N/A\n",
      "    Clock Policy\n",
      "        Auto Boost                        : N/A\n",
      "        Auto Boost Default                : N/A\n",
      "    Voltage\n",
      "        Graphics                          : 895.000 mV\n",
      "    Fabric\n",
      "        State                             : N/A\n",
      "        Status                            : N/A\n",
      "    Processes\n",
      "        GPU instance ID                   : N/A\n",
      "        Compute instance ID               : N/A\n",
      "        Process ID                        : 1568\n",
      "            Type                          : G\n",
      "            Name                          : /usr/lib/xorg/Xorg\n",
      "            Used GPU Memory               : 56 MiB\n",
      "        GPU instance ID                   : N/A\n",
      "        Compute instance ID               : N/A\n",
      "        Process ID                        : 1696\n",
      "            Type                          : G\n",
      "            Name                          : /usr/bin/gnome-shell\n",
      "            Used GPU Memory               : 9 MiB\n",
      "\n"
     ]
    }
   ],
   "source": [
    "! nvidia-smi -a"
   ]
  },
  {
   "cell_type": "code",
   "execution_count": 51,
   "id": "aca55b1e-f40f-42e8-8444-e47f5703d609",
   "metadata": {},
   "outputs": [
    {
     "name": "stdout",
     "output_type": "stream",
     "text": [
      "rm -f\t*.o hybridsort hybridsort_cpu\n",
      "/usr/local/cuda/bin/nvcc -DTIMER -O3 -w   -DCPU -DHAVE_LINUX_PERF_EVENT_H -DREADING_FROM_BINARY         main.cu -o hybridsort_cpu\n",
      "/usr/local/cuda/bin/nvcc -DTIMER -O3 -w   -DHAVE_LINUX_PERF_EVENT_H -DREADING_FROM_BINARY         main.cu -o hybridsort\n",
      "File on H.D.D.; Sorting on GPU\n",
      "Sorting list of 134217728 floats\n",
      "FileInput 1.829851 seconds\n",
      "Sorting on GPU...GPU iterations: 1\n",
      "Total GPU Sort execution time: 0.766892 seconds\n",
      "    - Upload\t\t: 0.042830 seconds\n",
      "    - Download\t\t: 0.146355 seconds\n"
     ]
    }
   ],
   "source": [
    "! cd gpusort; make clean; make\n",
    "# ! ssh htseng@azelf \"source ./courses/CS203/demo/amdahlslaw/gpusort/run_CPU\"\n",
    "! echo \"File on H.D.D.; Sorting on GPU\"\n",
    "! cd gpusort; source ./run 2>> sort.csv"
   ]
  },
  {
   "cell_type": "code",
   "execution_count": null,
   "id": "2efa9850-29a9-42ba-9fa3-c3df23661e69",
   "metadata": {},
   "outputs": [],
   "source": [
    "display_df_mono(render_csv(\"./gpusort/sort.csv\"))"
   ]
  },
  {
   "cell_type": "code",
   "execution_count": null,
   "id": "25cc7e14-4e94-48d8-b228-f8e3df3355ca",
   "metadata": {},
   "outputs": [],
   "source": [
    "! echo \"File on S.S.D.; Sorting on GPU\"\n",
    "! cd gpusort; source ./run_SSD 2>> sort.csv"
   ]
  },
  {
   "cell_type": "code",
   "execution_count": null,
   "id": "42c3bd85-2cb9-4492-ae36-4bd92db2eed5",
   "metadata": {},
   "outputs": [],
   "source": [
    "display_df_mono(render_csv(\"./gpusort/sort.csv\"))"
   ]
  },
  {
   "cell_type": "markdown",
   "id": "f88d79cb-c4c4-4bca-a232-7c0c70186139",
   "metadata": {},
   "source": [
    "## Amdahl's Law on parallel programming"
   ]
  },
  {
   "cell_type": "code",
   "execution_count": null,
   "id": "603bc4f5-caa2-4adb-9631-848e86ef7d25",
   "metadata": {},
   "outputs": [],
   "source": [
    "! cd vmul; make clean; make\n",
    "! echo \"THREADS,CPUTIME,HOST2GPU,GPUTIME,GPU2HOST\" > ./vmul/vmul.csv\n",
    "! echo \"CPU based vul\"\n",
    "! time ./vmul/vmul 33554432 1 0 30 2>> ./vmul/vmul.csv\n",
    "! echo \"GPU based vul\"\n",
    "### i stands for \"How many iterations each thread performs \n",
    "### -- the larger the number, the fewer the parallelism\n",
    "! for i in 1 2 4 8 16 32 64 128 256 512 1024 2048 4096 8192; do time ./vmul/vmul 33554432 $i 1 30 2>> ./vmul/vmul.csv ; done"
   ]
  },
  {
   "cell_type": "code",
   "execution_count": null,
   "id": "57027deb-99ae-4aa4-af88-7926abfdab58",
   "metadata": {},
   "outputs": [],
   "source": [
    "df = render_csv(\"./vmul/vmul.csv\")\n",
    "df[\"TOTAL\"] = df[\"CPUTIME\"] + df[\"HOST2GPU\"] + df[\"GPUTIME\"] + df[\"GPU2HOST\"]\n",
    "df = df.sort_values(by=[\"THREADS\"], ascending=True)\n",
    "display_df_mono(df)\n",
    "plotPE(df=df, lines=True, what=[ ('THREADS', \"TOTAL\"), ('THREADS', \"GPUTIME\")], columns=2)"
   ]
  },
  {
   "cell_type": "markdown",
   "id": "3747180a-ce28-4329-b26e-1c17ac309e97",
   "metadata": {},
   "source": [
    "# Choose the \"right\" metrics\n",
    "\n",
    "## Throughput and Latency\n",
    "\n",
    "### GPU performance\n",
    "\n",
    "Let's compare the performance of running matrix multiplications on GPU is get a feeling about the difference between \"throughput\" and latency"
   ]
  },
  {
   "cell_type": "code",
   "execution_count": 54,
   "id": "ead92f54-20c5-417f-ae7e-9a02635b43b5",
   "metadata": {},
   "outputs": [
    {
     "name": "stdout",
     "output_type": "stream",
     "text": [
      "Data Type Size: 4\n",
      "Time elapsed on matrix multiplication of 16x16 . 16x16 on GPU: 0.084192 ms.\n",
      "\n",
      "\n",
      "Throughput: 0.10 GFLOPS\n",
      "\n"
     ]
    }
   ],
   "source": [
    "! cd ./metrics; ./cudamm 16 1"
   ]
  },
  {
   "cell_type": "code",
   "execution_count": 55,
   "id": "263aefef-150f-4ba0-830a-0ecc6843e52a",
   "metadata": {
    "tags": []
   },
   "outputs": [
    {
     "name": "stdout",
     "output_type": "stream",
     "text": [
      "Data Type Size: 4\n",
      "Time elapsed on matrix multiplication of 32x32 . 32x32 on GPU: 0.080416 ms.\n",
      "\n",
      "\n",
      "Throughput: 0.81 GFLOPS\n",
      "\n"
     ]
    }
   ],
   "source": [
    "! cd ./metrics; ./cudamm 32 1"
   ]
  },
  {
   "cell_type": "code",
   "execution_count": 57,
   "id": "49abc2af-6339-4b79-b373-81404505b586",
   "metadata": {
    "tags": []
   },
   "outputs": [
    {
     "name": "stdout",
     "output_type": "stream",
     "text": [
      "Data Type Size: 4\n",
      "Time elapsed on matrix multiplication of 64x64 . 64x64 on GPU: 0.082752 ms.\n",
      "\n",
      "\n",
      "Throughput: 6.34 GFLOPS\n",
      "\n"
     ]
    }
   ],
   "source": [
    "! cd ./metrics; ./cudamm 64 1"
   ]
  },
  {
   "cell_type": "markdown",
   "id": "a5abfe95-44f8-415a-a571-df8ad9a36beb",
   "metadata": {},
   "source": [
    "What do you find regarding the \"latencies\" of these three cases?\n",
    "\n",
    "What do you find regarding the \"throughput\" of these three cases?"
   ]
  },
  {
   "cell_type": "code",
   "execution_count": null,
   "id": "9c01be64-4757-49e7-839f-c17bc7421d1d",
   "metadata": {},
   "outputs": [],
   "source": [
    "### SSD v.s. HDD\n",
    "\n",
    "You may use to hdparm (need root permission to execute). The /dev/sda on this machine is an SATA SSD that has around 450-500MB/sec bandwidth. The /dev/md0 is a RAID contains two H.D.Ds in RAID-0 configuration that also achieves 450-500MB/sec bandwidth. Let's examine the bandwidth using the following command."
   ]
  },
  {
   "cell_type": "code",
   "execution_count": null,
   "id": "2e609d7a-4a9a-4b77-83fc-764de897ffd9",
   "metadata": {},
   "outputs": [],
   "source": [
    "from IPython.display import IFrame\n",
    "IFrame(\"https://hub.escalab.org:8000/user/htseng/terminals/1\", width=\"100%\", height=\"400\")"
   ]
  },
  {
   "cell_type": "markdown",
   "id": "abb91ae4-11f4-4acc-a107-c60b84d99149",
   "metadata": {},
   "source": [
    "Now, let's revisit the optimized gpusort on this machine with different array size..."
   ]
  },
  {
   "cell_type": "code",
   "execution_count": null,
   "id": "c4844277-f48e-4fe6-b9e0-6c0c88fa3c57",
   "metadata": {},
   "outputs": [],
   "source": [
    "! echo \"Configuration,Size,ET,FileInput,CPU_Kernel,GPU_Kernel,Host2GPU,GPU2Host\" > sort_small.csv\n",
    "! echo \"File on H.D.D\"\n",
    "! cd gpusort; source ./run_small 512 2>> ../sort_small.csv\n",
    "! echo \"File on S.S.D\"\n",
    "! cd gpusort; source ./run_small_SSD 512 2>> ../sort_small.csv\n",
    "! echo \"File on H.D.D\"\n",
    "! cd gpusort; source ./run_small 32768 2>> ../sort_small.csv\n",
    "! echo \"File on S.S.D\"\n",
    "! cd gpusort; source ./run_small_SSD 32768 2>> ../sort_small.csv\n",
    "! echo \"File on H.D.D\"\n",
    "! cd gpusort; source ./run_small 262144 2>> ../sort_small.csv\n",
    "! echo \"File on S.S.D\"\n",
    "! cd gpusort; source ./run_small_SSD 262144 2>> ../sort_small.csv\n",
    "display_df_mono((render_csv(\"sort_small.csv\")))"
   ]
  },
  {
   "cell_type": "markdown",
   "id": "f7b7b25d-f14d-498a-8f9b-68ebfd312647",
   "metadata": {},
   "source": [
    "What can we observe here?"
   ]
  },
  {
   "cell_type": "markdown",
   "id": "9aebafa3-2b3e-4088-a67e-18e3798a0f9f",
   "metadata": {},
   "source": [
    "## FLOPs"
   ]
  },
  {
   "cell_type": "code",
   "execution_count": 58,
   "id": "0fe8b5c3-d57d-4859-835f-63499df88d55",
   "metadata": {},
   "outputs": [
    {
     "name": "stdout",
     "output_type": "stream",
     "text": [
      "make: Nothing to be done for 'all'.\n",
      "Data type size: 4\n",
      "\n",
      "Time: 4465.740 ms\n",
      "\n",
      "Throughput: 3.85 GFLOPS\n",
      "\n"
     ]
    }
   ],
   "source": [
    "! cd metrics; make\n",
    "! cd ./metrics; ./cpumm 2048 512"
   ]
  },
  {
   "cell_type": "code",
   "execution_count": 59,
   "id": "fde55ef5-164c-4e18-9264-1b95f85ae2af",
   "metadata": {},
   "outputs": [
    {
     "name": "stdout",
     "output_type": "stream",
     "text": [
      "Data Type Size: 4\n",
      "Time elapsed on matrix multiplication of 128x128 . 128x128 on GPU: 0.122976 ms.\n",
      "\n",
      "\n",
      "Throughput: 34.11 GFLOPS\n",
      "\n"
     ]
    }
   ],
   "source": [
    "! cd ./metrics; ./cudamm 128 1"
   ]
  },
  {
   "cell_type": "code",
   "execution_count": 60,
   "id": "301e8c86-e7b8-4d16-8715-e7a893be9ed0",
   "metadata": {},
   "outputs": [
    {
     "name": "stdout",
     "output_type": "stream",
     "text": [
      "Data Type Size: 4\n",
      "Time elapsed on matrix multiplication of 256x256 . 256x256 on GPU: 0.240960 ms.\n",
      "\n",
      "\n",
      "Throughput: 139.25 GFLOPS\n",
      "\n"
     ]
    }
   ],
   "source": [
    "! cd ./metrics; ./cudamm 256 1"
   ]
  },
  {
   "cell_type": "code",
   "execution_count": 61,
   "id": "51531017-ea4a-4fe9-afe0-91ca7d43d9b1",
   "metadata": {},
   "outputs": [
    {
     "name": "stdout",
     "output_type": "stream",
     "text": [
      "Data Type Size: 4\n",
      "Time elapsed on matrix multiplication of 2048x2048 . 2048x2048 on GPU: 15.069920 ms.\n",
      "\n",
      "\n",
      "Throughput: 1140.01 GFLOPS\n",
      "\n"
     ]
    }
   ],
   "source": [
    "! cd ./metrics; ./cudamm 2048 1"
   ]
  },
  {
   "cell_type": "code",
   "execution_count": 62,
   "id": "f536894b-44e9-432f-8897-224a8625d47b",
   "metadata": {},
   "outputs": [
    {
     "name": "stdout",
     "output_type": "stream",
     "text": [
      "Data Type Size: 4\n",
      "Time elapsed on matrix multiplication of 4096x4096 . 4096x4096 on GPU: 93.704163 ms.\n",
      "\n",
      "\n",
      "Throughput: 1466.73 GFLOPS\n",
      "\n"
     ]
    }
   ],
   "source": [
    "! cd ./metrics; ./cudamm 4096 1"
   ]
  },
  {
   "cell_type": "code",
   "execution_count": 63,
   "id": "7cd5ca1c-59b5-4327-88e6-147206eb8cdc",
   "metadata": {},
   "outputs": [
    {
     "name": "stdout",
     "output_type": "stream",
     "text": [
      "Data Type Size: 4\n",
      "Time elapsed on matrix multiplication of 8192x8192 . 8192x8192 on GPU: 675.555420 ms.\n",
      "\n",
      "\n",
      "Throughput: 1627.57 GFLOPS\n",
      "\n"
     ]
    }
   ],
   "source": [
    "! cd metrics; ./cudamm 8192 1"
   ]
  },
  {
   "cell_type": "code",
   "execution_count": 64,
   "id": "ade98520-6b66-46fd-bc8e-8c40e76a9299",
   "metadata": {},
   "outputs": [
    {
     "name": "stdout",
     "output_type": "stream",
     "text": [
      "Data Type Size: 8\n",
      "Time elapsed on matrix multiplication of 2048x2048 . 2048x2048 on GPU: 54.336319 ms.\n",
      "\n",
      "\n",
      "Throughput: 316.18 GFLOPS\n",
      "\n"
     ]
    }
   ],
   "source": [
    "! cd metrics; ./cudamm_double 2048 1"
   ]
  },
  {
   "cell_type": "code",
   "execution_count": null,
   "id": "74caab1a-9df8-4822-9de6-d349745324b0",
   "metadata": {},
   "outputs": [],
   "source": [
    "! cd metrics;  ./cudamm_double 2048 0"
   ]
  },
  {
   "cell_type": "code",
   "execution_count": null,
   "id": "3bcd4351-670e-4bc0-a5f4-1104dc643a1a",
   "metadata": {},
   "outputs": [],
   "source": [
    "! cd metrics; ./cpumm_double 2048 512"
   ]
  },
  {
   "cell_type": "code",
   "execution_count": null,
   "id": "ea3b5208-bc0d-4e07-838e-0fde627a20cb",
   "metadata": {},
   "outputs": [],
   "source": [
    "! cd metrics;  ./cudamm 2048 0"
   ]
  },
  {
   "cell_type": "code",
   "execution_count": null,
   "id": "e7b788b5-f68a-4961-86dc-5b3f9c6e238c",
   "metadata": {},
   "outputs": [],
   "source": []
  }
 ],
 "metadata": {
  "kernelspec": {
   "display_name": "Python 3 (ipykernel)",
   "language": "python",
   "name": "python3"
  },
  "language_info": {
   "codemirror_mode": {
    "name": "ipython",
    "version": 3
   },
   "file_extension": ".py",
   "mimetype": "text/x-python",
   "name": "python",
   "nbconvert_exporter": "python",
   "pygments_lexer": "ipython3",
   "version": "3.8.10"
  },
  "widgets": {
   "application/vnd.jupyter.widget-state+json": {
    "state": {},
    "version_major": 2,
    "version_minor": 0
   }
  }
 },
 "nbformat": 4,
 "nbformat_minor": 5
}
