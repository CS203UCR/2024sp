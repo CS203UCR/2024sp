{
 "cells": [
  {
   "cell_type": "code",
   "execution_count": 14,
   "id": "3325cd24-6aa7-4cb6-a424-dc361d893ad8",
   "metadata": {},
   "outputs": [
    {
     "name": "stdout",
     "output_type": "stream",
     "text": [
      "The autoreload extension is already loaded. To reload it, use:\n",
      "  %reload_ext autoreload\n"
     ]
    }
   ],
   "source": [
    "# Please execute/shift-return this cell everytime you run the notebook.  Don't edit it. \n",
    "%load_ext autoreload\n",
    "%autoreload 2\n",
    "from notebook import * "
   ]
  },
  {
   "cell_type": "markdown",
   "id": "994e4532-9dba-4150-8e52-424f2edc8171",
   "metadata": {},
   "source": [
    "# Software Optimizations -- how to write cache friendly code?"
   ]
  },
  {
   "cell_type": "markdown",
   "id": "350a5791-bfd1-4a57-b7d1-a497d4f7b001",
   "metadata": {},
   "source": [
    "## Revisiting the design of your data structures."
   ]
  },
  {
   "cell_type": "markdown",
   "id": "8016c915-7859-4deb-b28b-34ccb7e0ba3c",
   "metadata": {},
   "source": [
    "### What's a better data structure?"
   ]
  },
  {
   "cell_type": "code",
   "execution_count": 15,
   "id": "572e99c6-ff94-4105-85f8-36a59607af3a",
   "metadata": {},
   "outputs": [
    {
     "data": {
      "text/html": [
       "\n",
       "            <style>\n",
       "        .side-by-side {\n",
       "            display: flex;\n",
       "            align-items: stretch;\n",
       "\n",
       "        }\n",
       "        .side-by-side-pane {\n",
       "            margin-right:1em;\n",
       "            border-right-style: solid;\n",
       "            border-right-color: black;\n",
       "            border-right-width: 1px;\n",
       "            flex: 1;\n",
       "        }\n",
       "        </style>\n",
       "        <div class=\"side-by-side\"> <div class='side-by-side-pane'><style>pre { line-height: 125%; }\n",
       "td.linenos .normal { color: inherit; background-color: transparent; padding-left: 5px; padding-right: 5px; }\n",
       "span.linenos { color: inherit; background-color: transparent; padding-left: 5px; padding-right: 5px; }\n",
       "td.linenos .special { color: #000000; background-color: #ffffc0; padding-left: 5px; padding-right: 5px; }\n",
       "span.linenos.special { color: #000000; background-color: #ffffc0; padding-left: 5px; padding-right: 5px; }\n",
       ".output_html .hll { background-color: #ffffcc }\n",
       ".output_html { background: #f8f8f8; }\n",
       ".output_html .c { color: #3D7B7B; font-style: italic } /* Comment */\n",
       ".output_html .err { border: 1px solid #FF0000 } /* Error */\n",
       ".output_html .k { color: #008000; font-weight: bold } /* Keyword */\n",
       ".output_html .o { color: #666666 } /* Operator */\n",
       ".output_html .ch { color: #3D7B7B; font-style: italic } /* Comment.Hashbang */\n",
       ".output_html .cm { color: #3D7B7B; font-style: italic } /* Comment.Multiline */\n",
       ".output_html .cp { color: #9C6500 } /* Comment.Preproc */\n",
       ".output_html .cpf { color: #3D7B7B; font-style: italic } /* Comment.PreprocFile */\n",
       ".output_html .c1 { color: #3D7B7B; font-style: italic } /* Comment.Single */\n",
       ".output_html .cs { color: #3D7B7B; font-style: italic } /* Comment.Special */\n",
       ".output_html .gd { color: #A00000 } /* Generic.Deleted */\n",
       ".output_html .ge { font-style: italic } /* Generic.Emph */\n",
       ".output_html .gr { color: #E40000 } /* Generic.Error */\n",
       ".output_html .gh { color: #000080; font-weight: bold } /* Generic.Heading */\n",
       ".output_html .gi { color: #008400 } /* Generic.Inserted */\n",
       ".output_html .go { color: #717171 } /* Generic.Output */\n",
       ".output_html .gp { color: #000080; font-weight: bold } /* Generic.Prompt */\n",
       ".output_html .gs { font-weight: bold } /* Generic.Strong */\n",
       ".output_html .gu { color: #800080; font-weight: bold } /* Generic.Subheading */\n",
       ".output_html .gt { color: #0044DD } /* Generic.Traceback */\n",
       ".output_html .kc { color: #008000; font-weight: bold } /* Keyword.Constant */\n",
       ".output_html .kd { color: #008000; font-weight: bold } /* Keyword.Declaration */\n",
       ".output_html .kn { color: #008000; font-weight: bold } /* Keyword.Namespace */\n",
       ".output_html .kp { color: #008000 } /* Keyword.Pseudo */\n",
       ".output_html .kr { color: #008000; font-weight: bold } /* Keyword.Reserved */\n",
       ".output_html .kt { color: #B00040 } /* Keyword.Type */\n",
       ".output_html .m { color: #666666 } /* Literal.Number */\n",
       ".output_html .s { color: #BA2121 } /* Literal.String */\n",
       ".output_html .na { color: #687822 } /* Name.Attribute */\n",
       ".output_html .nb { color: #008000 } /* Name.Builtin */\n",
       ".output_html .nc { color: #0000FF; font-weight: bold } /* Name.Class */\n",
       ".output_html .no { color: #880000 } /* Name.Constant */\n",
       ".output_html .nd { color: #AA22FF } /* Name.Decorator */\n",
       ".output_html .ni { color: #717171; font-weight: bold } /* Name.Entity */\n",
       ".output_html .ne { color: #CB3F38; font-weight: bold } /* Name.Exception */\n",
       ".output_html .nf { color: #0000FF } /* Name.Function */\n",
       ".output_html .nl { color: #767600 } /* Name.Label */\n",
       ".output_html .nn { color: #0000FF; font-weight: bold } /* Name.Namespace */\n",
       ".output_html .nt { color: #008000; font-weight: bold } /* Name.Tag */\n",
       ".output_html .nv { color: #19177C } /* Name.Variable */\n",
       ".output_html .ow { color: #AA22FF; font-weight: bold } /* Operator.Word */\n",
       ".output_html .w { color: #bbbbbb } /* Text.Whitespace */\n",
       ".output_html .mb { color: #666666 } /* Literal.Number.Bin */\n",
       ".output_html .mf { color: #666666 } /* Literal.Number.Float */\n",
       ".output_html .mh { color: #666666 } /* Literal.Number.Hex */\n",
       ".output_html .mi { color: #666666 } /* Literal.Number.Integer */\n",
       ".output_html .mo { color: #666666 } /* Literal.Number.Oct */\n",
       ".output_html .sa { color: #BA2121 } /* Literal.String.Affix */\n",
       ".output_html .sb { color: #BA2121 } /* Literal.String.Backtick */\n",
       ".output_html .sc { color: #BA2121 } /* Literal.String.Char */\n",
       ".output_html .dl { color: #BA2121 } /* Literal.String.Delimiter */\n",
       ".output_html .sd { color: #BA2121; font-style: italic } /* Literal.String.Doc */\n",
       ".output_html .s2 { color: #BA2121 } /* Literal.String.Double */\n",
       ".output_html .se { color: #AA5D1F; font-weight: bold } /* Literal.String.Escape */\n",
       ".output_html .sh { color: #BA2121 } /* Literal.String.Heredoc */\n",
       ".output_html .si { color: #A45A77; font-weight: bold } /* Literal.String.Interpol */\n",
       ".output_html .sx { color: #008000 } /* Literal.String.Other */\n",
       ".output_html .sr { color: #A45A77 } /* Literal.String.Regex */\n",
       ".output_html .s1 { color: #BA2121 } /* Literal.String.Single */\n",
       ".output_html .ss { color: #19177C } /* Literal.String.Symbol */\n",
       ".output_html .bp { color: #008000 } /* Name.Builtin.Pseudo */\n",
       ".output_html .fm { color: #0000FF } /* Name.Function.Magic */\n",
       ".output_html .vc { color: #19177C } /* Name.Variable.Class */\n",
       ".output_html .vg { color: #19177C } /* Name.Variable.Global */\n",
       ".output_html .vi { color: #19177C } /* Name.Variable.Instance */\n",
       ".output_html .vm { color: #19177C } /* Name.Variable.Magic */\n",
       ".output_html .il { color: #666666 } /* Literal.Number.Integer.Long */</style><div class=\"highlight\"><pre><span></span><span class=\"c1\">// ./structure/array_of_objects.c:4-39 (36 lines)</span>\n",
       "<span class=\"c1\">//START</span>\n",
       "<span class=\"k\">struct</span><span class=\"w\"> </span><span class=\"nc\">grades</span><span class=\"w\"></span>\n",
       "<span class=\"p\">{</span><span class=\"w\"></span>\n",
       "<span class=\"w\">  </span><span class=\"kt\">int</span><span class=\"w\"> </span><span class=\"n\">id</span><span class=\"p\">;</span><span class=\"w\"></span>\n",
       "<span class=\"w\">  </span><span class=\"kt\">double</span><span class=\"w\"> </span><span class=\"o\">*</span><span class=\"n\">homework</span><span class=\"p\">;</span><span class=\"w\"></span>\n",
       "<span class=\"w\">  </span><span class=\"kt\">double</span><span class=\"w\"> </span><span class=\"n\">average</span><span class=\"p\">;</span><span class=\"w\"></span>\n",
       "<span class=\"p\">};</span><span class=\"w\"></span>\n",
       "\n",
       "<span class=\"kt\">int</span><span class=\"w\"> </span><span class=\"nf\">main</span><span class=\"p\">(</span><span class=\"kt\">int</span><span class=\"w\"> </span><span class=\"n\">argc</span><span class=\"p\">,</span><span class=\"w\"> </span><span class=\"kt\">char</span><span class=\"w\"> </span><span class=\"o\">**</span><span class=\"n\">argv</span><span class=\"p\">)</span><span class=\"w\"></span>\n",
       "<span class=\"p\">{</span><span class=\"w\"></span>\n",
       "<span class=\"w\">  </span><span class=\"k\">struct</span><span class=\"w\"> </span><span class=\"nc\">grades</span><span class=\"w\"> </span><span class=\"o\">*</span><span class=\"n\">gradesheet</span><span class=\"p\">;</span><span class=\"w\"></span>\n",
       "<span class=\"w\">  </span><span class=\"kt\">int</span><span class=\"w\"> </span><span class=\"n\">i</span><span class=\"p\">,</span><span class=\"n\">j</span><span class=\"p\">;</span><span class=\"w\"> </span>\n",
       "<span class=\"w\">  </span><span class=\"kt\">int</span><span class=\"w\"> </span><span class=\"n\">total_number_students</span><span class=\"w\"> </span><span class=\"o\">=</span><span class=\"w\"> </span><span class=\"mi\">28800</span><span class=\"p\">;</span><span class=\"w\"></span>\n",
       "<span class=\"w\">  </span><span class=\"kt\">int</span><span class=\"w\"> </span><span class=\"n\">homework_items</span><span class=\"w\"> </span><span class=\"o\">=</span><span class=\"w\"> </span><span class=\"mi\">10000</span><span class=\"p\">;</span><span class=\"w\"></span>\n",
       "<span class=\"w\">  </span><span class=\"kt\">double</span><span class=\"w\"> </span><span class=\"n\">average</span><span class=\"w\"> </span><span class=\"o\">=</span><span class=\"w\"> </span><span class=\"mi\">0</span><span class=\"p\">;</span><span class=\"w\"></span>\n",
       "<span class=\"w\">  </span><span class=\"kt\">int</span><span class=\"w\"> </span><span class=\"n\">student_average</span><span class=\"w\"> </span><span class=\"o\">=</span><span class=\"w\"> </span><span class=\"mi\">1</span><span class=\"p\">;</span><span class=\"w\"></span>\n",
       "<span class=\"w\">  </span><span class=\"k\">if</span><span class=\"p\">(</span><span class=\"n\">argc</span><span class=\"w\"> </span><span class=\"o\">&gt;=</span><span class=\"w\"> </span><span class=\"mi\">3</span><span class=\"p\">)</span><span class=\"w\"></span>\n",
       "<span class=\"w\">  </span><span class=\"p\">{</span><span class=\"w\"></span>\n",
       "<span class=\"w\">    </span><span class=\"n\">total_number_students</span><span class=\"w\"> </span><span class=\"o\">=</span><span class=\"w\"> </span><span class=\"n\">atoi</span><span class=\"p\">(</span><span class=\"n\">argv</span><span class=\"p\">[</span><span class=\"mi\">1</span><span class=\"p\">]);</span><span class=\"w\"></span>\n",
       "<span class=\"w\">    </span><span class=\"n\">homework_items</span><span class=\"w\"> </span><span class=\"o\">=</span><span class=\"w\"> </span><span class=\"n\">atoi</span><span class=\"p\">(</span><span class=\"n\">argv</span><span class=\"p\">[</span><span class=\"mi\">2</span><span class=\"p\">]);</span><span class=\"w\"></span>\n",
       "<span class=\"w\">  </span><span class=\"p\">}</span><span class=\"w\"></span>\n",
       "<span class=\"w\">  </span><span class=\"k\">else</span><span class=\"w\"></span>\n",
       "<span class=\"w\">  </span><span class=\"p\">{</span><span class=\"w\"></span>\n",
       "<span class=\"w\">    </span><span class=\"n\">fprintf</span><span class=\"p\">(</span><span class=\"n\">stderr</span><span class=\"p\">,</span><span class=\"s\">&quot;%s total_number_students homework_items&quot;</span><span class=\"p\">,</span><span class=\"n\">argv</span><span class=\"p\">[</span><span class=\"mi\">0</span><span class=\"p\">]);</span><span class=\"w\"></span>\n",
       "<span class=\"w\">    </span><span class=\"n\">exit</span><span class=\"p\">(</span><span class=\"mi\">1</span><span class=\"p\">);</span><span class=\"w\"></span>\n",
       "<span class=\"w\">  </span><span class=\"p\">}</span><span class=\"w\"></span>\n",
       "<span class=\"w\">  </span><span class=\"k\">if</span><span class=\"p\">(</span><span class=\"n\">argc</span><span class=\"w\"> </span><span class=\"o\">&gt;=</span><span class=\"w\"> </span><span class=\"mi\">4</span><span class=\"p\">)</span><span class=\"w\"></span>\n",
       "<span class=\"w\">    </span><span class=\"n\">student_average</span><span class=\"w\"> </span><span class=\"o\">=</span><span class=\"w\"> </span><span class=\"mi\">0</span><span class=\"p\">;</span><span class=\"w\"></span>\n",
       "<span class=\"w\">  </span><span class=\"n\">gradesheet</span><span class=\"w\"> </span><span class=\"o\">=</span><span class=\"w\"> </span><span class=\"p\">(</span><span class=\"k\">struct</span><span class=\"w\"> </span><span class=\"nc\">grades</span><span class=\"w\"> </span><span class=\"o\">*</span><span class=\"p\">)</span><span class=\"n\">malloc</span><span class=\"p\">((</span><span class=\"n\">total_number_students</span><span class=\"w\"> </span><span class=\"o\">+</span><span class=\"w\"> </span><span class=\"mi\">1</span><span class=\"p\">)</span><span class=\"o\">*</span><span class=\"k\">sizeof</span><span class=\"p\">(</span><span class=\"k\">struct</span><span class=\"w\"> </span><span class=\"nc\">grades</span><span class=\"p\">));</span><span class=\"w\"></span>\n",
       "<span class=\"w\">  </span><span class=\"k\">for</span><span class=\"p\">(</span><span class=\"n\">i</span><span class=\"o\">=</span><span class=\"mi\">0</span><span class=\"p\">;</span><span class=\"n\">i</span><span class=\"o\">&lt;</span><span class=\"n\">total_number_students</span><span class=\"o\">+</span><span class=\"mi\">1</span><span class=\"p\">;</span><span class=\"w\"> </span><span class=\"n\">i</span><span class=\"o\">++</span><span class=\"p\">)</span><span class=\"w\"></span>\n",
       "<span class=\"w\">  </span><span class=\"p\">{</span><span class=\"w\"></span>\n",
       "<span class=\"w\">      </span><span class=\"n\">gradesheet</span><span class=\"p\">[</span><span class=\"n\">i</span><span class=\"p\">].</span><span class=\"n\">homework</span><span class=\"w\"> </span><span class=\"o\">=</span><span class=\"w\"> </span><span class=\"p\">(</span><span class=\"kt\">double</span><span class=\"w\"> </span><span class=\"o\">*</span><span class=\"p\">)</span><span class=\"n\">malloc</span><span class=\"p\">((</span><span class=\"n\">total_number_students</span><span class=\"p\">)</span><span class=\"o\">*</span><span class=\"k\">sizeof</span><span class=\"p\">(</span><span class=\"kt\">double</span><span class=\"p\">));</span><span class=\"w\"></span>\n",
       "<span class=\"w\">      </span><span class=\"k\">for</span><span class=\"p\">(</span><span class=\"n\">j</span><span class=\"o\">=</span><span class=\"mi\">0</span><span class=\"p\">;</span><span class=\"n\">j</span><span class=\"o\">&lt;</span><span class=\"n\">homework_items</span><span class=\"p\">;</span><span class=\"n\">j</span><span class=\"o\">++</span><span class=\"p\">)</span><span class=\"w\"></span>\n",
       "<span class=\"w\">        </span><span class=\"n\">gradesheet</span><span class=\"p\">[</span><span class=\"n\">i</span><span class=\"p\">].</span><span class=\"n\">homework</span><span class=\"p\">[</span><span class=\"n\">j</span><span class=\"p\">]</span><span class=\"w\"> </span><span class=\"o\">=</span><span class=\"w\"> </span><span class=\"n\">rand</span><span class=\"p\">();</span><span class=\"w\"></span>\n",
       "<span class=\"w\">  </span><span class=\"p\">}</span><span class=\"w\"></span>\n",
       "<span class=\"c1\">//END</span>\n",
       "</pre></div>\n",
       "</div><div class='side-by-side-pane'><style>pre { line-height: 125%; }\n",
       "td.linenos .normal { color: inherit; background-color: transparent; padding-left: 5px; padding-right: 5px; }\n",
       "span.linenos { color: inherit; background-color: transparent; padding-left: 5px; padding-right: 5px; }\n",
       "td.linenos .special { color: #000000; background-color: #ffffc0; padding-left: 5px; padding-right: 5px; }\n",
       "span.linenos.special { color: #000000; background-color: #ffffc0; padding-left: 5px; padding-right: 5px; }\n",
       ".output_html .hll { background-color: #ffffcc }\n",
       ".output_html { background: #f8f8f8; }\n",
       ".output_html .c { color: #3D7B7B; font-style: italic } /* Comment */\n",
       ".output_html .err { border: 1px solid #FF0000 } /* Error */\n",
       ".output_html .k { color: #008000; font-weight: bold } /* Keyword */\n",
       ".output_html .o { color: #666666 } /* Operator */\n",
       ".output_html .ch { color: #3D7B7B; font-style: italic } /* Comment.Hashbang */\n",
       ".output_html .cm { color: #3D7B7B; font-style: italic } /* Comment.Multiline */\n",
       ".output_html .cp { color: #9C6500 } /* Comment.Preproc */\n",
       ".output_html .cpf { color: #3D7B7B; font-style: italic } /* Comment.PreprocFile */\n",
       ".output_html .c1 { color: #3D7B7B; font-style: italic } /* Comment.Single */\n",
       ".output_html .cs { color: #3D7B7B; font-style: italic } /* Comment.Special */\n",
       ".output_html .gd { color: #A00000 } /* Generic.Deleted */\n",
       ".output_html .ge { font-style: italic } /* Generic.Emph */\n",
       ".output_html .gr { color: #E40000 } /* Generic.Error */\n",
       ".output_html .gh { color: #000080; font-weight: bold } /* Generic.Heading */\n",
       ".output_html .gi { color: #008400 } /* Generic.Inserted */\n",
       ".output_html .go { color: #717171 } /* Generic.Output */\n",
       ".output_html .gp { color: #000080; font-weight: bold } /* Generic.Prompt */\n",
       ".output_html .gs { font-weight: bold } /* Generic.Strong */\n",
       ".output_html .gu { color: #800080; font-weight: bold } /* Generic.Subheading */\n",
       ".output_html .gt { color: #0044DD } /* Generic.Traceback */\n",
       ".output_html .kc { color: #008000; font-weight: bold } /* Keyword.Constant */\n",
       ".output_html .kd { color: #008000; font-weight: bold } /* Keyword.Declaration */\n",
       ".output_html .kn { color: #008000; font-weight: bold } /* Keyword.Namespace */\n",
       ".output_html .kp { color: #008000 } /* Keyword.Pseudo */\n",
       ".output_html .kr { color: #008000; font-weight: bold } /* Keyword.Reserved */\n",
       ".output_html .kt { color: #B00040 } /* Keyword.Type */\n",
       ".output_html .m { color: #666666 } /* Literal.Number */\n",
       ".output_html .s { color: #BA2121 } /* Literal.String */\n",
       ".output_html .na { color: #687822 } /* Name.Attribute */\n",
       ".output_html .nb { color: #008000 } /* Name.Builtin */\n",
       ".output_html .nc { color: #0000FF; font-weight: bold } /* Name.Class */\n",
       ".output_html .no { color: #880000 } /* Name.Constant */\n",
       ".output_html .nd { color: #AA22FF } /* Name.Decorator */\n",
       ".output_html .ni { color: #717171; font-weight: bold } /* Name.Entity */\n",
       ".output_html .ne { color: #CB3F38; font-weight: bold } /* Name.Exception */\n",
       ".output_html .nf { color: #0000FF } /* Name.Function */\n",
       ".output_html .nl { color: #767600 } /* Name.Label */\n",
       ".output_html .nn { color: #0000FF; font-weight: bold } /* Name.Namespace */\n",
       ".output_html .nt { color: #008000; font-weight: bold } /* Name.Tag */\n",
       ".output_html .nv { color: #19177C } /* Name.Variable */\n",
       ".output_html .ow { color: #AA22FF; font-weight: bold } /* Operator.Word */\n",
       ".output_html .w { color: #bbbbbb } /* Text.Whitespace */\n",
       ".output_html .mb { color: #666666 } /* Literal.Number.Bin */\n",
       ".output_html .mf { color: #666666 } /* Literal.Number.Float */\n",
       ".output_html .mh { color: #666666 } /* Literal.Number.Hex */\n",
       ".output_html .mi { color: #666666 } /* Literal.Number.Integer */\n",
       ".output_html .mo { color: #666666 } /* Literal.Number.Oct */\n",
       ".output_html .sa { color: #BA2121 } /* Literal.String.Affix */\n",
       ".output_html .sb { color: #BA2121 } /* Literal.String.Backtick */\n",
       ".output_html .sc { color: #BA2121 } /* Literal.String.Char */\n",
       ".output_html .dl { color: #BA2121 } /* Literal.String.Delimiter */\n",
       ".output_html .sd { color: #BA2121; font-style: italic } /* Literal.String.Doc */\n",
       ".output_html .s2 { color: #BA2121 } /* Literal.String.Double */\n",
       ".output_html .se { color: #AA5D1F; font-weight: bold } /* Literal.String.Escape */\n",
       ".output_html .sh { color: #BA2121 } /* Literal.String.Heredoc */\n",
       ".output_html .si { color: #A45A77; font-weight: bold } /* Literal.String.Interpol */\n",
       ".output_html .sx { color: #008000 } /* Literal.String.Other */\n",
       ".output_html .sr { color: #A45A77 } /* Literal.String.Regex */\n",
       ".output_html .s1 { color: #BA2121 } /* Literal.String.Single */\n",
       ".output_html .ss { color: #19177C } /* Literal.String.Symbol */\n",
       ".output_html .bp { color: #008000 } /* Name.Builtin.Pseudo */\n",
       ".output_html .fm { color: #0000FF } /* Name.Function.Magic */\n",
       ".output_html .vc { color: #19177C } /* Name.Variable.Class */\n",
       ".output_html .vg { color: #19177C } /* Name.Variable.Global */\n",
       ".output_html .vi { color: #19177C } /* Name.Variable.Instance */\n",
       ".output_html .vm { color: #19177C } /* Name.Variable.Magic */\n",
       ".output_html .il { color: #666666 } /* Literal.Number.Integer.Long */</style><div class=\"highlight\"><pre><span></span><span class=\"c1\">// structure/object_of_arrays.c:4-38 (35 lines)</span>\n",
       "<span class=\"c1\">//START</span>\n",
       "<span class=\"k\">struct</span><span class=\"w\"> </span><span class=\"nc\">grades</span><span class=\"w\"></span>\n",
       "<span class=\"p\">{</span><span class=\"w\"></span>\n",
       "<span class=\"w\">  </span><span class=\"kt\">int</span><span class=\"w\"> </span><span class=\"o\">*</span><span class=\"n\">id</span><span class=\"p\">;</span><span class=\"w\"></span>\n",
       "<span class=\"w\">  </span><span class=\"kt\">double</span><span class=\"w\"> </span><span class=\"o\">**</span><span class=\"n\">homework</span><span class=\"p\">;</span><span class=\"w\"></span>\n",
       "<span class=\"w\">  </span><span class=\"kt\">double</span><span class=\"w\"> </span><span class=\"o\">*</span><span class=\"n\">average</span><span class=\"p\">;</span><span class=\"w\"></span>\n",
       "<span class=\"p\">};</span><span class=\"w\"></span>\n",
       "\n",
       "<span class=\"kt\">int</span><span class=\"w\"> </span><span class=\"nf\">main</span><span class=\"p\">(</span><span class=\"kt\">int</span><span class=\"w\"> </span><span class=\"n\">argc</span><span class=\"p\">,</span><span class=\"w\"> </span><span class=\"kt\">char</span><span class=\"w\"> </span><span class=\"o\">**</span><span class=\"n\">argv</span><span class=\"p\">)</span><span class=\"w\"></span>\n",
       "<span class=\"p\">{</span><span class=\"w\"></span>\n",
       "<span class=\"w\">  </span><span class=\"k\">struct</span><span class=\"w\"> </span><span class=\"nc\">grades</span><span class=\"w\"> </span><span class=\"n\">gradesheet</span><span class=\"p\">;</span><span class=\"w\"></span>\n",
       "<span class=\"w\">  </span><span class=\"kt\">int</span><span class=\"w\"> </span><span class=\"n\">i</span><span class=\"p\">,</span><span class=\"n\">j</span><span class=\"p\">;</span><span class=\"w\"> </span>\n",
       "<span class=\"w\">  </span><span class=\"kt\">int</span><span class=\"w\"> </span><span class=\"n\">total_number_students</span><span class=\"w\"> </span><span class=\"o\">=</span><span class=\"w\"> </span><span class=\"mi\">28800</span><span class=\"p\">;</span><span class=\"w\"></span>\n",
       "<span class=\"w\">  </span><span class=\"kt\">int</span><span class=\"w\"> </span><span class=\"n\">homework_items</span><span class=\"w\"> </span><span class=\"o\">=</span><span class=\"w\"> </span><span class=\"mi\">10000</span><span class=\"p\">;</span><span class=\"w\"></span>\n",
       "<span class=\"w\">  </span><span class=\"kt\">double</span><span class=\"w\"> </span><span class=\"n\">average</span><span class=\"w\"> </span><span class=\"o\">=</span><span class=\"w\"> </span><span class=\"mi\">0</span><span class=\"p\">;</span><span class=\"w\"></span>\n",
       "<span class=\"w\">  </span><span class=\"kt\">int</span><span class=\"w\"> </span><span class=\"n\">student_average</span><span class=\"w\"> </span><span class=\"o\">=</span><span class=\"w\"> </span><span class=\"mi\">1</span><span class=\"p\">;</span><span class=\"w\"></span>\n",
       "<span class=\"w\">  </span><span class=\"k\">if</span><span class=\"p\">(</span><span class=\"n\">argc</span><span class=\"w\"> </span><span class=\"o\">&gt;=</span><span class=\"w\"> </span><span class=\"mi\">3</span><span class=\"p\">)</span><span class=\"w\"></span>\n",
       "<span class=\"w\">  </span><span class=\"p\">{</span><span class=\"w\"></span>\n",
       "<span class=\"w\">    </span><span class=\"n\">total_number_students</span><span class=\"w\"> </span><span class=\"o\">=</span><span class=\"w\"> </span><span class=\"n\">atoi</span><span class=\"p\">(</span><span class=\"n\">argv</span><span class=\"p\">[</span><span class=\"mi\">1</span><span class=\"p\">]);</span><span class=\"w\"></span>\n",
       "<span class=\"w\">    </span><span class=\"n\">homework_items</span><span class=\"w\"> </span><span class=\"o\">=</span><span class=\"w\"> </span><span class=\"n\">atoi</span><span class=\"p\">(</span><span class=\"n\">argv</span><span class=\"p\">[</span><span class=\"mi\">2</span><span class=\"p\">]);</span><span class=\"w\"></span>\n",
       "<span class=\"w\">  </span><span class=\"p\">}</span><span class=\"w\"></span>\n",
       "<span class=\"w\">  </span><span class=\"k\">else</span><span class=\"w\"></span>\n",
       "<span class=\"w\">  </span><span class=\"p\">{</span><span class=\"w\"></span>\n",
       "<span class=\"w\">    </span><span class=\"n\">fprintf</span><span class=\"p\">(</span><span class=\"n\">stderr</span><span class=\"p\">,</span><span class=\"s\">&quot;%s total_number_students homework_items&quot;</span><span class=\"p\">,</span><span class=\"n\">argv</span><span class=\"p\">[</span><span class=\"mi\">0</span><span class=\"p\">]);</span><span class=\"w\"></span>\n",
       "<span class=\"w\">    </span><span class=\"n\">exit</span><span class=\"p\">(</span><span class=\"mi\">1</span><span class=\"p\">);</span><span class=\"w\"></span>\n",
       "<span class=\"w\">  </span><span class=\"p\">}</span><span class=\"w\"></span>\n",
       "<span class=\"w\">  </span><span class=\"k\">if</span><span class=\"p\">(</span><span class=\"n\">argc</span><span class=\"w\"> </span><span class=\"o\">&gt;=</span><span class=\"w\"> </span><span class=\"mi\">4</span><span class=\"p\">)</span><span class=\"w\"></span>\n",
       "<span class=\"w\">    </span><span class=\"n\">student_average</span><span class=\"w\"> </span><span class=\"o\">=</span><span class=\"w\"> </span><span class=\"mi\">0</span><span class=\"p\">;</span><span class=\"w\"></span>\n",
       "\n",
       "<span class=\"w\">  </span><span class=\"n\">gradesheet</span><span class=\"p\">.</span><span class=\"n\">id</span><span class=\"w\"> </span><span class=\"o\">=</span><span class=\"w\"> </span><span class=\"p\">(</span><span class=\"kt\">int</span><span class=\"w\"> </span><span class=\"o\">*</span><span class=\"p\">)</span><span class=\"n\">malloc</span><span class=\"p\">(</span><span class=\"n\">total_number_students</span><span class=\"o\">*</span><span class=\"k\">sizeof</span><span class=\"p\">(</span><span class=\"kt\">int</span><span class=\"p\">));</span><span class=\"w\"></span>\n",
       "<span class=\"w\">  </span><span class=\"k\">for</span><span class=\"p\">(</span><span class=\"n\">i</span><span class=\"o\">=</span><span class=\"mi\">0</span><span class=\"p\">;</span><span class=\"n\">i</span><span class=\"o\">&lt;</span><span class=\"n\">total_number_students</span><span class=\"p\">;</span><span class=\"n\">i</span><span class=\"o\">++</span><span class=\"p\">)</span><span class=\"w\"></span>\n",
       "<span class=\"w\">    </span><span class=\"n\">gradesheet</span><span class=\"p\">.</span><span class=\"n\">id</span><span class=\"p\">[</span><span class=\"n\">i</span><span class=\"p\">]</span><span class=\"w\"> </span><span class=\"o\">=</span><span class=\"w\"> </span><span class=\"n\">rand</span><span class=\"p\">();</span><span class=\"w\"></span>\n",
       "\n",
       "<span class=\"w\">  </span><span class=\"n\">gradesheet</span><span class=\"p\">.</span><span class=\"n\">homework</span><span class=\"w\"> </span><span class=\"o\">=</span><span class=\"w\"> </span><span class=\"p\">(</span><span class=\"kt\">double</span><span class=\"w\"> </span><span class=\"o\">**</span><span class=\"p\">)</span><span class=\"n\">malloc</span><span class=\"p\">((</span><span class=\"n\">homework_items</span><span class=\"o\">+</span><span class=\"mi\">1</span><span class=\"p\">)</span><span class=\"o\">*</span><span class=\"k\">sizeof</span><span class=\"p\">(</span><span class=\"kt\">double</span><span class=\"w\"> </span><span class=\"o\">*</span><span class=\"p\">));</span><span class=\"w\"></span>\n",
       "<span class=\"c1\">//END</span>\n",
       "</pre></div>\n",
       "</div>\n",
       "        </div>\n",
       "    "
      ],
      "text/plain": [
       "<IPython.core.display.HTML object>"
      ]
     },
     "execution_count": 15,
     "metadata": {},
     "output_type": "execute_result"
    }
   ],
   "source": [
    "compare([do_render_code(\"./structure/array_of_objects.c\", show=[\"//START\",\"//END\"]),do_render_code(\"structure/object_of_arrays.c\", show=[\"//START\",\"//END\"])])"
   ]
  },
  {
   "cell_type": "markdown",
   "id": "633aa399-0395-4a96-87e7-22f78fa7fd28",
   "metadata": {},
   "source": [
    "If the main workload is typically similar to \n",
    "```SELECT AVG(assignment_1) FROM table ```"
   ]
  },
  {
   "cell_type": "code",
   "execution_count": 16,
   "id": "59ec5919-d1d7-4b77-8cf5-ff9130a71ae7",
   "metadata": {},
   "outputs": [
    {
     "data": {
      "text/html": [
       "\n",
       "            <style>\n",
       "        .side-by-side {\n",
       "            display: flex;\n",
       "            align-items: stretch;\n",
       "\n",
       "        }\n",
       "        .side-by-side-pane {\n",
       "            margin-right:1em;\n",
       "            border-right-style: solid;\n",
       "            border-right-color: black;\n",
       "            border-right-width: 1px;\n",
       "            flex: 1;\n",
       "        }\n",
       "        </style>\n",
       "        <div class=\"side-by-side\"> <div class='side-by-side-pane'><style>pre { line-height: 125%; }\n",
       "td.linenos .normal { color: inherit; background-color: transparent; padding-left: 5px; padding-right: 5px; }\n",
       "span.linenos { color: inherit; background-color: transparent; padding-left: 5px; padding-right: 5px; }\n",
       "td.linenos .special { color: #000000; background-color: #ffffc0; padding-left: 5px; padding-right: 5px; }\n",
       "span.linenos.special { color: #000000; background-color: #ffffc0; padding-left: 5px; padding-right: 5px; }\n",
       ".output_html .hll { background-color: #ffffcc }\n",
       ".output_html { background: #f8f8f8; }\n",
       ".output_html .c { color: #3D7B7B; font-style: italic } /* Comment */\n",
       ".output_html .err { border: 1px solid #FF0000 } /* Error */\n",
       ".output_html .k { color: #008000; font-weight: bold } /* Keyword */\n",
       ".output_html .o { color: #666666 } /* Operator */\n",
       ".output_html .ch { color: #3D7B7B; font-style: italic } /* Comment.Hashbang */\n",
       ".output_html .cm { color: #3D7B7B; font-style: italic } /* Comment.Multiline */\n",
       ".output_html .cp { color: #9C6500 } /* Comment.Preproc */\n",
       ".output_html .cpf { color: #3D7B7B; font-style: italic } /* Comment.PreprocFile */\n",
       ".output_html .c1 { color: #3D7B7B; font-style: italic } /* Comment.Single */\n",
       ".output_html .cs { color: #3D7B7B; font-style: italic } /* Comment.Special */\n",
       ".output_html .gd { color: #A00000 } /* Generic.Deleted */\n",
       ".output_html .ge { font-style: italic } /* Generic.Emph */\n",
       ".output_html .gr { color: #E40000 } /* Generic.Error */\n",
       ".output_html .gh { color: #000080; font-weight: bold } /* Generic.Heading */\n",
       ".output_html .gi { color: #008400 } /* Generic.Inserted */\n",
       ".output_html .go { color: #717171 } /* Generic.Output */\n",
       ".output_html .gp { color: #000080; font-weight: bold } /* Generic.Prompt */\n",
       ".output_html .gs { font-weight: bold } /* Generic.Strong */\n",
       ".output_html .gu { color: #800080; font-weight: bold } /* Generic.Subheading */\n",
       ".output_html .gt { color: #0044DD } /* Generic.Traceback */\n",
       ".output_html .kc { color: #008000; font-weight: bold } /* Keyword.Constant */\n",
       ".output_html .kd { color: #008000; font-weight: bold } /* Keyword.Declaration */\n",
       ".output_html .kn { color: #008000; font-weight: bold } /* Keyword.Namespace */\n",
       ".output_html .kp { color: #008000 } /* Keyword.Pseudo */\n",
       ".output_html .kr { color: #008000; font-weight: bold } /* Keyword.Reserved */\n",
       ".output_html .kt { color: #B00040 } /* Keyword.Type */\n",
       ".output_html .m { color: #666666 } /* Literal.Number */\n",
       ".output_html .s { color: #BA2121 } /* Literal.String */\n",
       ".output_html .na { color: #687822 } /* Name.Attribute */\n",
       ".output_html .nb { color: #008000 } /* Name.Builtin */\n",
       ".output_html .nc { color: #0000FF; font-weight: bold } /* Name.Class */\n",
       ".output_html .no { color: #880000 } /* Name.Constant */\n",
       ".output_html .nd { color: #AA22FF } /* Name.Decorator */\n",
       ".output_html .ni { color: #717171; font-weight: bold } /* Name.Entity */\n",
       ".output_html .ne { color: #CB3F38; font-weight: bold } /* Name.Exception */\n",
       ".output_html .nf { color: #0000FF } /* Name.Function */\n",
       ".output_html .nl { color: #767600 } /* Name.Label */\n",
       ".output_html .nn { color: #0000FF; font-weight: bold } /* Name.Namespace */\n",
       ".output_html .nt { color: #008000; font-weight: bold } /* Name.Tag */\n",
       ".output_html .nv { color: #19177C } /* Name.Variable */\n",
       ".output_html .ow { color: #AA22FF; font-weight: bold } /* Operator.Word */\n",
       ".output_html .w { color: #bbbbbb } /* Text.Whitespace */\n",
       ".output_html .mb { color: #666666 } /* Literal.Number.Bin */\n",
       ".output_html .mf { color: #666666 } /* Literal.Number.Float */\n",
       ".output_html .mh { color: #666666 } /* Literal.Number.Hex */\n",
       ".output_html .mi { color: #666666 } /* Literal.Number.Integer */\n",
       ".output_html .mo { color: #666666 } /* Literal.Number.Oct */\n",
       ".output_html .sa { color: #BA2121 } /* Literal.String.Affix */\n",
       ".output_html .sb { color: #BA2121 } /* Literal.String.Backtick */\n",
       ".output_html .sc { color: #BA2121 } /* Literal.String.Char */\n",
       ".output_html .dl { color: #BA2121 } /* Literal.String.Delimiter */\n",
       ".output_html .sd { color: #BA2121; font-style: italic } /* Literal.String.Doc */\n",
       ".output_html .s2 { color: #BA2121 } /* Literal.String.Double */\n",
       ".output_html .se { color: #AA5D1F; font-weight: bold } /* Literal.String.Escape */\n",
       ".output_html .sh { color: #BA2121 } /* Literal.String.Heredoc */\n",
       ".output_html .si { color: #A45A77; font-weight: bold } /* Literal.String.Interpol */\n",
       ".output_html .sx { color: #008000 } /* Literal.String.Other */\n",
       ".output_html .sr { color: #A45A77 } /* Literal.String.Regex */\n",
       ".output_html .s1 { color: #BA2121 } /* Literal.String.Single */\n",
       ".output_html .ss { color: #19177C } /* Literal.String.Symbol */\n",
       ".output_html .bp { color: #008000 } /* Name.Builtin.Pseudo */\n",
       ".output_html .fm { color: #0000FF } /* Name.Function.Magic */\n",
       ".output_html .vc { color: #19177C } /* Name.Variable.Class */\n",
       ".output_html .vg { color: #19177C } /* Name.Variable.Global */\n",
       ".output_html .vi { color: #19177C } /* Name.Variable.Instance */\n",
       ".output_html .vm { color: #19177C } /* Name.Variable.Magic */\n",
       ".output_html .il { color: #666666 } /* Literal.Number.Integer.Long */</style><div class=\"highlight\"><pre><span></span><span class=\"c1\">// ./structure/array_of_objects.c:59-67 (9 lines)</span>\n",
       "<span class=\"c1\">//START_SELECT</span>\n",
       "<span class=\"w\">    </span><span class=\"k\">for</span><span class=\"p\">(</span><span class=\"n\">i</span><span class=\"o\">=</span><span class=\"mi\">0</span><span class=\"p\">;</span><span class=\"n\">i</span><span class=\"o\">&lt;</span><span class=\"n\">homework_items</span><span class=\"p\">;</span><span class=\"w\"> </span><span class=\"n\">i</span><span class=\"o\">++</span><span class=\"p\">)</span><span class=\"w\"></span>\n",
       "<span class=\"w\">    </span><span class=\"p\">{</span><span class=\"w\"></span>\n",
       "<span class=\"w\">      </span><span class=\"n\">gradesheet</span><span class=\"p\">[</span><span class=\"n\">total_number_students</span><span class=\"p\">].</span><span class=\"n\">homework</span><span class=\"p\">[</span><span class=\"n\">i</span><span class=\"p\">]</span><span class=\"w\"> </span><span class=\"o\">=</span><span class=\"w\"> </span><span class=\"mf\">0.0</span><span class=\"p\">;</span><span class=\"w\"></span>\n",
       "<span class=\"w\">      </span><span class=\"k\">for</span><span class=\"p\">(</span><span class=\"n\">j</span><span class=\"o\">=</span><span class=\"mi\">0</span><span class=\"p\">;</span><span class=\"n\">j</span><span class=\"o\">&lt;</span><span class=\"n\">total_number_students</span><span class=\"p\">;</span><span class=\"n\">j</span><span class=\"o\">++</span><span class=\"p\">)</span><span class=\"w\"></span>\n",
       "<span class=\"w\">        </span><span class=\"n\">gradesheet</span><span class=\"p\">[</span><span class=\"n\">total_number_students</span><span class=\"p\">].</span><span class=\"n\">homework</span><span class=\"p\">[</span><span class=\"n\">i</span><span class=\"p\">]</span><span class=\"w\"> </span><span class=\"o\">+=</span><span class=\"n\">gradesheet</span><span class=\"p\">[</span><span class=\"n\">j</span><span class=\"p\">].</span><span class=\"n\">homework</span><span class=\"p\">[</span><span class=\"n\">i</span><span class=\"p\">];</span><span class=\"w\"></span>\n",
       "<span class=\"w\">      </span><span class=\"n\">gradesheet</span><span class=\"p\">[</span><span class=\"n\">total_number_students</span><span class=\"p\">].</span><span class=\"n\">homework</span><span class=\"p\">[</span><span class=\"n\">i</span><span class=\"p\">]</span><span class=\"w\"> </span><span class=\"o\">/=</span><span class=\"w\"> </span><span class=\"p\">(</span><span class=\"kt\">double</span><span class=\"p\">)</span><span class=\"n\">total_number_students</span><span class=\"p\">;</span><span class=\"w\"></span>\n",
       "<span class=\"w\">    </span><span class=\"p\">}</span><span class=\"w\"></span>\n",
       "<span class=\"c1\">//END_SELECT</span>\n",
       "</pre></div>\n",
       "</div><div class='side-by-side-pane'><style>pre { line-height: 125%; }\n",
       "td.linenos .normal { color: inherit; background-color: transparent; padding-left: 5px; padding-right: 5px; }\n",
       "span.linenos { color: inherit; background-color: transparent; padding-left: 5px; padding-right: 5px; }\n",
       "td.linenos .special { color: #000000; background-color: #ffffc0; padding-left: 5px; padding-right: 5px; }\n",
       "span.linenos.special { color: #000000; background-color: #ffffc0; padding-left: 5px; padding-right: 5px; }\n",
       ".output_html .hll { background-color: #ffffcc }\n",
       ".output_html { background: #f8f8f8; }\n",
       ".output_html .c { color: #3D7B7B; font-style: italic } /* Comment */\n",
       ".output_html .err { border: 1px solid #FF0000 } /* Error */\n",
       ".output_html .k { color: #008000; font-weight: bold } /* Keyword */\n",
       ".output_html .o { color: #666666 } /* Operator */\n",
       ".output_html .ch { color: #3D7B7B; font-style: italic } /* Comment.Hashbang */\n",
       ".output_html .cm { color: #3D7B7B; font-style: italic } /* Comment.Multiline */\n",
       ".output_html .cp { color: #9C6500 } /* Comment.Preproc */\n",
       ".output_html .cpf { color: #3D7B7B; font-style: italic } /* Comment.PreprocFile */\n",
       ".output_html .c1 { color: #3D7B7B; font-style: italic } /* Comment.Single */\n",
       ".output_html .cs { color: #3D7B7B; font-style: italic } /* Comment.Special */\n",
       ".output_html .gd { color: #A00000 } /* Generic.Deleted */\n",
       ".output_html .ge { font-style: italic } /* Generic.Emph */\n",
       ".output_html .gr { color: #E40000 } /* Generic.Error */\n",
       ".output_html .gh { color: #000080; font-weight: bold } /* Generic.Heading */\n",
       ".output_html .gi { color: #008400 } /* Generic.Inserted */\n",
       ".output_html .go { color: #717171 } /* Generic.Output */\n",
       ".output_html .gp { color: #000080; font-weight: bold } /* Generic.Prompt */\n",
       ".output_html .gs { font-weight: bold } /* Generic.Strong */\n",
       ".output_html .gu { color: #800080; font-weight: bold } /* Generic.Subheading */\n",
       ".output_html .gt { color: #0044DD } /* Generic.Traceback */\n",
       ".output_html .kc { color: #008000; font-weight: bold } /* Keyword.Constant */\n",
       ".output_html .kd { color: #008000; font-weight: bold } /* Keyword.Declaration */\n",
       ".output_html .kn { color: #008000; font-weight: bold } /* Keyword.Namespace */\n",
       ".output_html .kp { color: #008000 } /* Keyword.Pseudo */\n",
       ".output_html .kr { color: #008000; font-weight: bold } /* Keyword.Reserved */\n",
       ".output_html .kt { color: #B00040 } /* Keyword.Type */\n",
       ".output_html .m { color: #666666 } /* Literal.Number */\n",
       ".output_html .s { color: #BA2121 } /* Literal.String */\n",
       ".output_html .na { color: #687822 } /* Name.Attribute */\n",
       ".output_html .nb { color: #008000 } /* Name.Builtin */\n",
       ".output_html .nc { color: #0000FF; font-weight: bold } /* Name.Class */\n",
       ".output_html .no { color: #880000 } /* Name.Constant */\n",
       ".output_html .nd { color: #AA22FF } /* Name.Decorator */\n",
       ".output_html .ni { color: #717171; font-weight: bold } /* Name.Entity */\n",
       ".output_html .ne { color: #CB3F38; font-weight: bold } /* Name.Exception */\n",
       ".output_html .nf { color: #0000FF } /* Name.Function */\n",
       ".output_html .nl { color: #767600 } /* Name.Label */\n",
       ".output_html .nn { color: #0000FF; font-weight: bold } /* Name.Namespace */\n",
       ".output_html .nt { color: #008000; font-weight: bold } /* Name.Tag */\n",
       ".output_html .nv { color: #19177C } /* Name.Variable */\n",
       ".output_html .ow { color: #AA22FF; font-weight: bold } /* Operator.Word */\n",
       ".output_html .w { color: #bbbbbb } /* Text.Whitespace */\n",
       ".output_html .mb { color: #666666 } /* Literal.Number.Bin */\n",
       ".output_html .mf { color: #666666 } /* Literal.Number.Float */\n",
       ".output_html .mh { color: #666666 } /* Literal.Number.Hex */\n",
       ".output_html .mi { color: #666666 } /* Literal.Number.Integer */\n",
       ".output_html .mo { color: #666666 } /* Literal.Number.Oct */\n",
       ".output_html .sa { color: #BA2121 } /* Literal.String.Affix */\n",
       ".output_html .sb { color: #BA2121 } /* Literal.String.Backtick */\n",
       ".output_html .sc { color: #BA2121 } /* Literal.String.Char */\n",
       ".output_html .dl { color: #BA2121 } /* Literal.String.Delimiter */\n",
       ".output_html .sd { color: #BA2121; font-style: italic } /* Literal.String.Doc */\n",
       ".output_html .s2 { color: #BA2121 } /* Literal.String.Double */\n",
       ".output_html .se { color: #AA5D1F; font-weight: bold } /* Literal.String.Escape */\n",
       ".output_html .sh { color: #BA2121 } /* Literal.String.Heredoc */\n",
       ".output_html .si { color: #A45A77; font-weight: bold } /* Literal.String.Interpol */\n",
       ".output_html .sx { color: #008000 } /* Literal.String.Other */\n",
       ".output_html .sr { color: #A45A77 } /* Literal.String.Regex */\n",
       ".output_html .s1 { color: #BA2121 } /* Literal.String.Single */\n",
       ".output_html .ss { color: #19177C } /* Literal.String.Symbol */\n",
       ".output_html .bp { color: #008000 } /* Name.Builtin.Pseudo */\n",
       ".output_html .fm { color: #0000FF } /* Name.Function.Magic */\n",
       ".output_html .vc { color: #19177C } /* Name.Variable.Class */\n",
       ".output_html .vg { color: #19177C } /* Name.Variable.Global */\n",
       ".output_html .vi { color: #19177C } /* Name.Variable.Instance */\n",
       ".output_html .vm { color: #19177C } /* Name.Variable.Magic */\n",
       ".output_html .il { color: #666666 } /* Literal.Number.Integer.Long */</style><div class=\"highlight\"><pre><span></span><span class=\"c1\">// structure/object_of_arrays.c:65-75 (11 lines)</span>\n",
       "<span class=\"c1\">//START_SELECT</span>\n",
       "<span class=\"w\">    </span><span class=\"k\">for</span><span class=\"p\">(</span><span class=\"n\">i</span><span class=\"w\"> </span><span class=\"o\">=</span><span class=\"w\"> </span><span class=\"mi\">0</span><span class=\"p\">;</span><span class=\"n\">i</span><span class=\"w\"> </span><span class=\"o\">&lt;</span><span class=\"w\"> </span><span class=\"n\">homework_items</span><span class=\"p\">;</span><span class=\"w\"> </span><span class=\"n\">i</span><span class=\"o\">++</span><span class=\"p\">)</span><span class=\"w\"></span>\n",
       "<span class=\"w\">    </span><span class=\"p\">{</span><span class=\"w\"></span>\n",
       "<span class=\"w\">      </span><span class=\"n\">gradesheet</span><span class=\"p\">.</span><span class=\"n\">homework</span><span class=\"p\">[</span><span class=\"n\">i</span><span class=\"p\">][</span><span class=\"n\">total_number_students</span><span class=\"p\">]</span><span class=\"w\"> </span><span class=\"o\">=</span><span class=\"w\"> </span><span class=\"mf\">0.0</span><span class=\"p\">;</span><span class=\"w\"></span>\n",
       "<span class=\"w\">      </span><span class=\"k\">for</span><span class=\"p\">(</span><span class=\"n\">j</span><span class=\"w\"> </span><span class=\"o\">=</span><span class=\"w\"> </span><span class=\"mi\">0</span><span class=\"p\">;</span><span class=\"w\"> </span><span class=\"n\">j</span><span class=\"w\"> </span><span class=\"o\">&lt;</span><span class=\"w\"> </span><span class=\"n\">total_number_students</span><span class=\"p\">;</span><span class=\"n\">j</span><span class=\"o\">++</span><span class=\"p\">)</span><span class=\"w\"></span>\n",
       "<span class=\"w\">      </span><span class=\"p\">{</span><span class=\"w\"></span>\n",
       "<span class=\"w\">        </span><span class=\"n\">gradesheet</span><span class=\"p\">.</span><span class=\"n\">homework</span><span class=\"p\">[</span><span class=\"n\">i</span><span class=\"p\">][</span><span class=\"n\">total_number_students</span><span class=\"p\">]</span><span class=\"w\"> </span><span class=\"o\">+=</span><span class=\"w\"> </span><span class=\"n\">gradesheet</span><span class=\"p\">.</span><span class=\"n\">homework</span><span class=\"p\">[</span><span class=\"n\">i</span><span class=\"p\">][</span><span class=\"n\">j</span><span class=\"p\">];</span><span class=\"w\"></span>\n",
       "<span class=\"w\">      </span><span class=\"p\">}</span><span class=\"w\"></span>\n",
       "<span class=\"w\">      </span><span class=\"n\">gradesheet</span><span class=\"p\">.</span><span class=\"n\">homework</span><span class=\"p\">[</span><span class=\"n\">i</span><span class=\"p\">][</span><span class=\"n\">total_number_students</span><span class=\"p\">]</span><span class=\"w\"> </span><span class=\"o\">/=</span><span class=\"w\"> </span><span class=\"n\">total_number_students</span><span class=\"p\">;</span><span class=\"w\"></span>\n",
       "<span class=\"w\">    </span><span class=\"p\">}</span><span class=\"w\"></span>\n",
       "<span class=\"c1\">//END_SELECT</span>\n",
       "</pre></div>\n",
       "</div>\n",
       "        </div>\n",
       "    "
      ],
      "text/plain": [
       "<IPython.core.display.HTML object>"
      ]
     },
     "execution_count": 16,
     "metadata": {},
     "output_type": "execute_result"
    }
   ],
   "source": [
    "compare([do_render_code(\"./structure/array_of_objects.c\", show=[\"//START_SELECT\",\"//END_SELECT\"]),do_render_code(\"structure/object_of_arrays.c\", show=[\"//START_SELECT\",\"//END_SELECT\"])])"
   ]
  },
  {
   "cell_type": "markdown",
   "id": "a61f5e96-4e58-4a0d-b1d5-cf5cbee50e96",
   "metadata": {},
   "source": [
    "Which one is better?"
   ]
  },
  {
   "cell_type": "code",
   "execution_count": 17,
   "id": "618b4f4b-3ffa-47a0-bdb4-5fcb0a6b8c7b",
   "metadata": {},
   "outputs": [
    {
     "name": "stdout",
     "output_type": "stream",
     "text": [
      "make: 'array_of_objects' is up to date.\r\n",
      "make: 'object_of_arrays' is up to date.\r\n"
     ]
    }
   ],
   "source": [
    "! cd structure; make array_of_objects; make object_of_arrays"
   ]
  },
  {
   "cell_type": "code",
   "execution_count": 18,
   "id": "d08de696-4737-4fea-bfd5-a4943e9f15fd",
   "metadata": {},
   "outputs": [
    {
     "name": "stdout",
     "output_type": "stream",
     "text": [
      "array of objects\n",
      "\n",
      "real\t0m7.606s\n",
      "user\t0m7.177s\n",
      "sys\t0m0.428s\n",
      "object of arrays\n",
      "\n",
      "real\t0m1.994s\n",
      "user\t0m1.568s\n",
      "sys\t0m0.424s\n"
     ]
    }
   ],
   "source": [
    "! cd structure; echo \"array of objects\"; time ./array_of_objects 28800 10000 0; echo \"object of arrays\"; time ./object_of_arrays 28800 10000 0"
   ]
  },
  {
   "cell_type": "markdown",
   "id": "4b7eb776-cf2c-4536-b02d-df171c988cae",
   "metadata": {},
   "source": [
    "Let's try a different machine now."
   ]
  },
  {
   "cell_type": "markdown",
   "id": "684fb01c-1aa2-47e7-8213-85524d0b1a11",
   "metadata": {},
   "source": [
    "## Loop fusion/fission/interchance"
   ]
  },
  {
   "cell_type": "markdown",
   "id": "99c64c46-a69d-4b8f-8ea5-d43dfc91aecc",
   "metadata": {},
   "source": [
    "In a very early lecture, we've learned the order of traversing loop matters a lot! It's actually the very first optimization in making your code cache friendly --\n",
    "\n",
    "### Loop Interchange"
   ]
  },
  {
   "cell_type": "code",
   "execution_count": null,
   "id": "bad9acc6-916c-4829-94ab-318541a6e366",
   "metadata": {},
   "outputs": [],
   "source": [
    "compare([do_render_code(\"madd/madd_A.c\",show=[\"//START\",\"//END\"]),do_render_code(\"madd/madd_B.c\",show=[\"//START\",\"//END\"])])"
   ]
  },
  {
   "cell_type": "markdown",
   "id": "c98d2a20-6fbc-484e-84a7-a7b9391a5cbc",
   "metadata": {},
   "source": [
    "Do you remember the code that let Jetson Nano suffer? What if we change it to the right hand side?\n",
    "\n",
    "### Loop Fission"
   ]
  },
  {
   "cell_type": "code",
   "execution_count": null,
   "id": "30fdc003-109f-4b34-9641-da862c20ee81",
   "metadata": {},
   "outputs": [],
   "source": [
    "compare([do_render_code(\"loop/loop.c\",show=[\"#else\",\"#endif\"]),do_render_code(\"loop/loop.c\",show=[\"#ifdef A\",\"#else\"])])"
   ]
  },
  {
   "cell_type": "code",
   "execution_count": 23,
   "id": "0e30e9be-8101-4d41-b759-39659943508f",
   "metadata": {},
   "outputs": [
    {
     "name": "stdout",
     "output_type": "stream",
     "text": [
      "rm -f loop_A loop_B\n",
      "gcc -DHAVE_LINUX_PERF_EVENT_H -g -O3  -DA loop.c -o loop_A\n",
      "gcc -DHAVE_LINUX_PERF_EVENT_H -g -O3  loop.c -o loop_B\n",
      "^C\n"
     ]
    }
   ],
   "source": [
    "! ssh htseng@nano-2 \"cd courses/CS203/demo/memory/loop; make clean; make; valgrind --tool=cachegrind ./loop_B 524288 >& nano_B.perf;  grep 'D   refs\\|D1' nano_B.perf; valgrind --tool=cachegrind ./loop_A 524288 >& nano_A.perf ; grep 'D   refs\\|D1' nano_A.perf\""
   ]
  },
  {
   "cell_type": "markdown",
   "id": "a56783b5-6086-4ccc-a26b-73b7b430941c",
   "metadata": {},
   "source": [
    "What if we run it on an intel processor?"
   ]
  },
  {
   "cell_type": "code",
   "execution_count": 24,
   "id": "239227fc-57be-4457-8737-b3cbc2e9676b",
   "metadata": {},
   "outputs": [
    {
     "name": "stdout",
     "output_type": "stream",
     "text": [
      "rm -f loop_A loop_B\n",
      "gcc -DHAVE_LINUX_PERF_EVENT_H -g -O3  -DA loop.c -o loop_A\n",
      "gcc -DHAVE_LINUX_PERF_EVENT_H -g -O3  loop.c -o loop_B\n",
      "==3824527== D   refs:       75,294,260  (53,785,498 rd   + 21,508,762 wr)\n",
      "==3824527== D1  misses:        724,120  (   330,238 rd   +    393,882 wr)\n",
      "==3824527== D1  miss rate:         1.0% (       0.6%     +        1.8%  )\n",
      "==3824529== D   refs:       74,769,966  (53,523,351 rd   + 21,246,615 wr)\n",
      "==3824529== D1  misses:        658,584  (   264,700 rd   +    393,884 wr)\n",
      "==3824529== D1  miss rate:         0.9% (       0.5%     +        1.9%  )\n"
     ]
    }
   ],
   "source": [
    "! cd ~/courses/CS203/demo/memory/loop; make clean; make; valgrind --tool=cachegrind ./loop_B 524288 >& intel_B.perf;  grep 'D   refs\\|D1' intel_B.perf; valgrind --tool=cachegrind ./loop_A 524288 >& intel_A.perf ; grep 'D   refs\\|D1' intel_A.perf"
   ]
  },
  {
   "cell_type": "code",
   "execution_count": null,
   "id": "86d5c2cd",
   "metadata": {},
   "outputs": [],
   "source": [
    "cd ~/courses/CS203/demo/memory/loop; make clean; make; ./loop_B 524288   grep 'D   refs\\|D1' intel_B.perf; valgrind --tool=cachegrind ./loop_A 524288 >& intel_A.perf ; grep "
   ]
  },
  {
   "cell_type": "markdown",
   "id": "0a52e651-d0c0-451f-9566-285ab0766187",
   "metadata": {},
   "source": [
    "## Case study: matrix multiplications\n",
    "\n",
    "GEMM that computes C = A $\\times$ B is the core of many AI/ML applications. The most naive implementation of GEMM takes $O(n^3)$. Assume it takes 1 second to perform GEMM on 1,024$\\times$1,024$\\times$1,024 matrices. How much time do you expect it would take for 2,048$\\times$2,048$\\times$2,048 matrices?"
   ]
  },
  {
   "cell_type": "code",
   "execution_count": 28,
   "id": "417ac0a5-08d2-46e5-8588-29271f93f37d",
   "metadata": {},
   "outputs": [
    {
     "data": {
      "text/html": [
       "<style>pre { line-height: 125%; }\n",
       "td.linenos .normal { color: inherit; background-color: transparent; padding-left: 5px; padding-right: 5px; }\n",
       "span.linenos { color: inherit; background-color: transparent; padding-left: 5px; padding-right: 5px; }\n",
       "td.linenos .special { color: #000000; background-color: #ffffc0; padding-left: 5px; padding-right: 5px; }\n",
       "span.linenos.special { color: #000000; background-color: #ffffc0; padding-left: 5px; padding-right: 5px; }\n",
       ".output_html .hll { background-color: #ffffcc }\n",
       ".output_html { background: #f8f8f8; }\n",
       ".output_html .c { color: #3D7B7B; font-style: italic } /* Comment */\n",
       ".output_html .err { border: 1px solid #FF0000 } /* Error */\n",
       ".output_html .k { color: #008000; font-weight: bold } /* Keyword */\n",
       ".output_html .o { color: #666666 } /* Operator */\n",
       ".output_html .ch { color: #3D7B7B; font-style: italic } /* Comment.Hashbang */\n",
       ".output_html .cm { color: #3D7B7B; font-style: italic } /* Comment.Multiline */\n",
       ".output_html .cp { color: #9C6500 } /* Comment.Preproc */\n",
       ".output_html .cpf { color: #3D7B7B; font-style: italic } /* Comment.PreprocFile */\n",
       ".output_html .c1 { color: #3D7B7B; font-style: italic } /* Comment.Single */\n",
       ".output_html .cs { color: #3D7B7B; font-style: italic } /* Comment.Special */\n",
       ".output_html .gd { color: #A00000 } /* Generic.Deleted */\n",
       ".output_html .ge { font-style: italic } /* Generic.Emph */\n",
       ".output_html .gr { color: #E40000 } /* Generic.Error */\n",
       ".output_html .gh { color: #000080; font-weight: bold } /* Generic.Heading */\n",
       ".output_html .gi { color: #008400 } /* Generic.Inserted */\n",
       ".output_html .go { color: #717171 } /* Generic.Output */\n",
       ".output_html .gp { color: #000080; font-weight: bold } /* Generic.Prompt */\n",
       ".output_html .gs { font-weight: bold } /* Generic.Strong */\n",
       ".output_html .gu { color: #800080; font-weight: bold } /* Generic.Subheading */\n",
       ".output_html .gt { color: #0044DD } /* Generic.Traceback */\n",
       ".output_html .kc { color: #008000; font-weight: bold } /* Keyword.Constant */\n",
       ".output_html .kd { color: #008000; font-weight: bold } /* Keyword.Declaration */\n",
       ".output_html .kn { color: #008000; font-weight: bold } /* Keyword.Namespace */\n",
       ".output_html .kp { color: #008000 } /* Keyword.Pseudo */\n",
       ".output_html .kr { color: #008000; font-weight: bold } /* Keyword.Reserved */\n",
       ".output_html .kt { color: #B00040 } /* Keyword.Type */\n",
       ".output_html .m { color: #666666 } /* Literal.Number */\n",
       ".output_html .s { color: #BA2121 } /* Literal.String */\n",
       ".output_html .na { color: #687822 } /* Name.Attribute */\n",
       ".output_html .nb { color: #008000 } /* Name.Builtin */\n",
       ".output_html .nc { color: #0000FF; font-weight: bold } /* Name.Class */\n",
       ".output_html .no { color: #880000 } /* Name.Constant */\n",
       ".output_html .nd { color: #AA22FF } /* Name.Decorator */\n",
       ".output_html .ni { color: #717171; font-weight: bold } /* Name.Entity */\n",
       ".output_html .ne { color: #CB3F38; font-weight: bold } /* Name.Exception */\n",
       ".output_html .nf { color: #0000FF } /* Name.Function */\n",
       ".output_html .nl { color: #767600 } /* Name.Label */\n",
       ".output_html .nn { color: #0000FF; font-weight: bold } /* Name.Namespace */\n",
       ".output_html .nt { color: #008000; font-weight: bold } /* Name.Tag */\n",
       ".output_html .nv { color: #19177C } /* Name.Variable */\n",
       ".output_html .ow { color: #AA22FF; font-weight: bold } /* Operator.Word */\n",
       ".output_html .w { color: #bbbbbb } /* Text.Whitespace */\n",
       ".output_html .mb { color: #666666 } /* Literal.Number.Bin */\n",
       ".output_html .mf { color: #666666 } /* Literal.Number.Float */\n",
       ".output_html .mh { color: #666666 } /* Literal.Number.Hex */\n",
       ".output_html .mi { color: #666666 } /* Literal.Number.Integer */\n",
       ".output_html .mo { color: #666666 } /* Literal.Number.Oct */\n",
       ".output_html .sa { color: #BA2121 } /* Literal.String.Affix */\n",
       ".output_html .sb { color: #BA2121 } /* Literal.String.Backtick */\n",
       ".output_html .sc { color: #BA2121 } /* Literal.String.Char */\n",
       ".output_html .dl { color: #BA2121 } /* Literal.String.Delimiter */\n",
       ".output_html .sd { color: #BA2121; font-style: italic } /* Literal.String.Doc */\n",
       ".output_html .s2 { color: #BA2121 } /* Literal.String.Double */\n",
       ".output_html .se { color: #AA5D1F; font-weight: bold } /* Literal.String.Escape */\n",
       ".output_html .sh { color: #BA2121 } /* Literal.String.Heredoc */\n",
       ".output_html .si { color: #A45A77; font-weight: bold } /* Literal.String.Interpol */\n",
       ".output_html .sx { color: #008000 } /* Literal.String.Other */\n",
       ".output_html .sr { color: #A45A77 } /* Literal.String.Regex */\n",
       ".output_html .s1 { color: #BA2121 } /* Literal.String.Single */\n",
       ".output_html .ss { color: #19177C } /* Literal.String.Symbol */\n",
       ".output_html .bp { color: #008000 } /* Name.Builtin.Pseudo */\n",
       ".output_html .fm { color: #0000FF } /* Name.Function.Magic */\n",
       ".output_html .vc { color: #19177C } /* Name.Variable.Class */\n",
       ".output_html .vg { color: #19177C } /* Name.Variable.Global */\n",
       ".output_html .vi { color: #19177C } /* Name.Variable.Instance */\n",
       ".output_html .vm { color: #19177C } /* Name.Variable.Magic */\n",
       ".output_html .il { color: #666666 } /* Literal.Number.Integer.Long */</style><div class=\"highlight\"><pre><span></span><span class=\"c1\">// matrix_mul/mm.c:71-92 (22 lines)</span>\n",
       "<span class=\"c1\">//START</span>\n",
       "<span class=\"kt\">void</span><span class=\"w\"> </span><span class=\"nf\">mm</span><span class=\"p\">(</span><span class=\"kt\">double</span><span class=\"w\"> </span><span class=\"o\">**</span><span class=\"n\">a</span><span class=\"p\">,</span><span class=\"w\"> </span><span class=\"kt\">double</span><span class=\"w\"> </span><span class=\"o\">**</span><span class=\"n\">b</span><span class=\"p\">,</span><span class=\"w\"> </span><span class=\"kt\">double</span><span class=\"w\"> </span><span class=\"o\">**</span><span class=\"n\">c</span><span class=\"p\">)</span><span class=\"w\"></span>\n",
       "<span class=\"p\">{</span><span class=\"w\"></span>\n",
       "<span class=\"w\">  </span><span class=\"kt\">int</span><span class=\"w\"> </span><span class=\"n\">i</span><span class=\"p\">,</span><span class=\"n\">j</span><span class=\"p\">,</span><span class=\"n\">k</span><span class=\"p\">;</span><span class=\"w\"></span>\n",
       "<span class=\"w\">  </span><span class=\"k\">for</span><span class=\"p\">(</span><span class=\"n\">i</span><span class=\"w\"> </span><span class=\"o\">=</span><span class=\"w\"> </span><span class=\"mi\">0</span><span class=\"p\">;</span><span class=\"w\"> </span><span class=\"n\">i</span><span class=\"w\"> </span><span class=\"o\">&lt;</span><span class=\"w\"> </span><span class=\"n\">ARRAY_SIZE</span><span class=\"p\">;</span><span class=\"w\"> </span><span class=\"n\">i</span><span class=\"o\">++</span><span class=\"p\">)</span><span class=\"w\"></span>\n",
       "<span class=\"w\">  </span><span class=\"p\">{</span><span class=\"w\"></span>\n",
       "<span class=\"w\">    </span><span class=\"k\">for</span><span class=\"p\">(</span><span class=\"n\">j</span><span class=\"w\"> </span><span class=\"o\">=</span><span class=\"w\"> </span><span class=\"mi\">0</span><span class=\"p\">;</span><span class=\"w\"> </span><span class=\"n\">j</span><span class=\"w\"> </span><span class=\"o\">&lt;</span><span class=\"w\"> </span><span class=\"n\">ARRAY_SIZE</span><span class=\"p\">;</span><span class=\"w\"> </span><span class=\"n\">j</span><span class=\"o\">++</span><span class=\"p\">)</span><span class=\"w\"></span>\n",
       "<span class=\"w\">    </span><span class=\"p\">{</span><span class=\"w\"></span>\n",
       "<span class=\"w\">      </span><span class=\"k\">for</span><span class=\"p\">(</span><span class=\"n\">k</span><span class=\"w\"> </span><span class=\"o\">=</span><span class=\"w\"> </span><span class=\"mi\">0</span><span class=\"p\">;</span><span class=\"w\"> </span><span class=\"n\">k</span><span class=\"w\"> </span><span class=\"o\">&lt;</span><span class=\"w\"> </span><span class=\"n\">ARRAY_SIZE</span><span class=\"p\">;</span><span class=\"w\"> </span><span class=\"n\">k</span><span class=\"o\">++</span><span class=\"p\">)</span><span class=\"w\"></span>\n",
       "<span class=\"w\">      </span><span class=\"p\">{</span><span class=\"w\"></span>\n",
       "<span class=\"w\">        </span><span class=\"n\">c</span><span class=\"p\">[</span><span class=\"n\">i</span><span class=\"p\">][</span><span class=\"n\">j</span><span class=\"p\">]</span><span class=\"w\"> </span><span class=\"o\">+=</span><span class=\"w\"> </span><span class=\"n\">a</span><span class=\"p\">[</span><span class=\"n\">i</span><span class=\"p\">][</span><span class=\"n\">k</span><span class=\"p\">]</span><span class=\"o\">*</span><span class=\"n\">b</span><span class=\"p\">[</span><span class=\"n\">k</span><span class=\"p\">][</span><span class=\"n\">j</span><span class=\"p\">];</span><span class=\"w\"></span>\n",
       "<span class=\"w\">        </span><span class=\"cp\">#ifdef DUMP</span>\n",
       "<span class=\"w\">          </span><span class=\"n\">fprintf</span><span class=\"p\">(</span><span class=\"n\">stderr</span><span class=\"p\">,</span><span class=\"w\"> </span><span class=\"s\">&quot;a[%d][%d], %p</span><span class=\"se\">\\n</span><span class=\"s\">&quot;</span><span class=\"p\">,</span><span class=\"n\">i</span><span class=\"p\">,</span><span class=\"n\">k</span><span class=\"p\">,</span><span class=\"w\"> </span><span class=\"o\">&amp;</span><span class=\"n\">a</span><span class=\"p\">[</span><span class=\"n\">i</span><span class=\"p\">][</span><span class=\"n\">k</span><span class=\"p\">]);</span><span class=\"w\"></span>\n",
       "<span class=\"w\">          </span><span class=\"n\">fprintf</span><span class=\"p\">(</span><span class=\"n\">stderr</span><span class=\"p\">,</span><span class=\"w\"> </span><span class=\"s\">&quot;b[%d][%d], %p</span><span class=\"se\">\\n</span><span class=\"s\">&quot;</span><span class=\"p\">,</span><span class=\"n\">k</span><span class=\"p\">,</span><span class=\"n\">j</span><span class=\"p\">,</span><span class=\"w\"> </span><span class=\"o\">&amp;</span><span class=\"n\">b</span><span class=\"p\">[</span><span class=\"n\">k</span><span class=\"p\">][</span><span class=\"n\">j</span><span class=\"p\">]);</span><span class=\"w\"></span>\n",
       "<span class=\"w\">          </span><span class=\"n\">fprintf</span><span class=\"p\">(</span><span class=\"n\">stderr</span><span class=\"p\">,</span><span class=\"w\"> </span><span class=\"s\">&quot;c[%d][%d], %p</span><span class=\"se\">\\n</span><span class=\"s\">&quot;</span><span class=\"p\">,</span><span class=\"n\">i</span><span class=\"p\">,</span><span class=\"n\">j</span><span class=\"p\">,</span><span class=\"w\"> </span><span class=\"o\">&amp;</span><span class=\"n\">c</span><span class=\"p\">[</span><span class=\"n\">i</span><span class=\"p\">][</span><span class=\"n\">j</span><span class=\"p\">]);</span><span class=\"w\"></span>\n",
       "<span class=\"w\">        </span><span class=\"cp\">#endif</span>\n",
       "<span class=\"w\">      </span><span class=\"p\">}</span><span class=\"w\"></span>\n",
       "<span class=\"w\">    </span><span class=\"p\">}</span><span class=\"w\"></span>\n",
       "<span class=\"w\">  </span><span class=\"p\">}</span><span class=\"w\"></span>\n",
       "<span class=\"w\">  </span><span class=\"k\">return</span><span class=\"p\">;</span><span class=\"w\"></span>\n",
       "<span class=\"p\">}</span><span class=\"w\"></span>\n",
       "<span class=\"c1\">//END</span>\n",
       "</pre></div>\n"
      ],
      "text/latex": [
       "\\begin{Verbatim}[commandchars=\\\\\\{\\}]\n",
       "\\PY{c+c1}{// matrix\\PYZus{}mul/mm.c:71\\PYZhy{}92 (22 lines)}\n",
       "\\PY{c+c1}{//START}\n",
       "\\PY{k+kt}{void}\\PY{+w}{ }\\PY{n+nf}{mm}\\PY{p}{(}\\PY{k+kt}{double}\\PY{+w}{ }\\PY{o}{*}\\PY{o}{*}\\PY{n}{a}\\PY{p}{,}\\PY{+w}{ }\\PY{k+kt}{double}\\PY{+w}{ }\\PY{o}{*}\\PY{o}{*}\\PY{n}{b}\\PY{p}{,}\\PY{+w}{ }\\PY{k+kt}{double}\\PY{+w}{ }\\PY{o}{*}\\PY{o}{*}\\PY{n}{c}\\PY{p}{)}\n",
       "\\PY{p}{\\PYZob{}}\n",
       "\\PY{+w}{  }\\PY{k+kt}{int}\\PY{+w}{ }\\PY{n}{i}\\PY{p}{,}\\PY{n}{j}\\PY{p}{,}\\PY{n}{k}\\PY{p}{;}\n",
       "\\PY{+w}{  }\\PY{k}{for}\\PY{p}{(}\\PY{n}{i}\\PY{+w}{ }\\PY{o}{=}\\PY{+w}{ }\\PY{l+m+mi}{0}\\PY{p}{;}\\PY{+w}{ }\\PY{n}{i}\\PY{+w}{ }\\PY{o}{\\PYZlt{}}\\PY{+w}{ }\\PY{n}{ARRAY\\PYZus{}SIZE}\\PY{p}{;}\\PY{+w}{ }\\PY{n}{i}\\PY{o}{+}\\PY{o}{+}\\PY{p}{)}\n",
       "\\PY{+w}{  }\\PY{p}{\\PYZob{}}\n",
       "\\PY{+w}{    }\\PY{k}{for}\\PY{p}{(}\\PY{n}{j}\\PY{+w}{ }\\PY{o}{=}\\PY{+w}{ }\\PY{l+m+mi}{0}\\PY{p}{;}\\PY{+w}{ }\\PY{n}{j}\\PY{+w}{ }\\PY{o}{\\PYZlt{}}\\PY{+w}{ }\\PY{n}{ARRAY\\PYZus{}SIZE}\\PY{p}{;}\\PY{+w}{ }\\PY{n}{j}\\PY{o}{+}\\PY{o}{+}\\PY{p}{)}\n",
       "\\PY{+w}{    }\\PY{p}{\\PYZob{}}\n",
       "\\PY{+w}{      }\\PY{k}{for}\\PY{p}{(}\\PY{n}{k}\\PY{+w}{ }\\PY{o}{=}\\PY{+w}{ }\\PY{l+m+mi}{0}\\PY{p}{;}\\PY{+w}{ }\\PY{n}{k}\\PY{+w}{ }\\PY{o}{\\PYZlt{}}\\PY{+w}{ }\\PY{n}{ARRAY\\PYZus{}SIZE}\\PY{p}{;}\\PY{+w}{ }\\PY{n}{k}\\PY{o}{+}\\PY{o}{+}\\PY{p}{)}\n",
       "\\PY{+w}{      }\\PY{p}{\\PYZob{}}\n",
       "\\PY{+w}{        }\\PY{n}{c}\\PY{p}{[}\\PY{n}{i}\\PY{p}{]}\\PY{p}{[}\\PY{n}{j}\\PY{p}{]}\\PY{+w}{ }\\PY{o}{+}\\PY{o}{=}\\PY{+w}{ }\\PY{n}{a}\\PY{p}{[}\\PY{n}{i}\\PY{p}{]}\\PY{p}{[}\\PY{n}{k}\\PY{p}{]}\\PY{o}{*}\\PY{n}{b}\\PY{p}{[}\\PY{n}{k}\\PY{p}{]}\\PY{p}{[}\\PY{n}{j}\\PY{p}{]}\\PY{p}{;}\n",
       "\\PY{+w}{        }\\PY{c+cp}{\\PYZsh{}}\\PY{c+cp}{ifdef DUMP}\n",
       "\\PY{+w}{          }\\PY{n}{fprintf}\\PY{p}{(}\\PY{n}{stderr}\\PY{p}{,}\\PY{+w}{ }\\PY{l+s}{\\PYZdq{}}\\PY{l+s}{a[\\PYZpc{}d][\\PYZpc{}d], \\PYZpc{}p}\\PY{l+s+se}{\\PYZbs{}n}\\PY{l+s}{\\PYZdq{}}\\PY{p}{,}\\PY{n}{i}\\PY{p}{,}\\PY{n}{k}\\PY{p}{,}\\PY{+w}{ }\\PY{o}{\\PYZam{}}\\PY{n}{a}\\PY{p}{[}\\PY{n}{i}\\PY{p}{]}\\PY{p}{[}\\PY{n}{k}\\PY{p}{]}\\PY{p}{)}\\PY{p}{;}\n",
       "\\PY{+w}{          }\\PY{n}{fprintf}\\PY{p}{(}\\PY{n}{stderr}\\PY{p}{,}\\PY{+w}{ }\\PY{l+s}{\\PYZdq{}}\\PY{l+s}{b[\\PYZpc{}d][\\PYZpc{}d], \\PYZpc{}p}\\PY{l+s+se}{\\PYZbs{}n}\\PY{l+s}{\\PYZdq{}}\\PY{p}{,}\\PY{n}{k}\\PY{p}{,}\\PY{n}{j}\\PY{p}{,}\\PY{+w}{ }\\PY{o}{\\PYZam{}}\\PY{n}{b}\\PY{p}{[}\\PY{n}{k}\\PY{p}{]}\\PY{p}{[}\\PY{n}{j}\\PY{p}{]}\\PY{p}{)}\\PY{p}{;}\n",
       "\\PY{+w}{          }\\PY{n}{fprintf}\\PY{p}{(}\\PY{n}{stderr}\\PY{p}{,}\\PY{+w}{ }\\PY{l+s}{\\PYZdq{}}\\PY{l+s}{c[\\PYZpc{}d][\\PYZpc{}d], \\PYZpc{}p}\\PY{l+s+se}{\\PYZbs{}n}\\PY{l+s}{\\PYZdq{}}\\PY{p}{,}\\PY{n}{i}\\PY{p}{,}\\PY{n}{j}\\PY{p}{,}\\PY{+w}{ }\\PY{o}{\\PYZam{}}\\PY{n}{c}\\PY{p}{[}\\PY{n}{i}\\PY{p}{]}\\PY{p}{[}\\PY{n}{j}\\PY{p}{]}\\PY{p}{)}\\PY{p}{;}\n",
       "\\PY{+w}{        }\\PY{c+cp}{\\PYZsh{}}\\PY{c+cp}{endif}\n",
       "\\PY{+w}{      }\\PY{p}{\\PYZcb{}}\n",
       "\\PY{+w}{    }\\PY{p}{\\PYZcb{}}\n",
       "\\PY{+w}{  }\\PY{p}{\\PYZcb{}}\n",
       "\\PY{+w}{  }\\PY{k}{return}\\PY{p}{;}\n",
       "\\PY{p}{\\PYZcb{}}\n",
       "\\PY{c+c1}{//END}\n",
       "\\end{Verbatim}\n"
      ],
      "text/plain": [
       "// matrix_mul/mm.c:71-92 (22 lines)\n",
       "//START\n",
       "void mm(double **a, double **b, double **c)\n",
       "{\n",
       "  int i,j,k;\n",
       "  for(i = 0; i < ARRAY_SIZE; i++)\n",
       "  {\n",
       "    for(j = 0; j < ARRAY_SIZE; j++)\n",
       "    {\n",
       "      for(k = 0; k < ARRAY_SIZE; k++)\n",
       "      {\n",
       "        c[i][j] += a[i][k]*b[k][j];\n",
       "        #ifdef DUMP\n",
       "          fprintf(stderr, \"a[%d][%d], %p\\n\",i,k, &a[i][k]);\n",
       "          fprintf(stderr, \"b[%d][%d], %p\\n\",k,j, &b[k][j]);\n",
       "          fprintf(stderr, \"c[%d][%d], %p\\n\",i,j, &c[i][j]);\n",
       "        #endif\n",
       "      }\n",
       "    }\n",
       "  }\n",
       "  return;\n",
       "}\n",
       "//END"
      ]
     },
     "metadata": {},
     "output_type": "display_data"
    }
   ],
   "source": [
    "render_code(\"matrix_mul/mm.c\", show=[\"//START\",\"//END\"])"
   ]
  },
  {
   "cell_type": "code",
   "execution_count": 33,
   "id": "8a647811-be50-4aed-abaa-36215248b1cd",
   "metadata": {},
   "outputs": [
    {
     "name": "stdout",
     "output_type": "stream",
     "text": [
      "rm -f blockmm mm blockmm_transpose cachegrind.* mm_dump\r\n",
      "gcc -DHAVE_LINUX_PERF_EVENT_H -O3 mm.c perfstats.c -o mm \r\n"
     ]
    }
   ],
   "source": [
    "! cd matrix_mul; make clean; make mm"
   ]
  },
  {
   "cell_type": "code",
   "execution_count": 34,
   "id": "9aca6d8e-5970-44cc-b127-52cfa4486611",
   "metadata": {},
   "outputs": [],
   "source": [
    "! cd matrix_mul; echo \"IC,Cycles,CPI,CT_ns,ET_s,DL1_miss_rate,DL1_misses,DL1_accesses\" > mm.csv\n",
    "! ./matrix_mul/mm 32 >> ./matrix_mul/mm.csv ;./matrix_mul/mm 1024 >> ./matrix_mul/mm.csv ; ./matrix_mul/mm 2048 >> ./matrix_mul/mm.csv\n",
    "#! cs203 job memory \"./matrix_mul/mm 1024 >> ./matrix_mul/mm.csv ; ./matrix_mul/mm 2048 >> ./matrix_mul/mm.csv\""
   ]
  },
  {
   "cell_type": "code",
   "execution_count": 36,
   "id": "15e2200b-8db0-419b-87d0-9be272606946",
   "metadata": {},
   "outputs": [
    {
     "data": {
      "text/html": [
       "<style type=\"text/css\">\n",
       "#T_cb24e_row0_col0, #T_cb24e_row0_col1, #T_cb24e_row0_col2, #T_cb24e_row0_col3, #T_cb24e_row0_col4, #T_cb24e_row0_col5, #T_cb24e_row0_col6, #T_cb24e_row0_col7, #T_cb24e_row1_col0, #T_cb24e_row1_col1, #T_cb24e_row1_col2, #T_cb24e_row1_col3, #T_cb24e_row1_col4, #T_cb24e_row1_col5, #T_cb24e_row1_col6, #T_cb24e_row1_col7, #T_cb24e_row2_col0, #T_cb24e_row2_col1, #T_cb24e_row2_col2, #T_cb24e_row2_col3, #T_cb24e_row2_col4, #T_cb24e_row2_col5, #T_cb24e_row2_col6, #T_cb24e_row2_col7 {\n",
       "  background-color: grey;\n",
       "  font-family: SF Mono;\n",
       "  font-size: 1.4vw;\n",
       "}\n",
       "</style>\n",
       "<table id=\"T_cb24e\">\n",
       "  <thead>\n",
       "    <tr>\n",
       "      <th class=\"blank level0\" >&nbsp;</th>\n",
       "      <th id=\"T_cb24e_level0_col0\" class=\"col_heading level0 col0\" >IC</th>\n",
       "      <th id=\"T_cb24e_level0_col1\" class=\"col_heading level0 col1\" >Cycles</th>\n",
       "      <th id=\"T_cb24e_level0_col2\" class=\"col_heading level0 col2\" >CPI</th>\n",
       "      <th id=\"T_cb24e_level0_col3\" class=\"col_heading level0 col3\" >CT_ns</th>\n",
       "      <th id=\"T_cb24e_level0_col4\" class=\"col_heading level0 col4\" >ET_s</th>\n",
       "      <th id=\"T_cb24e_level0_col5\" class=\"col_heading level0 col5\" >DL1_miss_rate</th>\n",
       "      <th id=\"T_cb24e_level0_col6\" class=\"col_heading level0 col6\" >DL1_misses</th>\n",
       "      <th id=\"T_cb24e_level0_col7\" class=\"col_heading level0 col7\" >DL1_accesses</th>\n",
       "    </tr>\n",
       "  </thead>\n",
       "  <tbody>\n",
       "    <tr>\n",
       "      <th id=\"T_cb24e_level0_row0\" class=\"row_heading level0 row0\" >0</th>\n",
       "      <td id=\"T_cb24e_row0_col0\" class=\"data row0 col0\" >309006</td>\n",
       "      <td id=\"T_cb24e_row0_col1\" class=\"data row0 col1\" >68229</td>\n",
       "      <td id=\"T_cb24e_row0_col2\" class=\"data row0 col2\" >0.220802</td>\n",
       "      <td id=\"T_cb24e_row0_col3\" class=\"data row0 col3\" >0.674200</td>\n",
       "      <td id=\"T_cb24e_row0_col4\" class=\"data row0 col4\" >0.000046</td>\n",
       "      <td id=\"T_cb24e_row0_col5\" class=\"data row0 col5\" >nan</td>\n",
       "      <td id=\"T_cb24e_row0_col6\" class=\"data row0 col6\" >0</td>\n",
       "      <td id=\"T_cb24e_row0_col7\" class=\"data row0 col7\" >0</td>\n",
       "    </tr>\n",
       "    <tr>\n",
       "      <th id=\"T_cb24e_level0_row1\" class=\"row_heading level0 row1\" >1</th>\n",
       "      <td id=\"T_cb24e_row1_col0\" class=\"data row1 col0\" >9674838644</td>\n",
       "      <td id=\"T_cb24e_row1_col1\" class=\"data row1 col1\" >10193211052</td>\n",
       "      <td id=\"T_cb24e_row1_col2\" class=\"data row1 col2\" >1.053579</td>\n",
       "      <td id=\"T_cb24e_row1_col3\" class=\"data row1 col3\" >0.193337</td>\n",
       "      <td id=\"T_cb24e_row1_col4\" class=\"data row1 col4\" >1.970725</td>\n",
       "      <td id=\"T_cb24e_row1_col5\" class=\"data row1 col5\" >nan</td>\n",
       "      <td id=\"T_cb24e_row1_col6\" class=\"data row1 col6\" >0</td>\n",
       "      <td id=\"T_cb24e_row1_col7\" class=\"data row1 col7\" >0</td>\n",
       "    </tr>\n",
       "    <tr>\n",
       "      <th id=\"T_cb24e_level0_row2\" class=\"row_heading level0 row2\" >2</th>\n",
       "      <td id=\"T_cb24e_row2_col0\" class=\"data row2 col0\" >77385811853</td>\n",
       "      <td id=\"T_cb24e_row2_col1\" class=\"data row2 col1\" >125380035832</td>\n",
       "      <td id=\"T_cb24e_row2_col2\" class=\"data row2 col2\" >1.620194</td>\n",
       "      <td id=\"T_cb24e_row2_col3\" class=\"data row2 col3\" >0.193478</td>\n",
       "      <td id=\"T_cb24e_row2_col4\" class=\"data row2 col4\" >24.258225</td>\n",
       "      <td id=\"T_cb24e_row2_col5\" class=\"data row2 col5\" >nan</td>\n",
       "      <td id=\"T_cb24e_row2_col6\" class=\"data row2 col6\" >0</td>\n",
       "      <td id=\"T_cb24e_row2_col7\" class=\"data row2 col7\" >0</td>\n",
       "    </tr>\n",
       "  </tbody>\n",
       "</table>\n"
      ],
      "text/plain": [
       "<pandas.io.formats.style.Styler at 0x7f942f7ffd60>"
      ]
     },
     "metadata": {},
     "output_type": "display_data"
    }
   ],
   "source": [
    "display_df_mono(render_csv(\"matrix_mul/mm.csv\"))"
   ]
  },
  {
   "cell_type": "markdown",
   "id": "af69a45b-e386-459b-b9d6-500b34b2c7b9",
   "metadata": {},
   "source": [
    "WOW! Compuational complexty breaks again! The GEMM performance go wild because of cache misses!"
   ]
  },
  {
   "cell_type": "markdown",
   "id": "43058af3-1a01-4544-af15-183f4bb21b9e",
   "metadata": {},
   "source": [
    "What kind of misses are we seeing?"
   ]
  },
  {
   "cell_type": "code",
   "execution_count": null,
   "id": "4f015c4a-274b-42af-b75f-156d10e9c0e3",
   "metadata": {},
   "outputs": [],
   "source": [
    "! make -C matrix_mul mm_dump; ./matrix_mul/mm_dump 256 >& mm_dump_address.csv"
   ]
  },
  {
   "cell_type": "code",
   "execution_count": null,
   "id": "0a9f1925-e8dc-4d1f-977b-f1d1faacfefb",
   "metadata": {},
   "outputs": [],
   "source": [
    "! echo \"element,address\" > mm_dump_addresses_digest.csv \n",
    "! head -n 101 mm_dump_address.csv | grep \"b\\[\" >> mm_dump_addresses_digest.csv\n",
    "df = pd.read_csv(\"mm_dump_addresses_digest.csv\",skipfooter=1,engine='python')\n",
    "df[\"address\"] = df[\"address\"].str.replace('0x','')\n",
    "df[\"address\"]=df[[\"address\"]].apply(lambda x: x.astype(str).map(lambda x: int(x, base=16)))\n",
    "# only show the first N addresses \n",
    "#N = 32\n",
    "#df2 = df2.iloc[:N]\n",
    "C = 49152\n",
    "B = 64\n",
    "A = 12\n",
    "offset_bits = int(math.log2(B))\n",
    "S = int(C/(B*A))\n",
    "index_bits = int(math.log2(S))\n",
    "df[\"tag\"]=(df[\"address\"].apply(lambda x: x >> (offset_bits+index_bits)))\n",
    "df[\"tag\"] = df[\"tag\"].apply(lambda x: hex(x))\n",
    "df[\"index\"] = df[\"address\"].apply(lambda x: hex((x>>offset_bits)%S))\n",
    "df[\"address\"] = df[\"address\"].apply(lambda x: hex(x))\n",
    "display_df_mono(df)"
   ]
  },
  {
   "cell_type": "markdown",
   "id": "fcee10d0-3f20-43ba-bfaa-3c8565f9518d",
   "metadata": {},
   "source": [
    "### Matrix tiling algorithm\n",
    "\n",
    "Let's try to partition GEMM into smaller tiles!"
   ]
  },
  {
   "cell_type": "code",
   "execution_count": 27,
   "id": "21a51d97-ea84-45ac-a1c0-2c926f47e0ea",
   "metadata": {},
   "outputs": [
    {
     "data": {
      "text/html": [
       "<style>pre { line-height: 125%; }\n",
       "td.linenos .normal { color: inherit; background-color: transparent; padding-left: 5px; padding-right: 5px; }\n",
       "span.linenos { color: inherit; background-color: transparent; padding-left: 5px; padding-right: 5px; }\n",
       "td.linenos .special { color: #000000; background-color: #ffffc0; padding-left: 5px; padding-right: 5px; }\n",
       "span.linenos.special { color: #000000; background-color: #ffffc0; padding-left: 5px; padding-right: 5px; }\n",
       ".output_html .hll { background-color: #ffffcc }\n",
       ".output_html { background: #f8f8f8; }\n",
       ".output_html .c { color: #3D7B7B; font-style: italic } /* Comment */\n",
       ".output_html .err { border: 1px solid #FF0000 } /* Error */\n",
       ".output_html .k { color: #008000; font-weight: bold } /* Keyword */\n",
       ".output_html .o { color: #666666 } /* Operator */\n",
       ".output_html .ch { color: #3D7B7B; font-style: italic } /* Comment.Hashbang */\n",
       ".output_html .cm { color: #3D7B7B; font-style: italic } /* Comment.Multiline */\n",
       ".output_html .cp { color: #9C6500 } /* Comment.Preproc */\n",
       ".output_html .cpf { color: #3D7B7B; font-style: italic } /* Comment.PreprocFile */\n",
       ".output_html .c1 { color: #3D7B7B; font-style: italic } /* Comment.Single */\n",
       ".output_html .cs { color: #3D7B7B; font-style: italic } /* Comment.Special */\n",
       ".output_html .gd { color: #A00000 } /* Generic.Deleted */\n",
       ".output_html .ge { font-style: italic } /* Generic.Emph */\n",
       ".output_html .gr { color: #E40000 } /* Generic.Error */\n",
       ".output_html .gh { color: #000080; font-weight: bold } /* Generic.Heading */\n",
       ".output_html .gi { color: #008400 } /* Generic.Inserted */\n",
       ".output_html .go { color: #717171 } /* Generic.Output */\n",
       ".output_html .gp { color: #000080; font-weight: bold } /* Generic.Prompt */\n",
       ".output_html .gs { font-weight: bold } /* Generic.Strong */\n",
       ".output_html .gu { color: #800080; font-weight: bold } /* Generic.Subheading */\n",
       ".output_html .gt { color: #0044DD } /* Generic.Traceback */\n",
       ".output_html .kc { color: #008000; font-weight: bold } /* Keyword.Constant */\n",
       ".output_html .kd { color: #008000; font-weight: bold } /* Keyword.Declaration */\n",
       ".output_html .kn { color: #008000; font-weight: bold } /* Keyword.Namespace */\n",
       ".output_html .kp { color: #008000 } /* Keyword.Pseudo */\n",
       ".output_html .kr { color: #008000; font-weight: bold } /* Keyword.Reserved */\n",
       ".output_html .kt { color: #B00040 } /* Keyword.Type */\n",
       ".output_html .m { color: #666666 } /* Literal.Number */\n",
       ".output_html .s { color: #BA2121 } /* Literal.String */\n",
       ".output_html .na { color: #687822 } /* Name.Attribute */\n",
       ".output_html .nb { color: #008000 } /* Name.Builtin */\n",
       ".output_html .nc { color: #0000FF; font-weight: bold } /* Name.Class */\n",
       ".output_html .no { color: #880000 } /* Name.Constant */\n",
       ".output_html .nd { color: #AA22FF } /* Name.Decorator */\n",
       ".output_html .ni { color: #717171; font-weight: bold } /* Name.Entity */\n",
       ".output_html .ne { color: #CB3F38; font-weight: bold } /* Name.Exception */\n",
       ".output_html .nf { color: #0000FF } /* Name.Function */\n",
       ".output_html .nl { color: #767600 } /* Name.Label */\n",
       ".output_html .nn { color: #0000FF; font-weight: bold } /* Name.Namespace */\n",
       ".output_html .nt { color: #008000; font-weight: bold } /* Name.Tag */\n",
       ".output_html .nv { color: #19177C } /* Name.Variable */\n",
       ".output_html .ow { color: #AA22FF; font-weight: bold } /* Operator.Word */\n",
       ".output_html .w { color: #bbbbbb } /* Text.Whitespace */\n",
       ".output_html .mb { color: #666666 } /* Literal.Number.Bin */\n",
       ".output_html .mf { color: #666666 } /* Literal.Number.Float */\n",
       ".output_html .mh { color: #666666 } /* Literal.Number.Hex */\n",
       ".output_html .mi { color: #666666 } /* Literal.Number.Integer */\n",
       ".output_html .mo { color: #666666 } /* Literal.Number.Oct */\n",
       ".output_html .sa { color: #BA2121 } /* Literal.String.Affix */\n",
       ".output_html .sb { color: #BA2121 } /* Literal.String.Backtick */\n",
       ".output_html .sc { color: #BA2121 } /* Literal.String.Char */\n",
       ".output_html .dl { color: #BA2121 } /* Literal.String.Delimiter */\n",
       ".output_html .sd { color: #BA2121; font-style: italic } /* Literal.String.Doc */\n",
       ".output_html .s2 { color: #BA2121 } /* Literal.String.Double */\n",
       ".output_html .se { color: #AA5D1F; font-weight: bold } /* Literal.String.Escape */\n",
       ".output_html .sh { color: #BA2121 } /* Literal.String.Heredoc */\n",
       ".output_html .si { color: #A45A77; font-weight: bold } /* Literal.String.Interpol */\n",
       ".output_html .sx { color: #008000 } /* Literal.String.Other */\n",
       ".output_html .sr { color: #A45A77 } /* Literal.String.Regex */\n",
       ".output_html .s1 { color: #BA2121 } /* Literal.String.Single */\n",
       ".output_html .ss { color: #19177C } /* Literal.String.Symbol */\n",
       ".output_html .bp { color: #008000 } /* Name.Builtin.Pseudo */\n",
       ".output_html .fm { color: #0000FF } /* Name.Function.Magic */\n",
       ".output_html .vc { color: #19177C } /* Name.Variable.Class */\n",
       ".output_html .vg { color: #19177C } /* Name.Variable.Global */\n",
       ".output_html .vi { color: #19177C } /* Name.Variable.Instance */\n",
       ".output_html .vm { color: #19177C } /* Name.Variable.Magic */\n",
       ".output_html .il { color: #666666 } /* Literal.Number.Integer.Long */</style><div class=\"highlight\"><pre><span></span><span class=\"c1\">// matrix_mul/blockmm.c:55-73 (19 lines)</span>\n",
       "<span class=\"c1\">//START</span>\n",
       "<span class=\"kt\">void</span><span class=\"w\"> </span><span class=\"nf\">blockmm</span><span class=\"p\">(</span><span class=\"kt\">double</span><span class=\"w\"> </span><span class=\"o\">**</span><span class=\"n\">a</span><span class=\"p\">,</span><span class=\"w\"> </span><span class=\"kt\">double</span><span class=\"w\"> </span><span class=\"o\">**</span><span class=\"n\">b</span><span class=\"p\">,</span><span class=\"w\"> </span><span class=\"kt\">double</span><span class=\"w\"> </span><span class=\"o\">**</span><span class=\"n\">c</span><span class=\"p\">)</span><span class=\"w\"></span>\n",
       "<span class=\"p\">{</span><span class=\"w\"></span>\n",
       "<span class=\"w\">  </span><span class=\"kt\">int</span><span class=\"w\"> </span><span class=\"n\">i</span><span class=\"p\">,</span><span class=\"n\">j</span><span class=\"p\">,</span><span class=\"n\">k</span><span class=\"p\">,</span><span class=\"w\"> </span><span class=\"n\">ii</span><span class=\"p\">,</span><span class=\"w\"> </span><span class=\"n\">jj</span><span class=\"p\">,</span><span class=\"w\"> </span><span class=\"n\">kk</span><span class=\"p\">;</span><span class=\"w\"></span>\n",
       "<span class=\"w\">  </span><span class=\"k\">for</span><span class=\"p\">(</span><span class=\"n\">i</span><span class=\"w\"> </span><span class=\"o\">=</span><span class=\"w\"> </span><span class=\"mi\">0</span><span class=\"p\">;</span><span class=\"w\"> </span><span class=\"n\">i</span><span class=\"w\"> </span><span class=\"o\">&lt;</span><span class=\"w\"> </span><span class=\"n\">ARRAY_SIZE</span><span class=\"p\">;</span><span class=\"w\"> </span><span class=\"n\">i</span><span class=\"o\">+=</span><span class=\"p\">(</span><span class=\"n\">ARRAY_SIZE</span><span class=\"o\">/</span><span class=\"n\">n</span><span class=\"p\">))</span><span class=\"w\"></span>\n",
       "<span class=\"w\">  </span><span class=\"p\">{</span><span class=\"w\"></span>\n",
       "<span class=\"w\">    </span><span class=\"k\">for</span><span class=\"p\">(</span><span class=\"n\">j</span><span class=\"w\"> </span><span class=\"o\">=</span><span class=\"w\"> </span><span class=\"mi\">0</span><span class=\"p\">;</span><span class=\"w\"> </span><span class=\"n\">j</span><span class=\"w\"> </span><span class=\"o\">&lt;</span><span class=\"w\"> </span><span class=\"n\">ARRAY_SIZE</span><span class=\"p\">;</span><span class=\"w\"> </span><span class=\"n\">j</span><span class=\"o\">+=</span><span class=\"p\">(</span><span class=\"n\">ARRAY_SIZE</span><span class=\"o\">/</span><span class=\"n\">n</span><span class=\"p\">))</span><span class=\"w\"></span>\n",
       "<span class=\"w\">    </span><span class=\"p\">{</span><span class=\"w\"></span>\n",
       "<span class=\"w\">      </span><span class=\"k\">for</span><span class=\"p\">(</span><span class=\"n\">k</span><span class=\"w\"> </span><span class=\"o\">=</span><span class=\"w\"> </span><span class=\"mi\">0</span><span class=\"p\">;</span><span class=\"w\"> </span><span class=\"n\">k</span><span class=\"w\"> </span><span class=\"o\">&lt;</span><span class=\"w\"> </span><span class=\"n\">ARRAY_SIZE</span><span class=\"p\">;</span><span class=\"w\"> </span><span class=\"n\">k</span><span class=\"o\">+=</span><span class=\"p\">(</span><span class=\"n\">ARRAY_SIZE</span><span class=\"o\">/</span><span class=\"n\">n</span><span class=\"p\">))</span><span class=\"w\"></span>\n",
       "<span class=\"w\">      </span><span class=\"p\">{</span><span class=\"w\">        </span>\n",
       "<span class=\"w\">          </span><span class=\"k\">for</span><span class=\"p\">(</span><span class=\"n\">ii</span><span class=\"w\"> </span><span class=\"o\">=</span><span class=\"w\"> </span><span class=\"n\">i</span><span class=\"p\">;</span><span class=\"w\"> </span><span class=\"n\">ii</span><span class=\"w\"> </span><span class=\"o\">&lt;</span><span class=\"w\"> </span><span class=\"n\">i</span><span class=\"o\">+</span><span class=\"p\">(</span><span class=\"n\">ARRAY_SIZE</span><span class=\"o\">/</span><span class=\"n\">n</span><span class=\"p\">);</span><span class=\"w\"> </span><span class=\"n\">ii</span><span class=\"o\">++</span><span class=\"p\">)</span><span class=\"w\"></span>\n",
       "<span class=\"w\">            </span><span class=\"k\">for</span><span class=\"p\">(</span><span class=\"n\">jj</span><span class=\"w\"> </span><span class=\"o\">=</span><span class=\"w\"> </span><span class=\"n\">j</span><span class=\"p\">;</span><span class=\"w\"> </span><span class=\"n\">jj</span><span class=\"w\"> </span><span class=\"o\">&lt;</span><span class=\"w\"> </span><span class=\"n\">j</span><span class=\"o\">+</span><span class=\"p\">(</span><span class=\"n\">ARRAY_SIZE</span><span class=\"o\">/</span><span class=\"n\">n</span><span class=\"p\">);</span><span class=\"w\"> </span><span class=\"n\">jj</span><span class=\"o\">++</span><span class=\"p\">)</span><span class=\"w\"></span>\n",
       "<span class=\"w\">              </span><span class=\"k\">for</span><span class=\"p\">(</span><span class=\"n\">kk</span><span class=\"w\"> </span><span class=\"o\">=</span><span class=\"w\"> </span><span class=\"n\">k</span><span class=\"p\">;</span><span class=\"w\"> </span><span class=\"n\">kk</span><span class=\"w\"> </span><span class=\"o\">&lt;</span><span class=\"w\"> </span><span class=\"n\">k</span><span class=\"o\">+</span><span class=\"p\">(</span><span class=\"n\">ARRAY_SIZE</span><span class=\"o\">/</span><span class=\"n\">n</span><span class=\"p\">);</span><span class=\"w\"> </span><span class=\"n\">kk</span><span class=\"o\">++</span><span class=\"p\">)</span><span class=\"w\"></span>\n",
       "<span class=\"w\">                </span><span class=\"n\">c</span><span class=\"p\">[</span><span class=\"n\">ii</span><span class=\"p\">][</span><span class=\"n\">jj</span><span class=\"p\">]</span><span class=\"w\"> </span><span class=\"o\">+=</span><span class=\"w\"> </span><span class=\"n\">a</span><span class=\"p\">[</span><span class=\"n\">ii</span><span class=\"p\">][</span><span class=\"n\">kk</span><span class=\"p\">]</span><span class=\"o\">*</span><span class=\"n\">b</span><span class=\"p\">[</span><span class=\"n\">kk</span><span class=\"p\">][</span><span class=\"n\">jj</span><span class=\"p\">];</span><span class=\"w\"></span>\n",
       "<span class=\"w\">      </span><span class=\"p\">}</span><span class=\"w\"></span>\n",
       "<span class=\"w\">    </span><span class=\"p\">}</span><span class=\"w\"></span>\n",
       "<span class=\"w\">  </span><span class=\"p\">}</span><span class=\"w\">  </span>\n",
       "<span class=\"p\">}</span><span class=\"w\"></span>\n",
       "<span class=\"c1\">//END</span>\n",
       "</pre></div>\n"
      ],
      "text/latex": [
       "\\begin{Verbatim}[commandchars=\\\\\\{\\}]\n",
       "\\PY{c+c1}{// matrix\\PYZus{}mul/blockmm.c:55\\PYZhy{}73 (19 lines)}\n",
       "\\PY{c+c1}{//START}\n",
       "\\PY{k+kt}{void}\\PY{+w}{ }\\PY{n+nf}{blockmm}\\PY{p}{(}\\PY{k+kt}{double}\\PY{+w}{ }\\PY{o}{*}\\PY{o}{*}\\PY{n}{a}\\PY{p}{,}\\PY{+w}{ }\\PY{k+kt}{double}\\PY{+w}{ }\\PY{o}{*}\\PY{o}{*}\\PY{n}{b}\\PY{p}{,}\\PY{+w}{ }\\PY{k+kt}{double}\\PY{+w}{ }\\PY{o}{*}\\PY{o}{*}\\PY{n}{c}\\PY{p}{)}\n",
       "\\PY{p}{\\PYZob{}}\n",
       "\\PY{+w}{  }\\PY{k+kt}{int}\\PY{+w}{ }\\PY{n}{i}\\PY{p}{,}\\PY{n}{j}\\PY{p}{,}\\PY{n}{k}\\PY{p}{,}\\PY{+w}{ }\\PY{n}{ii}\\PY{p}{,}\\PY{+w}{ }\\PY{n}{jj}\\PY{p}{,}\\PY{+w}{ }\\PY{n}{kk}\\PY{p}{;}\n",
       "\\PY{+w}{  }\\PY{k}{for}\\PY{p}{(}\\PY{n}{i}\\PY{+w}{ }\\PY{o}{=}\\PY{+w}{ }\\PY{l+m+mi}{0}\\PY{p}{;}\\PY{+w}{ }\\PY{n}{i}\\PY{+w}{ }\\PY{o}{\\PYZlt{}}\\PY{+w}{ }\\PY{n}{ARRAY\\PYZus{}SIZE}\\PY{p}{;}\\PY{+w}{ }\\PY{n}{i}\\PY{o}{+}\\PY{o}{=}\\PY{p}{(}\\PY{n}{ARRAY\\PYZus{}SIZE}\\PY{o}{/}\\PY{n}{n}\\PY{p}{)}\\PY{p}{)}\n",
       "\\PY{+w}{  }\\PY{p}{\\PYZob{}}\n",
       "\\PY{+w}{    }\\PY{k}{for}\\PY{p}{(}\\PY{n}{j}\\PY{+w}{ }\\PY{o}{=}\\PY{+w}{ }\\PY{l+m+mi}{0}\\PY{p}{;}\\PY{+w}{ }\\PY{n}{j}\\PY{+w}{ }\\PY{o}{\\PYZlt{}}\\PY{+w}{ }\\PY{n}{ARRAY\\PYZus{}SIZE}\\PY{p}{;}\\PY{+w}{ }\\PY{n}{j}\\PY{o}{+}\\PY{o}{=}\\PY{p}{(}\\PY{n}{ARRAY\\PYZus{}SIZE}\\PY{o}{/}\\PY{n}{n}\\PY{p}{)}\\PY{p}{)}\n",
       "\\PY{+w}{    }\\PY{p}{\\PYZob{}}\n",
       "\\PY{+w}{      }\\PY{k}{for}\\PY{p}{(}\\PY{n}{k}\\PY{+w}{ }\\PY{o}{=}\\PY{+w}{ }\\PY{l+m+mi}{0}\\PY{p}{;}\\PY{+w}{ }\\PY{n}{k}\\PY{+w}{ }\\PY{o}{\\PYZlt{}}\\PY{+w}{ }\\PY{n}{ARRAY\\PYZus{}SIZE}\\PY{p}{;}\\PY{+w}{ }\\PY{n}{k}\\PY{o}{+}\\PY{o}{=}\\PY{p}{(}\\PY{n}{ARRAY\\PYZus{}SIZE}\\PY{o}{/}\\PY{n}{n}\\PY{p}{)}\\PY{p}{)}\n",
       "\\PY{+w}{      }\\PY{p}{\\PYZob{}}\\PY{+w}{        }\n",
       "\\PY{+w}{          }\\PY{k}{for}\\PY{p}{(}\\PY{n}{ii}\\PY{+w}{ }\\PY{o}{=}\\PY{+w}{ }\\PY{n}{i}\\PY{p}{;}\\PY{+w}{ }\\PY{n}{ii}\\PY{+w}{ }\\PY{o}{\\PYZlt{}}\\PY{+w}{ }\\PY{n}{i}\\PY{o}{+}\\PY{p}{(}\\PY{n}{ARRAY\\PYZus{}SIZE}\\PY{o}{/}\\PY{n}{n}\\PY{p}{)}\\PY{p}{;}\\PY{+w}{ }\\PY{n}{ii}\\PY{o}{+}\\PY{o}{+}\\PY{p}{)}\n",
       "\\PY{+w}{            }\\PY{k}{for}\\PY{p}{(}\\PY{n}{jj}\\PY{+w}{ }\\PY{o}{=}\\PY{+w}{ }\\PY{n}{j}\\PY{p}{;}\\PY{+w}{ }\\PY{n}{jj}\\PY{+w}{ }\\PY{o}{\\PYZlt{}}\\PY{+w}{ }\\PY{n}{j}\\PY{o}{+}\\PY{p}{(}\\PY{n}{ARRAY\\PYZus{}SIZE}\\PY{o}{/}\\PY{n}{n}\\PY{p}{)}\\PY{p}{;}\\PY{+w}{ }\\PY{n}{jj}\\PY{o}{+}\\PY{o}{+}\\PY{p}{)}\n",
       "\\PY{+w}{              }\\PY{k}{for}\\PY{p}{(}\\PY{n}{kk}\\PY{+w}{ }\\PY{o}{=}\\PY{+w}{ }\\PY{n}{k}\\PY{p}{;}\\PY{+w}{ }\\PY{n}{kk}\\PY{+w}{ }\\PY{o}{\\PYZlt{}}\\PY{+w}{ }\\PY{n}{k}\\PY{o}{+}\\PY{p}{(}\\PY{n}{ARRAY\\PYZus{}SIZE}\\PY{o}{/}\\PY{n}{n}\\PY{p}{)}\\PY{p}{;}\\PY{+w}{ }\\PY{n}{kk}\\PY{o}{+}\\PY{o}{+}\\PY{p}{)}\n",
       "\\PY{+w}{                }\\PY{n}{c}\\PY{p}{[}\\PY{n}{ii}\\PY{p}{]}\\PY{p}{[}\\PY{n}{jj}\\PY{p}{]}\\PY{+w}{ }\\PY{o}{+}\\PY{o}{=}\\PY{+w}{ }\\PY{n}{a}\\PY{p}{[}\\PY{n}{ii}\\PY{p}{]}\\PY{p}{[}\\PY{n}{kk}\\PY{p}{]}\\PY{o}{*}\\PY{n}{b}\\PY{p}{[}\\PY{n}{kk}\\PY{p}{]}\\PY{p}{[}\\PY{n}{jj}\\PY{p}{]}\\PY{p}{;}\n",
       "\\PY{+w}{      }\\PY{p}{\\PYZcb{}}\n",
       "\\PY{+w}{    }\\PY{p}{\\PYZcb{}}\n",
       "\\PY{+w}{  }\\PY{p}{\\PYZcb{}}\\PY{+w}{  }\n",
       "\\PY{p}{\\PYZcb{}}\n",
       "\\PY{c+c1}{//END}\n",
       "\\end{Verbatim}\n"
      ],
      "text/plain": [
       "// matrix_mul/blockmm.c:55-73 (19 lines)\n",
       "//START\n",
       "void blockmm(double **a, double **b, double **c)\n",
       "{\n",
       "  int i,j,k, ii, jj, kk;\n",
       "  for(i = 0; i < ARRAY_SIZE; i+=(ARRAY_SIZE/n))\n",
       "  {\n",
       "    for(j = 0; j < ARRAY_SIZE; j+=(ARRAY_SIZE/n))\n",
       "    {\n",
       "      for(k = 0; k < ARRAY_SIZE; k+=(ARRAY_SIZE/n))\n",
       "      {        \n",
       "          for(ii = i; ii < i+(ARRAY_SIZE/n); ii++)\n",
       "            for(jj = j; jj < j+(ARRAY_SIZE/n); jj++)\n",
       "              for(kk = k; kk < k+(ARRAY_SIZE/n); kk++)\n",
       "                c[ii][jj] += a[ii][kk]*b[kk][jj];\n",
       "      }\n",
       "    }\n",
       "  }  \n",
       "}\n",
       "//END"
      ]
     },
     "metadata": {},
     "output_type": "display_data"
    }
   ],
   "source": [
    "render_code(\"matrix_mul/blockmm.c\", show=[\"//START\",\"//END\"])"
   ]
  },
  {
   "cell_type": "code",
   "execution_count": 37,
   "id": "fc93b8b0-d1cc-4869-ae44-4105527f31bb",
   "metadata": {},
   "outputs": [
    {
     "name": "stdout",
     "output_type": "stream",
     "text": [
      "gcc -O3 -DHAVE_LINUX_PERF_EVENT_H blockmm.c perfstats.c -o blockmm \r\n"
     ]
    }
   ],
   "source": [
    "! cd matrix_mul/; make blockmm"
   ]
  },
  {
   "cell_type": "code",
   "execution_count": 38,
   "id": "b2058144-b212-4078-9a83-d4791cc841e2",
   "metadata": {},
   "outputs": [],
   "source": [
    "! cd matrix_mul; echo \"IC,Cycles,CPI,CT_ns,ET_s,DL1_miss_rate,DL1_misses,DL1_accesses\" > blockmm.csv\n",
    "! ./matrix_mul/blockmm 32 1 >> ./matrix_mul/blockmm.csv ;./matrix_mul/blockmm 1024 256 >> ./matrix_mul/blockmm.csv ; ./matrix_mul/blockmm 2048 256 >> ./matrix_mul/blockmm.csv; ./matrix_mul/blockmm 4096 256 >> ./matrix_mul/blockmm.csv"
   ]
  },
  {
   "cell_type": "code",
   "execution_count": 40,
   "id": "7a26f767-4ec8-4fbe-8fc3-44886bd99adf",
   "metadata": {},
   "outputs": [
    {
     "data": {
      "text/html": [
       "<style type=\"text/css\">\n",
       "#T_eb3f5_row0_col0, #T_eb3f5_row0_col1, #T_eb3f5_row0_col2, #T_eb3f5_row0_col3, #T_eb3f5_row0_col4, #T_eb3f5_row0_col5, #T_eb3f5_row0_col6, #T_eb3f5_row0_col7, #T_eb3f5_row1_col0, #T_eb3f5_row1_col1, #T_eb3f5_row1_col2, #T_eb3f5_row1_col3, #T_eb3f5_row1_col4, #T_eb3f5_row1_col5, #T_eb3f5_row1_col6, #T_eb3f5_row1_col7, #T_eb3f5_row2_col0, #T_eb3f5_row2_col1, #T_eb3f5_row2_col2, #T_eb3f5_row2_col3, #T_eb3f5_row2_col4, #T_eb3f5_row2_col5, #T_eb3f5_row2_col6, #T_eb3f5_row2_col7, #T_eb3f5_row3_col0, #T_eb3f5_row3_col1, #T_eb3f5_row3_col2, #T_eb3f5_row3_col3, #T_eb3f5_row3_col4, #T_eb3f5_row3_col5, #T_eb3f5_row3_col6, #T_eb3f5_row3_col7 {\n",
       "  background-color: grey;\n",
       "  font-family: SF Mono;\n",
       "  font-size: 1.4vw;\n",
       "}\n",
       "</style>\n",
       "<table id=\"T_eb3f5\">\n",
       "  <thead>\n",
       "    <tr>\n",
       "      <th class=\"blank level0\" >&nbsp;</th>\n",
       "      <th id=\"T_eb3f5_level0_col0\" class=\"col_heading level0 col0\" >IC</th>\n",
       "      <th id=\"T_eb3f5_level0_col1\" class=\"col_heading level0 col1\" >Cycles</th>\n",
       "      <th id=\"T_eb3f5_level0_col2\" class=\"col_heading level0 col2\" >CPI</th>\n",
       "      <th id=\"T_eb3f5_level0_col3\" class=\"col_heading level0 col3\" >CT_ns</th>\n",
       "      <th id=\"T_eb3f5_level0_col4\" class=\"col_heading level0 col4\" >ET_s</th>\n",
       "      <th id=\"T_eb3f5_level0_col5\" class=\"col_heading level0 col5\" >DL1_miss_rate</th>\n",
       "      <th id=\"T_eb3f5_level0_col6\" class=\"col_heading level0 col6\" >DL1_misses</th>\n",
       "      <th id=\"T_eb3f5_level0_col7\" class=\"col_heading level0 col7\" >DL1_accesses</th>\n",
       "    </tr>\n",
       "  </thead>\n",
       "  <tbody>\n",
       "    <tr>\n",
       "      <th id=\"T_eb3f5_level0_row0\" class=\"row_heading level0 row0\" >0</th>\n",
       "      <td id=\"T_eb3f5_row0_col0\" class=\"data row0 col0\" >278394</td>\n",
       "      <td id=\"T_eb3f5_row0_col1\" class=\"data row0 col1\" >103603</td>\n",
       "      <td id=\"T_eb3f5_row0_col2\" class=\"data row0 col2\" >0.372145</td>\n",
       "      <td id=\"T_eb3f5_row0_col3\" class=\"data row0 col3\" >0.810787</td>\n",
       "      <td id=\"T_eb3f5_row0_col4\" class=\"data row0 col4\" >0.000084</td>\n",
       "      <td id=\"T_eb3f5_row0_col5\" class=\"data row0 col5\" >nan</td>\n",
       "      <td id=\"T_eb3f5_row0_col6\" class=\"data row0 col6\" >0</td>\n",
       "      <td id=\"T_eb3f5_row0_col7\" class=\"data row0 col7\" >0</td>\n",
       "    </tr>\n",
       "    <tr>\n",
       "      <th id=\"T_eb3f5_level0_row1\" class=\"row_heading level0 row1\" >1</th>\n",
       "      <td id=\"T_eb3f5_row1_col0\" class=\"data row1 col0\" >11847115698</td>\n",
       "      <td id=\"T_eb3f5_row1_col1\" class=\"data row1 col1\" >3746577540</td>\n",
       "      <td id=\"T_eb3f5_row1_col2\" class=\"data row1 col2\" >0.316244</td>\n",
       "      <td id=\"T_eb3f5_row1_col3\" class=\"data row1 col3\" >0.193296</td>\n",
       "      <td id=\"T_eb3f5_row1_col4\" class=\"data row1 col4\" >0.724197</td>\n",
       "      <td id=\"T_eb3f5_row1_col5\" class=\"data row1 col5\" >nan</td>\n",
       "      <td id=\"T_eb3f5_row1_col6\" class=\"data row1 col6\" >0</td>\n",
       "      <td id=\"T_eb3f5_row1_col7\" class=\"data row1 col7\" >0</td>\n",
       "    </tr>\n",
       "    <tr>\n",
       "      <th id=\"T_eb3f5_level0_row2\" class=\"row_heading level0 row2\" >2</th>\n",
       "      <td id=\"T_eb3f5_row2_col0\" class=\"data row2 col0\" >79902245470</td>\n",
       "      <td id=\"T_eb3f5_row2_col1\" class=\"data row2 col1\" >22058547330</td>\n",
       "      <td id=\"T_eb3f5_row2_col2\" class=\"data row2 col2\" >0.276069</td>\n",
       "      <td id=\"T_eb3f5_row2_col3\" class=\"data row2 col3\" >0.193958</td>\n",
       "      <td id=\"T_eb3f5_row2_col4\" class=\"data row2 col4\" >4.278426</td>\n",
       "      <td id=\"T_eb3f5_row2_col5\" class=\"data row2 col5\" >nan</td>\n",
       "      <td id=\"T_eb3f5_row2_col6\" class=\"data row2 col6\" >0</td>\n",
       "      <td id=\"T_eb3f5_row2_col7\" class=\"data row2 col7\" >0</td>\n",
       "    </tr>\n",
       "    <tr>\n",
       "      <th id=\"T_eb3f5_level0_row3\" class=\"row_heading level0 row3\" >3</th>\n",
       "      <td id=\"T_eb3f5_row3_col0\" class=\"data row3 col0\" >591323952231</td>\n",
       "      <td id=\"T_eb3f5_row3_col1\" class=\"data row3 col1\" >160597531461</td>\n",
       "      <td id=\"T_eb3f5_row3_col2\" class=\"data row3 col2\" >0.271590</td>\n",
       "      <td id=\"T_eb3f5_row3_col3\" class=\"data row3 col3\" >0.193495</td>\n",
       "      <td id=\"T_eb3f5_row3_col4\" class=\"data row3 col4\" >31.074844</td>\n",
       "      <td id=\"T_eb3f5_row3_col5\" class=\"data row3 col5\" >nan</td>\n",
       "      <td id=\"T_eb3f5_row3_col6\" class=\"data row3 col6\" >0</td>\n",
       "      <td id=\"T_eb3f5_row3_col7\" class=\"data row3 col7\" >0</td>\n",
       "    </tr>\n",
       "  </tbody>\n",
       "</table>\n"
      ],
      "text/plain": [
       "<pandas.io.formats.style.Styler at 0x7f94751b8730>"
      ]
     },
     "metadata": {},
     "output_type": "display_data"
    }
   ],
   "source": [
    "display_df_mono(render_csv(\"matrix_mul/blockmm.csv\"))"
   ]
  },
  {
   "cell_type": "code",
   "execution_count": null,
   "id": "51b7c23c-47a8-42e3-8516-f4532ac3262a",
   "metadata": {},
   "outputs": [],
   "source": [
    "render_code(\"matrix_mul/blockmm_transpose.c\", show=[\"//START\",\"//END\"])"
   ]
  },
  {
   "cell_type": "markdown",
   "id": "5d4faa6b-52de-46eb-b0f4-08dfdadfd417",
   "metadata": {},
   "source": [
    "### Matrix transpose"
   ]
  },
  {
   "cell_type": "code",
   "execution_count": null,
   "id": "5c07d0c2-5ebe-4216-be39-6811e1a750d0",
   "metadata": {},
   "outputs": [],
   "source": [
    "! cd matrix_mul; make blockmm_transpose; echo \"IC,Cycles,CPI,CT_ns,ET_s,DL1_miss_rate,DL1_misses,DL1_accesses\" > blockmm_transpose.csv\n",
    "! ./matrix_mul/blockmm_transpose 32 1 >> ./matrix_mul/blockmm_transpose.csv ;./matrix_mul/blockmm_transpose 1024 256 >> ./matrix_mul/blockmm_transpose.csv ; ./matrix_mul/blockmm_transpose 2048 256 >> ./matrix_mul/blockmm_transpose.csv; ./matrix_mul/blockmm_transpose 4096 256 >> ./matrix_mul/blockmm_transpose.csv"
   ]
  },
  {
   "cell_type": "code",
   "execution_count": null,
   "id": "09894d15-4010-4141-baa8-973ee83e21e2",
   "metadata": {},
   "outputs": [],
   "source": [
    "display_df_mono(render_csv(\"matrix_mul/blockmm_transpose.csv\"))"
   ]
  },
  {
   "cell_type": "code",
   "execution_count": null,
   "id": "5ae71517-c2d9-4306-805f-92b76c8d84c1",
   "metadata": {},
   "outputs": [],
   "source": []
  },
  {
   "cell_type": "markdown",
   "id": "526255a8-f3ad-4b84-adee-3f0d499a435a",
   "metadata": {
    "tags": []
   },
   "source": [
    "## Prefetch\n",
    "\n",
    "x86 provide prefetch instructions. As a programmer, you may insert ```_mm_prefetch``` in x86 programs to perform software prefetch for your code. The gcc compiler also has a flag ```-fprefetch-loop-arrays``` to automatically insert software prefetch instructions.\n",
    "\n",
    "### Using prefetch in matrix transpose code\n",
    "\n",
    "The following example is a highly optimized matrix transpose code. In the example, we try to prefetch the next row."
   ]
  },
  {
   "cell_type": "code",
   "execution_count": null,
   "id": "feb979c6-f041-4804-a625-2f2a0ad02907",
   "metadata": {},
   "outputs": [],
   "source": [
    "render_code(\"./prefetch/transpose.cpp\", lang=\"c++\", show=[\"//START\", \"//END\"])"
   ]
  },
  {
   "cell_type": "markdown",
   "id": "2a7568f3-ed56-4aa4-bb81-8a4ad8dc1a58",
   "metadata": {
    "tags": []
   },
   "source": [
    "Now, let's take a look of what's happening!"
   ]
  },
  {
   "cell_type": "code",
   "execution_count": null,
   "id": "a08adabf-7bf6-4b54-925a-bebc309b28e0",
   "metadata": {},
   "outputs": [],
   "source": [
    "! cd prefetch; make clean; make\n",
    "# ! echo \"Without prefetch -- the baseline\"; ssh htseng@celebi \"lscpu | grep Model; cd courses/CS203/demo/memory/prefetch/; ./transpose\"\n",
    "! echo \"Without prefetch -- the baseline\"\n",
    "! lscpu | grep Model\n",
    "! ./prefetch/transpose"
   ]
  },
  {
   "cell_type": "code",
   "execution_count": null,
   "id": "ad70fea6-7c21-4e39-a40d-0cbae39bb176",
   "metadata": {
    "tags": []
   },
   "outputs": [],
   "source": [
    "# ! echo \"With prefetch\"; ssh htseng@celebi \" cd courses/CS203/demo/memory/prefetch/; ./transpose_prefetch\"\n",
    "! echo \"With prefetch\"\n",
    "! ./prefetch/transpose_prefetch"
   ]
  },
  {
   "cell_type": "code",
   "execution_count": null,
   "id": "4024cd80-7ef1-4966-9e98-44f3f9f8238c",
   "metadata": {},
   "outputs": [],
   "source": [
    "#! cd prefetch; make clean; make; lscpu | grep Model\n",
    "#! echo \"Without prefetch -- the baseline\"; cd prefetch/; ./transpose\n",
    "#! echo \"With prefetch\"; cd prefetch/; ./transpose_prefetch\n",
    "! ssh htseng@ninetales \"cd /nfshome/htseng/courses/CS203/demo/memory/; make -C ./prefetch clean; make -C ./prefetch ; lscpu | grep Model\"\n",
    "! echo \"Without prefetch -- the baseline\"; ssh htseng@ninetales  \"/nfshome/htseng/courses/CS203/demo/memory/prefetch/transpose\"\n",
    "! echo \"With prefetch\";  ssh htseng@ninetales  \"/nfshome/htseng/courses/CS203/demo/memory/prefetch/transpose_prefetch\""
   ]
  },
  {
   "cell_type": "markdown",
   "id": "770d6b96-dd68-4b41-9ad1-d7d47527e31b",
   "metadata": {},
   "source": [
    "\n",
    "-- It doesn't work always!"
   ]
  },
  {
   "cell_type": "markdown",
   "id": "ad5748eb-5aac-4676-963e-4d1eb626cfc1",
   "metadata": {},
   "source": [
    "### How much space does the following data structures need in physical memory?"
   ]
  },
  {
   "cell_type": "code",
   "execution_count": null,
   "id": "088c8e9c-e333-48d5-a845-e9001e8a4986",
   "metadata": {},
   "outputs": [],
   "source": [
    "compare([do_render_code(\"./structure/memory_usage.c\", show=[\"//START_1\",\"//END_1\"]),do_render_code(\"structure/memory_usage.c\", show=\"main\")])"
   ]
  },
  {
   "cell_type": "code",
   "execution_count": null,
   "id": "ea5111d0-597d-4c2d-bf7b-c27959d2ec1a",
   "metadata": {},
   "outputs": [],
   "source": [
    "! cd structure; make clean; make memory_usage_A; ./memory_usage_A"
   ]
  },
  {
   "cell_type": "markdown",
   "id": "29a7e0fc-6af8-4cd8-82d3-f136e293d2fc",
   "metadata": {},
   "source": [
    "Now, let's rearrange the data structure a little bit and see what's going on!"
   ]
  },
  {
   "cell_type": "code",
   "execution_count": null,
   "id": "2f7ff099-16f1-4029-9ad6-6ac419c4afa1",
   "metadata": {},
   "outputs": [],
   "source": [
    "compare([do_render_code(\"./structure/memory_usage.c\", show=[\"//START_1\",\"//END_1\"]),do_render_code(\"structure/memory_usage.c\", show=[\"START_2\",\"END_2\"])])\n",
    "! cd structure; make memory_usage_B; ./memory_usage_B"
   ]
  }
 ],
 "metadata": {
  "kernelspec": {
   "display_name": "Python 3 (ipykernel)",
   "language": "python",
   "name": "python3"
  },
  "language_info": {
   "codemirror_mode": {
    "name": "ipython",
    "version": 3
   },
   "file_extension": ".py",
   "mimetype": "text/x-python",
   "name": "python",
   "nbconvert_exporter": "python",
   "pygments_lexer": "ipython3",
   "version": "3.8.10"
  },
  "widgets": {
   "application/vnd.jupyter.widget-state+json": {
    "state": {},
    "version_major": 2,
    "version_minor": 0
   }
  }
 },
 "nbformat": 4,
 "nbformat_minor": 5
}
