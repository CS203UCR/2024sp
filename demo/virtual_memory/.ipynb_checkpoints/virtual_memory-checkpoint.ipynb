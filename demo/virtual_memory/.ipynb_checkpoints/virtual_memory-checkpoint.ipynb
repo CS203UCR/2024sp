{
 "cells": [
  {
   "cell_type": "code",
   "execution_count": 2,
   "id": "a7b71d3c-90d0-4e35-951b-8b15ca3e392b",
   "metadata": {
    "deletable": false,
    "editable": false,
    "init_cell": true,
    "tags": []
   },
   "outputs": [
    {
     "data": {
      "text/html": [
       "<style>h1 {font-size: 2vw;} h2 {font-size: 1.5vw;} p {font-size: 1.4vw;} div.prompt, code, output, prompt, kbd, pre, samp {font-family: 'SF Mono', 'Courier New', Courier, monospace, sans-serif !important;font-size: 1.4vw !important;}</style>"
      ],
      "text/plain": [
       "<IPython.core.display.HTML object>"
      ]
     },
     "metadata": {},
     "output_type": "display_data"
    }
   ],
   "source": [
    "# Please execute/shift-return this cell everytime you run the notebook.  Don't edit it. \n",
    "%load_ext autoreload\n",
    "%autoreload 2\n",
    "from notebook import * "
   ]
  },
  {
   "cell_type": "markdown",
   "id": "0df8e935-5148-4902-a1b6-7294eab2008c",
   "metadata": {},
   "source": [
    "# Virtual Memory\n",
    "\n",
    "What if we run the following program on a machine with 32GB memory?"
   ]
  },
  {
   "cell_type": "code",
   "execution_count": 1,
   "id": "6a22c43b-e2d3-4632-bf24-430129469b66",
   "metadata": {},
   "outputs": [
    {
     "ename": "NameError",
     "evalue": "name 'render_code' is not defined",
     "output_type": "error",
     "traceback": [
      "\u001b[0;31m---------------------------------------------------------------------------\u001b[0m",
      "\u001b[0;31mNameError\u001b[0m                                 Traceback (most recent call last)",
      "Cell \u001b[0;32mIn [1], line 1\u001b[0m\n\u001b[0;32m----> 1\u001b[0m \u001b[43mrender_code\u001b[49m(\u001b[38;5;124m\"\u001b[39m\u001b[38;5;124mmemory_allocation.c\u001b[39m\u001b[38;5;124m\"\u001b[39m)\n",
      "\u001b[0;31mNameError\u001b[0m: name 'render_code' is not defined"
     ]
    }
   ],
   "source": [
    "render_code(\"memory_allocation.c\")"
   ]
  },
  {
   "cell_type": "code",
   "execution_count": null,
   "id": "f6498495-38d0-45a9-9bdd-f34a2d725472",
   "metadata": {},
   "outputs": [
    {
     "name": "stdout",
     "output_type": "stream",
     "text": [
      "              total        used        free      shared  buff/cache   available\n",
      "Mem:          31981        2711        2981           7       26288       28592\n",
      "Swap:        133119         178      132941\n",
      "make: 'memory_allocation' is up to date.\n"
     ]
    }
   ],
   "source": [
    "! ssh htseng@xerneas \"free -m ; cd courses/CS203/demo/virtual_memory/; make ./memory_allocation; ./memory_allocation 70000\""
   ]
  },
  {
   "cell_type": "markdown",
   "id": "1aa4d421-0fe4-45d8-81dd-38db06446d16",
   "metadata": {},
   "source": [
    "What's the output of the following code if we run 4 instances at the same time?"
   ]
  },
  {
   "cell_type": "code",
   "execution_count": null,
   "id": "57812afe-d983-4279-be6f-eacdc10ccc12",
   "metadata": {},
   "outputs": [],
   "source": [
    "render_code(\"virtualization.c\")"
   ]
  },
  {
   "cell_type": "code",
   "execution_count": null,
   "id": "40f823f6-e6c3-4ced-845e-9024781f94df",
   "metadata": {},
   "outputs": [],
   "source": [
    "! make ; cs203 job run \"./virtualization 4\""
   ]
  },
  {
   "cell_type": "code",
   "execution_count": null,
   "id": "4b89ac79-9148-47aa-9833-7a8e078d3c58",
   "metadata": {},
   "outputs": [],
   "source": []
  }
 ],
 "metadata": {
  "kernelspec": {
   "display_name": "Python 3 (ipykernel)",
   "language": "python",
   "name": "python3"
  },
  "language_info": {
   "codemirror_mode": {
    "name": "ipython",
    "version": 3
   },
   "file_extension": ".py",
   "mimetype": "text/x-python",
   "name": "python",
   "nbconvert_exporter": "python",
   "pygments_lexer": "ipython3",
   "version": "3.8.10"
  },
  "widgets": {
   "application/vnd.jupyter.widget-state+json": {
    "state": {},
    "version_major": 2,
    "version_minor": 0
   }
  }
 },
 "nbformat": 4,
 "nbformat_minor": 5
}
